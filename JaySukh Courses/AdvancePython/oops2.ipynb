{
 "cells": [
  {
   "cell_type": "markdown",
   "metadata": {},
   "source": [
    "# Data Hiding\n",
    "    In an object oriented python program, you can restrict access to methods and variables. \n",
    "\n",
    "    This can prevent the data from being modified by accident and is known as encapsulation. \n",
    "\n",
    "    An object's attributes may or may not be visible outside the class definition. You need to name attributes with a double underscore prefix, and those attributes then will not be directly visible to outsiders.\n",
    "\n",
    "    Python protects those members by internally changing the name to include the class name. You can access such attributes as object._className__attrName.\n",
    "    "
   ]
  },
  {
   "cell_type": "markdown",
   "metadata": {},
   "source": [
    "### Private methods\n",
    "\n",
    "    Restricted accesss to methods\n",
    "    Encapsulation prevents from accessing accidentally, but not intentionally."
   ]
  },
  {
   "cell_type": "markdown",
   "metadata": {},
   "source": [
    "### Private variables\n",
    "    Variables can be private which can be useful on many occasions. \n",
    "\n",
    "    A private variable can only be changed within a class method and not outside of the class.\n",
    "\n",
    "    Objects can hold crucial data for your application and you do not want that data to be changeable from anywhere in the code."
   ]
  },
  {
   "cell_type": "code",
   "execution_count": 1,
   "metadata": {},
   "outputs": [
    {
     "name": "stdout",
     "output_type": "stream",
     "text": [
      "driving. maxspeed  200\n",
      "Car type  Supercar\n",
      "driving. maxspeed  200\n",
      "Car type  Supercar\n",
      "driving. maxspeed  -100\n",
      "Car type  Bad Car\n"
     ]
    }
   ],
   "source": [
    "#Example of Private variable\n",
    "class Car:\n",
    " \n",
    "    __maxspeed = 0#private variable\n",
    "    __name = \"\"#private variable\n",
    " \n",
    "    def __init__(self):\n",
    "        self.__maxspeed = 200\n",
    "        self.__name = \"Supercar\"\n",
    " \n",
    "    def drive(self):\n",
    "        print ('driving. maxspeed ',self.__maxspeed)\n",
    "        print ('Car type ' , self.__name)\n",
    " \n",
    "redcar = Car()\n",
    "redcar.drive()\n",
    "\n",
    "redcar.__maxspeed = 30  # will not change variable because its private\n",
    "redcar.__name = \"Bad Car\"  # will not change variable because its private\n",
    "redcar.drive()\n",
    "\n",
    "redcar._Car__maxspeed = -100  # It will change the value of maxspeed\n",
    "redcar._Car__name = \"Bad Car\"  # It will change the value of maxspeed\n",
    "redcar.drive()\n",
    "\n"
   ]
  },
  {
   "cell_type": "code",
   "execution_count": 2,
   "metadata": {},
   "outputs": [
    {
     "name": "stdout",
     "output_type": "stream",
     "text": [
      "driving. maxspeed 200\n",
      "Car Type Supercar\n",
      "Negative speed is not allowed\n",
      "driving. maxspeed 200\n",
      "Car Type Supercar\n",
      "200\n",
      "driving. maxspeed 320\n",
      "Car Type Supercar\n",
      "driving. maxspeed 320\n",
      "Car Type Luxury car\n",
      "Luxury car\n"
     ]
    }
   ],
   "source": [
    "#If you want to change the value of a private variable, a setter method is used.\n",
    "#This is simply a method that sets the value of a private variable.'''\n",
    "class Car:\n",
    "        __maxspeed = 0\n",
    "        __name = \"\"\n",
    "        def __init__(self):\n",
    "                self.__maxspeed = 200\n",
    "                self.__name = \"Supercar\"\n",
    "        def drive(self):\n",
    "                print('driving. maxspeed ' + str(self.__maxspeed))\n",
    "                print('Car Type ' + str(self.__name))\n",
    "\n",
    "        def setMaxSpeed(self,speed):\n",
    "                if speed<0:\n",
    "                        print(\"Negative speed is not allowed\")\n",
    "                else:\n",
    "                        self.__maxspeed = speed\n",
    "        def getMaxSpeed(self):\n",
    "                return self.__maxspeed\n",
    "        def setName(self,name):\n",
    "                self.__name = name\n",
    "        def getName(self):\n",
    "                return self.__name\n",
    " \n",
    "redcar = Car()\n",
    "redcar.drive()\n",
    "\n",
    "redcar.setMaxSpeed(-320)\n",
    "redcar.drive()\n",
    "\n",
    "print(redcar.getMaxSpeed())\n",
    "redcar.setMaxSpeed(320)\n",
    "redcar.drive()\n",
    "redcar.setName(\"Luxury car\")\n",
    "redcar.drive()\n",
    "print(redcar.getName())\n",
    "\n",
    "\n",
    "\n"
   ]
  },
  {
   "cell_type": "code",
   "execution_count": 5,
   "metadata": {},
   "outputs": [
    {
     "name": "stdout",
     "output_type": "stream",
     "text": [
      "updating software\n",
      "updating software\n",
      "driving\n",
      "updating software\n"
     ]
    }
   ],
   "source": [
    "#We create a class Car which has two methods:  drive() and updateSoftware().  \n",
    "#When a car object is created, it will call the private methods __updateSoftware().  \n",
    "#This function cannot be called on the object directly, only from within the class.\n",
    "\n",
    "#The private attributes and methods are not really hidden, they’re renamed adding “_Car” in the beginning of their name.\n",
    "#The method can actually be called using redcar._Car__updateSoftware()\n",
    "\n",
    "\n",
    "\n",
    "class Car:\n",
    "        def __init__(self):\n",
    "                self.__updateSoftware()\n",
    "        def drive(self):\n",
    "                self.__updateSoftware()\n",
    "                print ('driving')\n",
    "        def __updateSoftware(self):#private function or method\n",
    "                print ('updating software')\n",
    " \n",
    "redcar = Car()\n",
    "redcar.drive()\n",
    "#redcar.__updateSoftware()  #not accesible from object.\n",
    "#redcar._Car__updateSoftware()\n",
    "\n"
   ]
  },
  {
   "cell_type": "markdown",
   "metadata": {},
   "source": [
    "# Method overloading\n",
    "    Several ways to call a method (method overloading).\n",
    "    \n",
    "    In Python you can define a method in such a way that there are multiple ways to call it.\n",
    "    \n",
    "    Given a single method or function, we can specify the number of parameters ourself.\n",
    "    \n",
    "    Depending on the function definition, it can be called with zero, one, two or more parameters.\n",
    "    \n",
    "    This is known as method overloading. "
   ]
  },
  {
   "cell_type": "code",
   "execution_count": 6,
   "metadata": {},
   "outputs": [
    {
     "name": "stdout",
     "output_type": "stream",
     "text": [
      "0\n",
      "10\n",
      "30\n",
      "60\n",
      "100\n",
      "150\n",
      "210\n"
     ]
    }
   ],
   "source": [
    "#example of method overloading\n",
    "def add(a=0,b=0,c=0,d=0,e=0,f=0):\n",
    "    return a+b+c+d+e+f\n",
    "\n",
    "print(add())\n",
    "print(add(10))\n",
    "print(add(10,20))\n",
    "print(add(10,20,30))\n",
    "print(add(10,20,30,40))\n",
    "print(add(10,20,30,40,50))\n",
    "print(add(10,20,30,40,50,60))"
   ]
  },
  {
   "cell_type": "code",
   "execution_count": 7,
   "metadata": {},
   "outputs": [
    {
     "name": "stdout",
     "output_type": "stream",
     "text": [
      "Hello \n",
      "Hello Jaysukh Patel\n",
      "60\n",
      "135\n",
      "76\n",
      "106\n"
     ]
    }
   ],
   "source": [
    "\n",
    "#We create a class with one method sayHello(). \n",
    "#The first parameter of this method is set to None,\n",
    "#this gives us the option to call it with or without a parameter.\n",
    "#An object is created based on the class,\n",
    "#and we call its method using zero and one parameter.'''\n",
    "\n",
    " \n",
    "class Human:\n",
    " \n",
    "    def sayHello(self, name=None):\n",
    " \n",
    "        if name is not None:\n",
    "            print ('Hello ' + name)\n",
    "        else:\n",
    "            print ('Hello ')\n",
    "    def add(self,a=10,b=20,c=30):\n",
    "                return a+b+c\n",
    " \n",
    "# Create instance\n",
    "obj = Human()\n",
    " \n",
    "# Call the method\n",
    "obj.sayHello()\n",
    " \n",
    "# Call the method with a parameter\n",
    "obj.sayHello('Jaysukh Patel')\n",
    "\n",
    "print(obj.add())\n",
    "print(obj.add(23,45,67))\n",
    "print(obj.add(12,34))\n",
    "print(obj.add(56))\n",
    "\n",
    "\n"
   ]
  },
  {
   "cell_type": "markdown",
   "metadata": {},
   "source": [
    "# Inheritance\n",
    "    Classes can inherit functionality of other classes. \n",
    "\n",
    "    If an object is created using a class that inherits from a superclass, the object will contain the methods of both the class and the superclass. \n",
    "\n",
    "    The same holds true for variables of both the superclass and the class that inherits from the super class.\n",
    "\n",
    "    Python supports inheritance from multiple classes.\n",
    "    \n",
    "    \n",
    "\n"
   ]
  },
  {
   "cell_type": "markdown",
   "metadata": {},
   "source": [
    "### Syntax\n",
    "    class SubClassName (ParentClass1[, ParentClass2, ...]):\n",
    "        'Optional class documentation string'\n",
    "        class_suite\n",
    "\n",
    "    In a similar way, you can drive a class from multiple parent classes as follows −\n",
    "    class A:        # define your class A\n",
    "    .....\n",
    "\n",
    "    class B:         # define your calss B\n",
    "    .....\n",
    "\n",
    "    class C(A, B):   # subclass of A and B\n",
    "    .....\n",
    "    You can use issubclass() or isinstance() functions to check a relationships of two classes and instances.\n",
    "\n",
    "    The issubclass(sub, sup) boolean function returns True, if the given subclass sub is indeed a subclass of the superclass sup.\n",
    "\n",
    "    The isinstance(obj, Class) boolean function returns True, if obj is an instance of class Class or is an instance of a subclass of Class\n"
   ]
  },
  {
   "cell_type": "code",
   "execution_count": 8,
   "metadata": {},
   "outputs": [
    {
     "name": "stdout",
     "output_type": "stream",
     "text": [
      "Id =  1\n",
      "Name =  jay\n",
      "Salary =  15000\n",
      "Department =  HR\n",
      "Phone =  54645765\n",
      "Enter your id1001\n",
      "Enter your namekiran\n",
      "Enter your salary25000\n",
      "Enter your departmentreserch\n",
      "Enter your phone number12345678\n",
      "Id =  1001\n",
      "Name =  kiran\n",
      "Salary =  25000\n",
      "Department =  reserch\n",
      "Phone =  12345678\n",
      "25000\n",
      "30000\n"
     ]
    }
   ],
   "source": [
    "#single level inheritance\n",
    "class emp:\n",
    "    def __init__(self):\n",
    "        self.id=1\n",
    "        self.name=\"jay\"\n",
    "        self.salary=15000\n",
    "    def setdata(self):\n",
    "        self.id=int(input(\"Enter your id\"))\n",
    "        self.name=input(\"Enter your name\")\n",
    "        self.salary=int(input(\"Enter your salary\"))\n",
    "    def showdata(self):\n",
    "        print(\"Id = \",self.id)\n",
    "        print(\"Name = \",self.name)\n",
    "        print(\"Salary = \",self.salary)\n",
    "    def setId(self,id):\n",
    "        self.id=id\n",
    "    def setName(self,name):\n",
    "        self.name=name\n",
    "    def setSalary(self,salary):\n",
    "        self.salary=salary\n",
    "    def getId(self):\n",
    "        return self.id\n",
    "    def getName(self):\n",
    "        return self.name\n",
    "    def getSalary(self):\n",
    "        return self.salary\n",
    "    \n",
    "class manager(emp):\n",
    "    def __init__(self):\n",
    "        super().__init__()\n",
    "        self.dept=\"HR\"\n",
    "        self.phone=54645765\n",
    "        \n",
    "    def setdata2(self):\n",
    "        self.dept=input(\"Enter your department\")\n",
    "        self.phone=int(input(\"Enter your phone number\"))\n",
    "        \n",
    "    def showmanager(self):\n",
    "        print(\"Department = \",self.dept)\n",
    "        print(\"Phone = \",self.phone)\n",
    "        \n",
    "    def setDept(self,dept):\n",
    "        self.dept=dept\n",
    "    def setPhone(self,phone):\n",
    "        self.phone=phone\n",
    "    def getDept(self):\n",
    "        return self.dept\n",
    "    def getPhone(self):\n",
    "        return self.phone\n",
    "   \n",
    "        \n",
    "m1=manager()\n",
    "m1.showdata()#parent\n",
    "m1.showmanager()#child\n",
    "m1.setdata()#parent\n",
    "m1.setdata2()#child\n",
    "m1.showdata()#parent\n",
    "m1.showmanager()#child\n",
    "print(m1.getSalary())#parent\n",
    "m1.setSalary(30000)#parent\n",
    "print(m1.getSalary())#parent\n",
    "\n"
   ]
  },
  {
   "cell_type": "markdown",
   "metadata": {},
   "source": [
    "# Overriding Methods\n",
    "\n",
    "    You can always override your parent class methods. One reason for overriding parent's methods is that you may want special or different functionality in your subclass."
   ]
  },
  {
   "cell_type": "code",
   "execution_count": 17,
   "metadata": {},
   "outputs": [
    {
     "name": "stdout",
     "output_type": "stream",
     "text": [
      "I am constructer of Parent class\n",
      "Name  = brian\n",
      "I am constructer of Parent class\n",
      "I am constructer of Child class\n",
      "Diana\n",
      "Name  = Diana\n",
      "Programming Python Diana\n",
      "I am constructer of Parent class\n",
      "I am constructer of Child class\n",
      "Name  = Jaysukh Patel\n",
      "Programming Python Jaysukh Patel\n"
     ]
    }
   ],
   "source": [
    "#Single level inheritance\n",
    "class User:#parent class or super class or base class\n",
    "    \n",
    " \n",
    "    def __init__(self, name):\n",
    "        \n",
    "        self.name = name\n",
    "        print(\"I am constructer of Parent class\")\n",
    " \n",
    "    def printName(self):\n",
    "        print (\"Name  = \" + self.name)\n",
    " \n",
    "\n",
    "class Programmer(User):#child class or sub class or derived class\n",
    "        def __init__(self, name):\n",
    "                super().__init__(name)\n",
    "                self.name = name\n",
    "                print(\"I am constructer of Child class\")\n",
    "        '''def __init__(self):\n",
    "                self.name = \"Kiran\"\n",
    "                print(\"I am without parameter constructer of Child class\")'''\n",
    "\n",
    "        def doPython(self):\n",
    "                print (\"Programming Python\",self.name)\n",
    "\n",
    "brian = User(\"brian\")\n",
    "brian.printName()\n",
    " \n",
    "diana = Programmer(\"Diana\")\n",
    "print(diana.name)\n",
    "diana.printName()\n",
    "diana.doPython()\n",
    "\n",
    "diana2 = Programmer(\"Jaysukh Patel\")\n",
    "diana2.printName()\n",
    "diana2.doPython()\n",
    "\n"
   ]
  },
  {
   "cell_type": "code",
   "execution_count": 12,
   "metadata": {},
   "outputs": [
    {
     "name": "stdout",
     "output_type": "stream",
     "text": [
      "Calling parent constructor\n",
      "Calling child constructor\n",
      "Calling child method\n",
      "Calling parent method\n",
      "Parent attribute : 100\n",
      "Parent attribute : 200\n",
      "True\n",
      "True\n",
      "True\n"
     ]
    }
   ],
   "source": [
    "class Parent:        # define parent class\n",
    "   parentAttr = 100\n",
    "   def __init__(self):\n",
    "      print (\"Calling parent constructor\")\n",
    "\n",
    "   def parentMethod(self):\n",
    "      print ('Calling parent method')\n",
    "\n",
    "   def setAttr(self, attr):\n",
    "      Parent.parentAttr = attr\n",
    "\n",
    "   def getAttr(self):\n",
    "      print (\"Parent attribute :\", Parent.parentAttr)\n",
    "\n",
    "class Child(Parent): # define child class\n",
    "   def __init__(self):\n",
    "      super().__init__()#it will call parent class constructor\n",
    "      print (\"Calling child constructor\")\n",
    "     \n",
    "\n",
    "   def childMethod(self):\n",
    "      print ('Calling child method')\n",
    "\n",
    "c = Child()          # instance of child\n",
    "c.childMethod()      # child calls its method\n",
    "c.parentMethod()     # calls parent's method\n",
    "c.getAttr()          # again call parent's method\n",
    "c.setAttr(200)       # again call parent's method\n",
    "c.getAttr()          # again call parent's method\n",
    "\n",
    "print(issubclass(Child,Parent))\n",
    "print(isinstance(c,Parent))\n",
    "print(isinstance(c,Child))"
   ]
  },
  {
   "cell_type": "code",
   "execution_count": 10,
   "metadata": {},
   "outputs": [
    {
     "name": "stdout",
     "output_type": "stream",
     "text": [
      "Calling parent method\n",
      "Calling child method\n"
     ]
    }
   ],
   "source": [
    "#method overriding or method hiding\n",
    "#it is possible only in iheritance\n",
    "class Parent:        # define parent class\n",
    "    def myMethod(self):\n",
    "        print ('Calling parent method')\n",
    "\n",
    "class Child(Parent): # define child class\n",
    "    def myMethod(self):\n",
    "        super().myMethod()\n",
    "        print ('Calling child method')\n",
    "   \n",
    "      \n",
    "\n",
    "c = Child()          # instance of child\n",
    "c.myMethod()         # child calls overridden method\n",
    "\n",
    "\n",
    "\n",
    "\n",
    "\n"
   ]
  },
  {
   "cell_type": "code",
   "execution_count": 11,
   "metadata": {},
   "outputs": [
    {
     "name": "stdout",
     "output_type": "stream",
     "text": [
      "Bird is ready\n",
      "Penguin is ready\n",
      "Bird\n",
      "Penguin\n",
      "Swim faster\n",
      "Run faster\n"
     ]
    }
   ],
   "source": [
    "# parent class\n",
    "class Bird:\n",
    "    \n",
    "    def __init__(self):\n",
    "        print(\"Bird is ready\")\n",
    "\n",
    "    def whoisThis(self):\n",
    "        print(\"Bird\")\n",
    "\n",
    "    def swim(self):\n",
    "        print(\"Swim faster\")\n",
    "    \n",
    "   \n",
    "\n",
    "# child class\n",
    "class Penguin(Bird):\n",
    "\n",
    "    def __init__(self):\n",
    "        # call super() function\n",
    "        super().__init__()\n",
    "        print(\"Penguin is ready\")\n",
    "\n",
    "    def whoisThis(self):\n",
    "        super().whoisThis()\n",
    "        print(\"Penguin\")\n",
    "\n",
    "    def run(self):\n",
    "        print(\"Run faster\")\n",
    "    \n",
    "   \n",
    "\n",
    "peggy = Penguin()\n",
    "peggy.whoisThis()\n",
    "peggy.swim()\n",
    "peggy.run()\n"
   ]
  },
  {
   "cell_type": "code",
   "execution_count": null,
   "metadata": {},
   "outputs": [],
   "source": []
  }
 ],
 "metadata": {
  "kernelspec": {
   "display_name": "Python 3 (ipykernel)",
   "language": "python",
   "name": "python3"
  },
  "language_info": {
   "codemirror_mode": {
    "name": "ipython",
    "version": 3
   },
   "file_extension": ".py",
   "mimetype": "text/x-python",
   "name": "python",
   "nbconvert_exporter": "python",
   "pygments_lexer": "ipython3",
   "version": "3.9.7"
  }
 },
 "nbformat": 4,
 "nbformat_minor": 4
}
