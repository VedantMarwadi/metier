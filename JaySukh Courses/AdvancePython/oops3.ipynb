{
 "cells": [
  {
   "cell_type": "markdown",
   "metadata": {},
   "source": [
    "# Dynamic Polymorphism"
   ]
  },
  {
   "cell_type": "code",
   "execution_count": 1,
   "metadata": {},
   "outputs": [
    {
     "name": "stdout",
     "output_type": "stream",
     "text": [
      "Parrot can fly\n",
      "Parrot can't swim\n",
      "Penguin can't fly\n",
      "Penguin can swim\n"
     ]
    }
   ],
   "source": [
    "class Parrot:\n",
    "\n",
    "    def fly(self):\n",
    "        print(\"Parrot can fly\")\n",
    "    \n",
    "    def swim(self):\n",
    "        print(\"Parrot can't swim\")\n",
    "\n",
    "class Penguin:\n",
    "\n",
    "    def fly(self):\n",
    "        print(\"Penguin can't fly\")\n",
    "    \n",
    "    def swim(self):\n",
    "        print(\"Penguin can swim\")\n",
    "\n",
    "# common interface\n",
    "def flying_test(bird):\n",
    "    bird.fly()\n",
    "    bird.swim()\n",
    "\n",
    "#instantiate objects\n",
    "blu = Parrot()\n",
    "peggy = Penguin()\n",
    "\n",
    "# passing the object\n",
    "flying_test(blu)\n",
    "flying_test(peggy)\n"
   ]
  },
  {
   "cell_type": "code",
   "execution_count": 2,
   "metadata": {},
   "outputs": [
    {
     "name": "stdout",
     "output_type": "stream",
     "text": [
      "Id =  100\n",
      "Name =  Jaysukh Patel\n",
      "Code No =  1000\n",
      "Name =  Kiran shah\n",
      "Book Id =  1234\n",
      "Title =  C programming\n"
     ]
    }
   ],
   "source": [
    "#Dynaimic polymorphysum\n",
    "class Student:\n",
    "    def __init__(self,stuid,name):\n",
    "        self.stuid=stuid\n",
    "        self.name=name\n",
    "    def showdata(self):\n",
    "        print('Id = ',self.stuid)\n",
    "        print('Name = ',self.name)\n",
    "class Employee:\n",
    "    def __init__(self,codeno,name):\n",
    "        self.codeno=codeno\n",
    "        self.name=name\n",
    "    def showdata(self):\n",
    "        print('Code No = ',self.codeno)\n",
    "        print('Name = ',self.name)\n",
    "class Book:\n",
    "    def __init__(self,bid,title):\n",
    "        self.bid=bid\n",
    "        self.title=title\n",
    "    def showdata(self):\n",
    "        print('Book Id = ',self.bid)\n",
    "        print('Title = ',self.title)\n",
    "\n",
    "def display(e):\n",
    "    e.showdata()\n",
    "\n",
    "s1=Student(100,'Jaysukh Patel')\n",
    "e1=Employee(1000,'Kiran shah')\n",
    "b1=Book(1234,'C programming')\n",
    "display(s1)\n",
    "display(e1)\n",
    "display(b1)\n"
   ]
  },
  {
   "cell_type": "markdown",
   "metadata": {},
   "source": [
    "# Inner classes\n",
    "    An inner class or nested class is a defined entirely within the body of another class.\n",
    "    \n",
    "    If an object is created using a class, the object inside the root class can be used. \n",
    "    \n",
    "    A class can have more than one inner classes, but in general inner classes are avoided.\n",
    "    \n",
    "    \n",
    "    We create a class (Human) with one inner class (Head).\n",
    "    \n",
    "    An instance is created that calls a method in the inner class\n",
    "\n",
    "    In the program above we have the inner class Head() which has its own method.\n",
    "    \n",
    "    An inner class can have both methods and variables.\n",
    "    \n",
    "    In this example the constructor of the class Human (__init__) creates a new head object. "
   ]
  },
  {
   "cell_type": "code",
   "execution_count": 6,
   "metadata": {},
   "outputs": [
    {
     "name": "stdout",
     "output_type": "stream",
     "text": [
      "Jaysukh Patel\n",
      "talking...Kiran Shah\n",
      "Kiran Shah\n",
      "Jaysukh Patel\n",
      "talking...Kiran Shah\n",
      "Kiran Shah\n"
     ]
    }
   ],
   "source": [
    "#example inner class or nested class\n",
    "#if you want to create an object of inner class then you have two ways\n",
    "#(1)create object of inner class in constructor of an outer class\n",
    "#(2)create object of inner class in function of an outer class\n",
    "class Human:#outer class\n",
    "        def __init__(self):\n",
    "                self.name = 'Jaysukh Patel'\n",
    "                self.head = self.Head()#object of inner class\n",
    "        #def createhead(self):\n",
    "                #self.head = self.Head()#object of inner class\n",
    "        class Head:#inner class\n",
    "                def __init__(self):\n",
    "                        self.name = 'Kiran Shah'\n",
    "                def talk(self):\n",
    "                        return 'talking...'+self.name\n",
    " \n",
    "\n",
    "h1 = Human()\n",
    "print (h1.name)\n",
    "#h1.createhead()\n",
    "print (h1.head.talk())\n",
    "print (h1.head.name)\n",
    "\n",
    "h2 = Human()\n",
    "print (h2.name)\n",
    "#h2.createhead()\n",
    "print (h2.head.talk())\n",
    "print (h2.head.name)\n"
   ]
  },
  {
   "cell_type": "code",
   "execution_count": 8,
   "metadata": {},
   "outputs": [
    {
     "name": "stdout",
     "output_type": "stream",
     "text": [
      "Guido\n",
      "talking...\n",
      "thinking...\n"
     ]
    }
   ],
   "source": [
    "class Human:\n",
    "        def __init__(self):\n",
    "                self.name = 'Guido'\n",
    "                #self.head = self.Head()\n",
    "                #self.brain = self.Brain()\n",
    "        def createinnerobject(self):\n",
    "                self.head = self.Head()\n",
    "                self.brain = self.Brain()\n",
    "        class Head:\n",
    "                def talk(self):\n",
    "                        return 'talking...'\n",
    "        class Brain:\n",
    "                def think(self):\n",
    "                        return 'thinking...'\n",
    "        \n",
    " \n",
    "\n",
    "h1 = Human()\n",
    "h1.createinnerobject()\n",
    "print (h1.name)\n",
    "print (h1.head.talk())\n",
    "print (h1.brain.think())\n"
   ]
  },
  {
   "cell_type": "code",
   "execution_count": 2,
   "metadata": {},
   "outputs": [
    {
     "name": "stdout",
     "output_type": "stream",
     "text": [
      "Enter any number-456\n",
      "Nonegativevalueexception for the value(-456)\n"
     ]
    }
   ],
   "source": [
    "#user defined exception\n",
    "class nonegativevalueexception(Exception):\n",
    "    def __init__(self,no):\n",
    "        self.no=no\n",
    "    def __str__(self):\n",
    "        return \"Nonegativevalueexception for the value(\"+str(self.no)+\")\"\n",
    "\n",
    "try:\n",
    "    no=int(input(\"Enter any number\"))\n",
    "    if no<0:\n",
    "       raise nonegativevalueexception(no)\n",
    "    else:\n",
    "        print(no)\n",
    "except nonegativevalueexception as e:\n",
    "     print(e)"
   ]
  },
  {
   "cell_type": "code",
   "execution_count": 5,
   "metadata": {},
   "outputs": [
    {
     "name": "stdout",
     "output_type": "stream",
     "text": [
      "Enter department id11\n",
      "nosuchdepartmentidexception (11)\n"
     ]
    }
   ],
   "source": [
    "#user defined exception\n",
    "class nosuchdepartment(Exception):\n",
    "    def __init__(self,deptid):\n",
    "        self.deptid=deptid\n",
    "    def __str__(self):\n",
    "        return \"nosuchdepartmentidexception (\"+str(self.deptid)+\")\"\n",
    "\n",
    "try:\n",
    "    deptid=int(input(\"Enter department id\"))\n",
    "    if deptid<1 or deptid>10:\n",
    "        raise nosuchdepartment(deptid)\n",
    "    else:\n",
    "        print(\"valid departments\")\n",
    "except nosuchdepartment as e:\n",
    "    print(e)"
   ]
  },
  {
   "cell_type": "code",
   "execution_count": null,
   "metadata": {},
   "outputs": [],
   "source": []
  }
 ],
 "metadata": {
  "kernelspec": {
   "display_name": "Python 3 (ipykernel)",
   "language": "python",
   "name": "python3"
  },
  "language_info": {
   "codemirror_mode": {
    "name": "ipython",
    "version": 3
   },
   "file_extension": ".py",
   "mimetype": "text/x-python",
   "name": "python",
   "nbconvert_exporter": "python",
   "pygments_lexer": "ipython3",
   "version": "3.9.7"
  }
 },
 "nbformat": 4,
 "nbformat_minor": 4
}
