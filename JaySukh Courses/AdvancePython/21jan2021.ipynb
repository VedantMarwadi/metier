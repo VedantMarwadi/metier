{
 "cells": [
  {
   "cell_type": "markdown",
   "metadata": {},
   "source": [
    "# Python - Exceptions Handling"
   ]
  },
  {
   "cell_type": "markdown",
   "metadata": {},
   "source": [
    "    Python provides two very important features to handle any unexpected error in your Python programs and to add debugging capabilities in them −\n",
    "    \n",
    "    1. Exception Handling \n",
    "    2. Assertions "
   ]
  },
  {
   "cell_type": "markdown",
   "metadata": {},
   "source": [
    "### List of Standard Exceptions"
   ]
  },
  {
   "cell_type": "markdown",
   "metadata": {},
   "source": [
    "    Exception\n",
    "    Base class for all exceptions\n",
    "    \n",
    "    ArithmeticError\n",
    "    Base class for all errors that occur for numeric calculation.\n",
    "    \n",
    "    ZeroDivisionError\n",
    "    Raised when division or modulo by zero takes place for all numeric types.\n",
    "    \n",
    "    AssertionError\n",
    "    Raised in case of failure of the Assert statement.\n",
    "    \n",
    "    IOError\n",
    "    Raised when an input/ output operation fails, such as the print statement or the open() function when trying to open a file that does not exist.\n",
    "    \n",
    "    "
   ]
  },
  {
   "cell_type": "markdown",
   "metadata": {},
   "source": [
    "# Assertions in Python"
   ]
  },
  {
   "cell_type": "markdown",
   "metadata": {},
   "source": [
    "    It is used to test some assumptions made by the programmer.\n",
    "\n",
    "    In assertion, An expression is tested, and if the result comes up false, an exception is raised otherwise we assume that everything is ok.\n",
    "\n",
    "    Programmers often place assertions at the start of a function to check for valid input, and after a function call to check for valid output."
   ]
  },
  {
   "cell_type": "markdown",
   "metadata": {},
   "source": [
    "### Syntax"
   ]
  },
  {
   "cell_type": "markdown",
   "metadata": {},
   "source": [
    "    assert Expression[, Arguments]\n",
    "    \n",
    "    If expression is false then it will raise an assertion error if it true then everything is ok.\n",
    "    \n",
    "    AssertionError exceptions can be caught and handled like any other exception using the try-except statement, but if not handled, they will terminate the program"
   ]
  },
  {
   "cell_type": "code",
   "execution_count": 3,
   "metadata": {},
   "outputs": [
    {
     "name": "stdout",
     "output_type": "stream",
     "text": [
      "32.0\n",
      "451.00399999999996\n"
     ]
    }
   ],
   "source": [
    "def KelvinToFahrenheit(Temperature):\n",
    "   assert (Temperature >= 0),\"Colder than absolute zero!\"\n",
    "   return ((Temperature-273)*1.8)+32\n",
    "\n",
    "#To check function input\n",
    "print (KelvinToFahrenheit(273))\n",
    "print (KelvinToFahrenheit(505.78))\n",
    "#print (KelvinToFahrenheit(-5))\n",
    "\n",
    "#To check function output\n",
    "assert (KelvinToFahrenheit(273))==32,\"It is wrong value\"\n"
   ]
  },
  {
   "cell_type": "code",
   "execution_count": 9,
   "metadata": {},
   "outputs": [
    {
     "name": "stdout",
     "output_type": "stream",
     "text": [
      "enter any number-56\n"
     ]
    },
    {
     "ename": "AssertionError",
     "evalue": "It is negative value",
     "output_type": "error",
     "traceback": [
      "\u001b[1;31m---------------------------------------------------------------------------\u001b[0m",
      "\u001b[1;31mAssertionError\u001b[0m                            Traceback (most recent call last)",
      "\u001b[1;32m~\\AppData\\Local\\Temp/ipykernel_8144/3792375786.py\u001b[0m in \u001b[0;36m<module>\u001b[1;34m\u001b[0m\n\u001b[0;32m      3\u001b[0m     \u001b[0mprint\u001b[0m\u001b[1;33m(\u001b[0m\u001b[1;34m\"it is positive value\"\u001b[0m\u001b[1;33m)\u001b[0m\u001b[1;33m\u001b[0m\u001b[1;33m\u001b[0m\u001b[0m\n\u001b[0;32m      4\u001b[0m \u001b[1;32melse\u001b[0m\u001b[1;33m:\u001b[0m\u001b[1;33m\u001b[0m\u001b[1;33m\u001b[0m\u001b[0m\n\u001b[1;32m----> 5\u001b[1;33m     \u001b[1;32massert\u001b[0m \u001b[0mx\u001b[0m\u001b[1;33m==\u001b[0m\u001b[1;36m0\u001b[0m\u001b[1;33m,\u001b[0m\u001b[1;34m\"It is negative value\"\u001b[0m\u001b[1;33m\u001b[0m\u001b[1;33m\u001b[0m\u001b[0m\n\u001b[0m\u001b[0;32m      6\u001b[0m     \u001b[0mprint\u001b[0m\u001b[1;33m(\u001b[0m\u001b[1;34m\"It is zero\"\u001b[0m\u001b[1;33m)\u001b[0m\u001b[1;33m\u001b[0m\u001b[1;33m\u001b[0m\u001b[0m\n",
      "\u001b[1;31mAssertionError\u001b[0m: It is negative value"
     ]
    }
   ],
   "source": [
    "x=int(input(\"enter any number\"))\n",
    "if x>0:\n",
    "    print(\"it is positive value\")\n",
    "else:\n",
    "    assert x==0,\"It is negative value\"\n",
    "    print(\"It is zero\")"
   ]
  },
  {
   "cell_type": "markdown",
   "metadata": {},
   "source": [
    "# What is Exception?"
   ]
  },
  {
   "cell_type": "markdown",
   "metadata": {},
   "source": [
    "    Exception is runtime abnormal condition which causes the program termination.\n"
   ]
  },
  {
   "cell_type": "markdown",
   "metadata": {},
   "source": [
    "### Handling an exception"
   ]
  },
  {
   "cell_type": "markdown",
   "metadata": {},
   "source": [
    "### Syntax\n",
    "    Here is simple syntax of try....except...else blocks −\n",
    "    try:\n",
    "       You do your operations here;\n",
    "       ......................\n",
    "    except ExceptionI:\n",
    "       If there is ExceptionI, then execute this block.\n",
    "    except ExceptionII:\n",
    "       If there is ExceptionII, then execute this block.\n",
    "       ......................\n",
    "    else:\n",
    "       If there is no exception then execute this block. \n",
    "\n",
    "    Here are few important points about the above-mentioned syntax.\n",
    "    A single try statement can have multiple except statements. \n",
    "    \n",
    "    This is useful when the try block contains statements that may throw different types of exceptions.\n",
    "    \n",
    "    You can also provide a generic except clause, which handles any exception.\n",
    "    \n",
    "    After the except clause(s), you can include an else-clause. \n",
    "    \n",
    "    The code in the else-block executes if the code in the try: block does not raise an exception.\n",
    "    \n",
    "    The else-block is a good place for code that does not need the try: block's protection."
   ]
  },
  {
   "cell_type": "code",
   "execution_count": 10,
   "metadata": {},
   "outputs": [
    {
     "name": "stdout",
     "output_type": "stream",
     "text": [
      "Written content in the file successfully\n",
      "Hi\n"
     ]
    }
   ],
   "source": [
    "try:\n",
    "   fh = open(\"testfile\", \"w\")\n",
    "   fh.write(\"This is my test file for exception handling!!\")\n",
    "except IOError:\n",
    "   print (\"Error: can\\'t find file or read data or write data\")\n",
    "else:\n",
    "   print (\"Written content in the file successfully\")\n",
    "   fh.close()\n",
    "\n",
    "print(\"Hi\")"
   ]
  },
  {
   "cell_type": "code",
   "execution_count": 12,
   "metadata": {},
   "outputs": [
    {
     "name": "stdout",
     "output_type": "stream",
     "text": [
      "Error: can't find file or read or write  data\n",
      "Hi\n"
     ]
    }
   ],
   "source": [
    "try:\n",
    "   fh = open(\"testfile34\", \"r\")\n",
    "   fh.write(\"This is my test file for exception handling!!\")\n",
    "except IOError:\n",
    "   print (\"Error: can\\'t find file or read or write  data\")\n",
    "else:\n",
    "   print (\"Written content in the file successfully\")\n",
    "   fh.close()\n",
    "\n",
    "print(\"Hi\")"
   ]
  },
  {
   "cell_type": "code",
   "execution_count": 14,
   "metadata": {},
   "outputs": [
    {
     "name": "stdout",
     "output_type": "stream",
     "text": [
      "not writable\n",
      "('not writable',)\n",
      "Hi\n"
     ]
    }
   ],
   "source": [
    "try:\n",
    "   fh = open(\"testfile\", \"r\")\n",
    "   fh.write(\"This is my test file for exception handling!!\")\n",
    "except IOError as e:\n",
    "   print(e)\n",
    "   print(e.args)\n",
    "   \n",
    "else:\n",
    "   print (\"Written content in the file successfully\")\n",
    "   fh.close()\n",
    "\n",
    "print(\"Hi\")"
   ]
  },
  {
   "cell_type": "code",
   "execution_count": 15,
   "metadata": {},
   "outputs": [
    {
     "name": "stdout",
     "output_type": "stream",
     "text": [
      "4534\n",
      "The argument does not contain numbers\n",
      " invalid literal for int() with base 10: 'xyz'\n",
      "(\"invalid literal for int() with base 10: 'xyz'\",)\n",
      "Hi\n"
     ]
    }
   ],
   "source": [
    "# Define a function here.\n",
    "def temp_convert(var):\n",
    "   try:\n",
    "      return int(var)\n",
    "   except ValueError as e:\n",
    "      print (\"The argument does not contain numbers\\n\",e)\n",
    "      print(e.args)\n",
    "\n",
    "# Call above function here.\n",
    "print(temp_convert(\"4534\"))\n",
    "temp_convert(\"xyz\")\n",
    "\n",
    "print(\"Hi\")"
   ]
  },
  {
   "cell_type": "code",
   "execution_count": 19,
   "metadata": {},
   "outputs": [
    {
     "name": "stdout",
     "output_type": "stream",
     "text": [
      "1.0\n",
      "Error: can't find file or read data  [Errno 2] No such file or directory: 'testfile56'\n",
      "Hi\n"
     ]
    }
   ],
   "source": [
    "#muliple exception to handle each exception\n",
    "try:\n",
    "   a=10\n",
    "   b=10\n",
    "   c=a/b\n",
    "   print(c)\n",
    "   fh = open(\"testfile\", \"r\")\n",
    "   fh.write(\"This is my test file for exception handling!!\")\n",
    "\n",
    "except IOError as e:\n",
    "   print (\"Error: can\\'t find file or read data \",e)\n",
    "except ZeroDivisionError as e:\n",
    "   print (\"Error: divide by zero \",e,e.args)\n",
    "except:\n",
    "   print (\"Generic Exception any other error\")\n",
    "else:\n",
    "   print (\"Written content in the file successfully\")\n",
    "print(\"Hi\")"
   ]
  },
  {
   "cell_type": "markdown",
   "metadata": {},
   "source": [
    "# The except Clause with No Exceptions"
   ]
  },
  {
   "cell_type": "markdown",
   "metadata": {},
   "source": [
    "    You can also use the except statement with no exceptions defined as follows −\n",
    "    try:\n",
    "       You do your operations here;\n",
    "       ......................\n",
    "    except:\n",
    "       If there is any exception, then execute this block.\n",
    "       ......................\n",
    "    else:\n",
    "       If there is no exception then execute this block. \n",
    "\n",
    "    This kind of a try-except statement catches all the exceptions that occur. Using this kind of try-except statement is not considered a good programming practice though, because it catches all exceptions but does not make the programmer identify the root cause of the problem that may occur."
   ]
  },
  {
   "cell_type": "code",
   "execution_count": 20,
   "metadata": {},
   "outputs": [
    {
     "name": "stdout",
     "output_type": "stream",
     "text": [
      "Error: can't find file or read data\n",
      "Hi\n"
     ]
    }
   ],
   "source": [
    "#Example of generic except clause\n",
    "try:\n",
    "   a=10\n",
    "   b=0\n",
    "   c=a/b\n",
    "   fh = open(\"testfile2\", \"r\")\n",
    "   fh.write(\"This is my test file for exception handling!!\")\n",
    "except:\n",
    "   print (\"Error: can\\'t find file or read data\")\n",
    "else:\n",
    "   print (\"Written content in the file successfully\")\n",
    "\n",
    "print(\"Hi\")"
   ]
  },
  {
   "cell_type": "markdown",
   "metadata": {},
   "source": [
    "# The except Clause with Multiple Exceptions"
   ]
  },
  {
   "cell_type": "markdown",
   "metadata": {},
   "source": [
    "    You can also use the same except statement to handle multiple exceptions as follows −\n",
    "    try:\n",
    "       You do your operations here;\n",
    "       ......................\n",
    "    except(Exception1[, Exception2[,...ExceptionN]]]) as variable:\n",
    "       If there is any exception from the given exception list, \n",
    "       then execute this block.\n",
    "       ......................\n",
    "    else:\n",
    "       If there is no exception then execute this block. "
   ]
  },
  {
   "cell_type": "code",
   "execution_count": 23,
   "metadata": {},
   "outputs": [
    {
     "name": "stdout",
     "output_type": "stream",
     "text": [
      "1.0\n",
      "[Errno 2] No such file or directory: 'testfile45' (2, 'No such file or directory')\n"
     ]
    }
   ],
   "source": [
    "#To handle more than one exception with single except clause\n",
    "try:\n",
    "   a=10\n",
    "   b=10\n",
    "   c=a/b\n",
    "   print(c)\n",
    "   fh = open(\"testfile45\", \"r\")\n",
    "   fh.write(\"This is my test file for exception handling!!\")\n",
    "except (Exception,IOError,ZeroDivisionError) as e:\n",
    "   print (e,e.args)\n",
    "else:\n",
    "   print (\"Written content in the file successfully\")"
   ]
  },
  {
   "cell_type": "markdown",
   "metadata": {},
   "source": [
    "# The try-finally Clause"
   ]
  },
  {
   "cell_type": "markdown",
   "metadata": {},
   "source": [
    "    You can use a finally: block along with a try: block. The finally block is a place to put any code that must execute, whether the try-block raised an exception or not. The syntax of the try-finally statement is this −\n",
    "    try:\n",
    "       You do your operations here;\n",
    "       ......................\n",
    "       Due to any exception, this may be skipped.\n",
    "    finally:\n",
    "       This would always be executed.\n",
    "       ......................\n",
    "    You cannot use else clause as well along with a finally clause.\n",
    "\n",
    "    When an exception is thrown in the try block, the execution immediately passes to the finally block. After all the statements in the finally block are executed, the exception is raised again and is handled in the exceptstatements if present in the next higher layer of the try-except statement.\n",
    "    \n",
    "    Finally block is used to free the resources(to close the file,to close any stream)"
   ]
  },
  {
   "cell_type": "code",
   "execution_count": 25,
   "metadata": {},
   "outputs": [
    {
     "name": "stdout",
     "output_type": "stream",
     "text": [
      "Don't worry now your resource is free\n",
      "hi\n",
      "hello\n"
     ]
    }
   ],
   "source": [
    "def myfun():\n",
    "   try:\n",
    "      fh = open(\"testfile\", \"w\")\n",
    "      fh.write(\"This is my test file for exception handling!!\")\n",
    "   finally:\n",
    "       print(\"Don't worry now your resource is free\")\n",
    "       fh.close()\n",
    "\n",
    "try:\n",
    "   myfun()\n",
    "except:\n",
    "   print (\"In the main function exception is catched\")\n",
    "\n",
    "\n",
    "print(\"hi\")\n",
    "print(\"hello\")\n"
   ]
  },
  {
   "cell_type": "code",
   "execution_count": 26,
   "metadata": {},
   "outputs": [
    {
     "name": "stdout",
     "output_type": "stream",
     "text": [
      "Error\n",
      "Don't worry now your resource is free\n",
      "hi\n",
      "hello\n"
     ]
    }
   ],
   "source": [
    "def myfun():\n",
    "   try:\n",
    "      fh = open(\"testfile\", \"r\")\n",
    "      fh.write(\"This is my test file for exception handling!!\")\n",
    "   except:\n",
    "      print('Error')\n",
    "   finally:\n",
    "      print(\"Don't worry now your resource is free\")\n",
    "      fh.close()\n",
    "\n",
    "try:\n",
    "   myfun()\n",
    "except:\n",
    "   print (\"In the main function exception is catched\")\n",
    "\n",
    "\n",
    "print(\"hi\")\n",
    "print(\"hello\")"
   ]
  },
  {
   "cell_type": "code",
   "execution_count": 31,
   "metadata": {},
   "outputs": [
    {
     "name": "stdout",
     "output_type": "stream",
     "text": [
      "IOerror\n",
      "Don't worry now your resource is free\n",
      "In the main function exception is catched\n",
      "hi\n",
      "hello\n"
     ]
    }
   ],
   "source": [
    "def myfun():\n",
    "   try:\n",
    "      fh = open(\"testfile\", \"r\")\n",
    "      fh.write(\"This is my test file for exception handling!!\")\n",
    "   except:\n",
    "        print(\"IOerror\")\n",
    "        c=10/0\n",
    "   finally:\n",
    "       print(\"Don't worry now your resource is free\")\n",
    "       fh.close()\n",
    "\n",
    "try:\n",
    "   myfun()\n",
    "except:\n",
    "   print (\"In the main function exception is catched\")\n",
    "\n",
    "\n",
    "print(\"hi\")\n",
    "print(\"hello\")"
   ]
  },
  {
   "cell_type": "code",
   "execution_count": 32,
   "metadata": {},
   "outputs": [
    {
     "name": "stdout",
     "output_type": "stream",
     "text": [
      "Don't worry now your resource is free\n",
      "In the main function exception is catched not writable\n",
      "hi\n",
      "hello\n"
     ]
    }
   ],
   "source": [
    "def myfun():\n",
    "   try:\n",
    "      fh = open(\"testfile\", \"r\")\n",
    "      fh.write(\"This is my test file for exception handling!!\")\n",
    "   finally:\n",
    "      print(\"Don't worry now your resource is free\")\n",
    "      fh.close()\n",
    "\n",
    "\n",
    "try:\n",
    "    myfun()\n",
    "except IOError as e:\n",
    "   print (\"In the main function exception is catched\",e)\n",
    "\n",
    "print(\"hi\")\n",
    "print(\"hello\")\n"
   ]
  },
  {
   "cell_type": "code",
   "execution_count": 35,
   "metadata": {},
   "outputs": [
    {
     "name": "stdout",
     "output_type": "stream",
     "text": [
      "Going to close the file\n",
      "Outer try exception block not writable\n",
      "hi\n"
     ]
    }
   ],
   "source": [
    "try:\n",
    "   fh = open(\"testfile\", \"r\")\n",
    "   fh.write(\"This is my test file for exception handling!!\")\n",
    "   try:\n",
    "      c=10/10\n",
    "      fh.write(\"This is my test file for exception handling!!\")\n",
    "   except (ZeroDivisionError) as e:\n",
    "      print (\"inside try execpt block\",e)\n",
    "   finally:\n",
    "      print (\"Going to close the file\")\n",
    "      fh.close()\n",
    "   \n",
    "except (IOError,ZeroDivisionError) as e:\n",
    "   print (\"Outer try exception block\",e)\n",
    "\n",
    "print(\"hi\")\n"
   ]
  },
  {
   "cell_type": "markdown",
   "metadata": {},
   "source": [
    "# Argument of an Exception"
   ]
  },
  {
   "cell_type": "markdown",
   "metadata": {},
   "source": [
    "    An exception can have an argument, which is a value that gives additional information about the problem. The contents of the argument vary by exception. You capture an exception's argument by supplying a variable in the except clause as follows −\n",
    "    try:\n",
    "       You do your operations here;\n",
    "       ......................\n",
    "    except ExceptionType as Argument:\n",
    "       You can print value of Argument here...\n",
    "\n",
    "    If you write the code to handle a single exception, you can have a variable follow the name of the exception in the except statement. \n",
    "    \n",
    "    If you are trapping multiple exceptions, you can have a variable follow the tuple of the exception.\n",
    "    \n",
    "    This variable receives the value of the exception mostly containing the cause of the exception. \n",
    "    \n",
    "    The variable can receive a single value or multiple values in the form of a tuple. \n",
    "    \n",
    "    This tuple usually contains the error string, the error number, and an error location.\n"
   ]
  },
  {
   "cell_type": "markdown",
   "metadata": {},
   "source": [
    "# Raising an Exceptions"
   ]
  },
  {
   "cell_type": "markdown",
   "metadata": {},
   "source": [
    "    You can raise exceptions in several ways by using the raise statement. The general syntax for the raise statement is as follows.\n",
    "\n",
    "    Syntax\n",
    "\n",
    "    raise [Exception [, args ]]\n",
    "\n",
    "    Here, Exception is the type of exception (for example, NameError) and argument is a value for the exception argument. The argument is optional; if not supplied, the exception argument is None.\n",
    "\n",
    "    An exception can be a string, a class or an object. Most of the exceptions that the Python core raises are classes, with an argument that is an instance of the class. \n"
   ]
  },
  {
   "cell_type": "code",
   "execution_count": 28,
   "metadata": {},
   "outputs": [
    {
     "name": "stdout",
     "output_type": "stream",
     "text": [
      "hi 99\n",
      "<class 'Exception'>\n",
      "('Invalid level!', 99)\n",
      "('Invalid level!', 99)\n",
      "Hi\n"
     ]
    }
   ],
   "source": [
    "def functionName( level ):\n",
    "   try:\n",
    "      if level < 100:#detect user defined exceptionn\n",
    "         raise Exception(\"Invalid level!\", level)#raise the user defined exception\n",
    "         # The code below to this would not be executed\n",
    "         # if we raise the exception\n",
    "   except Exception as e:#handle user defined exception\n",
    "         print('hi',level);\n",
    "         print(type(e))    # the exception instance\n",
    "         print(e.args)     # arguments stored in .args\n",
    "         print(e)\n",
    "\n",
    "functionName(99)\n",
    "\n",
    "print(\"Hi\")"
   ]
  },
  {
   "cell_type": "code",
   "execution_count": 29,
   "metadata": {},
   "outputs": [
    {
     "name": "stdout",
     "output_type": "stream",
     "text": [
      "Hi\n",
      "hi\n",
      "<class 'Exception'>\n",
      "('null is not allowed',)\n",
      "null is not allowed\n",
      "Hi\n"
     ]
    }
   ],
   "source": [
    "def functionName( name ):\n",
    "   try:\n",
    "       print(\"Hi\")\n",
    "       if name==\"\":\n",
    "          raise Exception(\"null is not allowed\")\n",
    "         # The code below to this would not be executed\n",
    "         # if we raise the exception\n",
    "   except Exception as e:\n",
    "         print('hi');\n",
    "         print(type(e))    # the exception instance\n",
    "         print(e.args)     # arguments stored in .args\n",
    "         print(e)\n",
    "\n",
    "functionName(\"\")\n",
    "\n",
    "print(\"Hi\")"
   ]
  },
  {
   "cell_type": "code",
   "execution_count": null,
   "metadata": {},
   "outputs": [],
   "source": []
  }
 ],
 "metadata": {
  "kernelspec": {
   "display_name": "Python 3 (ipykernel)",
   "language": "python",
   "name": "python3"
  },
  "language_info": {
   "codemirror_mode": {
    "name": "ipython",
    "version": 3
   },
   "file_extension": ".py",
   "mimetype": "text/x-python",
   "name": "python",
   "nbconvert_exporter": "python",
   "pygments_lexer": "ipython3",
   "version": "3.9.7"
  }
 },
 "nbformat": 4,
 "nbformat_minor": 4
}
