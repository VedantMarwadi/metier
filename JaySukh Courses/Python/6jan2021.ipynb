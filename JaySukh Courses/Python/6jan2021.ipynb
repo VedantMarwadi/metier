{
 "cells": [
  {
   "cell_type": "markdown",
   "metadata": {},
   "source": [
    "# Python"
   ]
  },
  {
   "cell_type": "markdown",
   "metadata": {},
   "source": [
    "Python was developed by Guido van Rossum in the late eighties and early nineties at the National Research Institute for Mathematics and Computer Science in the Netherlands.\n",
    "\n",
    "Python is a general-purpose interpreted, interactive, object-oriented, and high-level programming language. \n",
    "\n",
    "##### Interpreted \n",
    "It is processed at runtime by the interpreter. You do not need to compile your program before executing or run  it. This is similar to PERL and PHP.\n",
    "    \n",
    "##### Interactive \n",
    "By using a Python prompt you can interact with the interpreter directly to write your programs.\n",
    "\n",
    "##### Python is Object-Oriented\n",
    "Just like c++,Java and C# It is also an object oriented lang so It implements oops concepts.\n"
   ]
  },
  {
   "cell_type": "markdown",
   "metadata": {},
   "source": [
    "# Basic Fetures Of Python"
   ]
  },
  {
   "cell_type": "markdown",
   "metadata": {},
   "source": [
    "##### 1. Easy-(to learn,to read and to mantain)\n",
    "few keywords, simple structure, and clearly defined syntax visible to the eyes and easy-to-maintain.\n",
    "##### 2. A Rich Set of standard library\n",
    "Rich Set of the library is very portable and cross-platform compatible on UNIX, Windows, and Macintosh.\n",
    "##### 3. Interactive Mode\n",
    "interactive mode which allows interactive testing and debugging.\n",
    "##### 4. Portable\n",
    "It can run on a wide variety of hardware platforms with the same interface on all platforms.\n",
    "##### 5. Databases\n",
    "It provides interfaces to all major commercial databases.\n",
    "##### 6. GUI Programming\n",
    "Python supports GUI applications that can be created and ported to many system calls, libraries and windows systems."
   ]
  },
  {
   "cell_type": "markdown",
   "metadata": {},
   "source": [
    "# Advance Fetures Of Python"
   ]
  },
  {
   "cell_type": "markdown",
   "metadata": {},
   "source": [
    "1.  It supports functional and structured programming methods as well as OOPS.    \n",
    "2.  It provides very high-level dynamic data types and supports dynamic type checking.    \n",
    "3.  It supports automatic garbage collection.\n"
   ]
  },
  {
   "cell_type": "markdown",
   "metadata": {},
   "source": [
    "# Python Applications Area"
   ]
  },
  {
   "cell_type": "markdown",
   "metadata": {},
   "source": [
    "Python is known for its general purpose nature that makes it applicable in almost each domain of software development.\n",
    "\n",
    "1. Web Applications    \n",
    "2. Desktop GUI Applications    \n",
    "3. Software Development    \n",
    "4. Scientific and Numeric    \n",
    "5. Business Applications    \n",
    "6. Console Based Application    \n",
    "7. Audio or Video based Applications    \n",
    "8. 3D CAD Applications    \n",
    "9. Enterprise Applications    \n",
    "10. Applications for Images    "
   ]
  },
  {
   "cell_type": "markdown",
   "metadata": {},
   "source": [
    "## Running Python"
   ]
  },
  {
   "cell_type": "markdown",
   "metadata": {},
   "source": [
    "### Interactive Interpreter"
   ]
  },
  {
   "cell_type": "code",
   "execution_count": null,
   "metadata": {},
   "outputs": [],
   "source": [
    "    C:> python    \n",
    "    >>>print(“Hello”)     "
   ]
  },
  {
   "cell_type": "markdown",
   "metadata": {},
   "source": [
    "### Script from the Command-line\n"
   ]
  },
  {
   "cell_type": "markdown",
   "metadata": {},
   "source": [
    "    C: >python script.py"
   ]
  },
  {
   "cell_type": "markdown",
   "metadata": {},
   "source": [
    "# Integrated Development Environment"
   ]
  },
  {
   "cell_type": "markdown",
   "metadata": {},
   "source": [
    "    1. Python IDLE----Basic and Advance Python\n",
    "    2. Jupeter Notebook,spyder---Data Science and Data Analytics\n",
    "    3. Pycharm-----Web Application Development\n",
    "    4. Visual Studio Code--Web Application Development"
   ]
  },
  {
   "cell_type": "markdown",
   "metadata": {},
   "source": [
    "# Python Identifiers"
   ]
  },
  {
   "cell_type": "markdown",
   "metadata": {},
   "source": [
    "1. Identifier is a name used to identify a variable, function, class, module or other object.    \n",
    "2. Name starts with a letter A to Z or a to z or an underscore (_) followed by zero or more letters, underscores and digits (0 to 9).    \n",
    "3. It does not allow punctuation characters such as @, $, and % within identifiers.         \n",
    "4. It is a case sensitive programming language. "
   ]
  },
  {
   "cell_type": "markdown",
   "metadata": {},
   "source": [
    "## Multi-Line Statements"
   ]
  },
  {
   "cell_type": "markdown",
   "metadata": {},
   "source": [
    "    total = maths + \\\n",
    "        sci  + \\\n",
    "        eng\n",
    "\n",
    "    Statements contained within the [], {}, or () brackets do not need to use the line continuation character.\n",
    "\n",
    "    days = ['Monday', 'Tuesday', 'Wednesday',\n",
    "        'Thursday', 'Friday']"
   ]
  },
  {
   "cell_type": "code",
   "execution_count": 2,
   "metadata": {},
   "outputs": [
    {
     "name": "stdout",
     "output_type": "stream",
     "text": [
      "Total is  223\n",
      "List =  ['Monday', 'Tuesday', 'Wednesday', 'Thursday', 'Friday', '45', '67', '89', 34, 56, 45, 67, 'jay', 'kiran']\n",
      "Hello\n",
      "Hello\n",
      "Hello\n",
      "Hello\n"
     ]
    }
   ],
   "source": [
    "maths=56 \n",
    "sci=78\n",
    "eng=89\n",
    "total=maths+\\\n",
    "sci+\\\n",
    "eng\n",
    "print(\"Total is \",total)\n",
    "days = [\n",
    "  'Monday', \"Tuesday\", 'Wednesday',\n",
    "    'Thursday', 'Friday','45','67','89',\n",
    "    34,56,\n",
    "       45,67,\n",
    "       \"jay\",\"kiran\"]\n",
    "print(\"List = \",days)\n",
    "print(\"Hello\")\n",
    "print('Hello')\n",
    "print(\"\"\"Hello\"\"\")\n",
    "print('''Hello''')\n"
   ]
  },
  {
   "cell_type": "markdown",
   "metadata": {},
   "source": [
    "## Quotation in Python"
   ]
  },
  {
   "cell_type": "markdown",
   "metadata": {},
   "source": [
    "    Python accepts single ('), double (\") and triple (''' or \"\"\") quotes to denote string literals.\n",
    "\n",
    "    The triple quotes are used to span the string across multiple lines."
   ]
  },
  {
   "cell_type": "markdown",
   "metadata": {},
   "source": [
    "## Comments in Python"
   ]
  },
  {
   "cell_type": "markdown",
   "metadata": {},
   "source": [
    "    Single Line comment –    # comment\n",
    "    Multiline comment   -   ' ' ' comment ' ' '\n",
    "                            or\n",
    "                            “ “ “ comment “ “ “\n"
   ]
  },
  {
   "cell_type": "code",
   "execution_count": 3,
   "metadata": {},
   "outputs": [
    {
     "name": "stdout",
     "output_type": "stream",
     "text": [
      "First variable =  Jaysukh Patel\n",
      "Second variable =  This is sentence\n",
      "Third variable =  hsddskjnsdgbsdhg jdsbghds bgjsbdhgb sdjgbhjsdbghjsdhghd\n",
      "idsgnjdsgkjdsngjdsnkgjsdhgnskdjgjdsgkdsbgdsbgdbshgbdsbgdsbh\n",
      "sdigdnsgjnsdgndsjdjs\n",
      "Fouth variable =  isdokjsdtjkwejewkjhewjtehte nebkjekj bewhtehn\n",
      "ewitnewjtjetnewkjtjkewn ktjenjktnejktnjekntjewhtjewh\n",
      "eutewntetetkekt\n",
      "sdhkjdshgsdndsjkh\n"
     ]
    }
   ],
   "source": [
    "#use of single quote,double quote,tripple quote to store string values\n",
    "#use of tripple quote for multiline comments\n",
    "\n",
    "'''sdgngbdsgbjnsdgnsdgbdsg jsdbg dsgjbsdjgs\n",
    "sdkg dskgndskjg ndksngjksd gnndskjgndskjngj'''\n",
    "\n",
    "\"\"\"jgds sjkgnsd gnds gnds nkgnsdkjg skdjgnjd\n",
    "kgidsgdsgnds gmdsnjgkdsmkgndksjngkjdsngjnsd\n",
    "dgd skgdsgmdskgdm\"\"\"\n",
    "\n",
    "word='Jaysukh Patel'\n",
    "sentence=\"This is sentence\"\n",
    "para='''hsddskjnsdgbsdhg jdsbghds bgjsbdhgb sdjgbhjsdbghjsdhghd\n",
    "idsgnjdsgkjdsngjdsnkgjsdhgnskdjgjdsgkdsbgdsbgdbshgbdsbgdsbh\n",
    "sdigdnsgjnsdgndsjdjs'''\n",
    "para2=\"\"\"isdokjsdtjkwejewkjhewjtehte nebkjekj bewhtehn\n",
    "ewitnewjtjetnewkjtjkewn ktjenjktnejktnjekntjewhtjewh\n",
    "eutewntetetkekt\"\"\"\n",
    "print(\"First variable = \",word)\n",
    "print(\"Second variable = \",sentence)\n",
    "print(\"Third variable = \",para)\n",
    "print(\"Fouth variable = \",para2)\n",
    "print('''sdhkjdshgsdndsjkh''')"
   ]
  },
  {
   "cell_type": "markdown",
   "metadata": {},
   "source": [
    "## variable"
   ]
  },
  {
   "cell_type": "code",
   "execution_count": 4,
   "metadata": {},
   "outputs": [
    {
     "name": "stdout",
     "output_type": "stream",
     "text": [
      "<class 'int'>\n"
     ]
    }
   ],
   "source": [
    "a=10\n",
    "print(type(a))\n"
   ]
  },
  {
   "cell_type": "code",
   "execution_count": 5,
   "metadata": {},
   "outputs": [
    {
     "name": "stdout",
     "output_type": "stream",
     "text": [
      "<class 'str'>\n"
     ]
    }
   ],
   "source": [
    "counter=10\n",
    "percentage=67.89\n",
    "name=\"Jaysukh patel\"\n",
    "married=True\n",
    "print(type(name))\n"
   ]
  },
  {
   "cell_type": "code",
   "execution_count": 6,
   "metadata": {},
   "outputs": [
    {
     "name": "stdout",
     "output_type": "stream",
     "text": [
      "<class 'float'>\n"
     ]
    }
   ],
   "source": [
    "print(type(percentage))"
   ]
  },
  {
   "cell_type": "code",
   "execution_count": 7,
   "metadata": {},
   "outputs": [
    {
     "name": "stdout",
     "output_type": "stream",
     "text": [
      "<class 'int'>\n"
     ]
    }
   ],
   "source": [
    "print(type(counter))"
   ]
  },
  {
   "cell_type": "code",
   "execution_count": 8,
   "metadata": {},
   "outputs": [
    {
     "name": "stdout",
     "output_type": "stream",
     "text": [
      "<class 'bool'>\n"
     ]
    }
   ],
   "source": [
    "print(type(married))"
   ]
  },
  {
   "cell_type": "markdown",
   "metadata": {},
   "source": [
    "## Multiple Assignment"
   ]
  },
  {
   "cell_type": "code",
   "execution_count": 9,
   "metadata": {},
   "outputs": [
    {
     "name": "stdout",
     "output_type": "stream",
     "text": [
      "67\n"
     ]
    }
   ],
   "source": [
    "maths=sci=eng=67\n",
    "print(maths)"
   ]
  },
  {
   "cell_type": "code",
   "execution_count": 10,
   "metadata": {},
   "outputs": [
    {
     "data": {
      "text/plain": [
       "67"
      ]
     },
     "execution_count": 10,
     "metadata": {},
     "output_type": "execute_result"
    }
   ],
   "source": [
    "sci"
   ]
  },
  {
   "cell_type": "code",
   "execution_count": 11,
   "metadata": {},
   "outputs": [
    {
     "data": {
      "text/plain": [
       "67"
      ]
     },
     "execution_count": 11,
     "metadata": {},
     "output_type": "execute_result"
    }
   ],
   "source": [
    "eng"
   ]
  },
  {
   "cell_type": "code",
   "execution_count": 12,
   "metadata": {},
   "outputs": [
    {
     "data": {
      "text/plain": [
       "10"
      ]
     },
     "execution_count": 12,
     "metadata": {},
     "output_type": "execute_result"
    }
   ],
   "source": [
    "a,b,c=10,20,\"Kiran shah\"\n",
    "a"
   ]
  },
  {
   "cell_type": "code",
   "execution_count": 13,
   "metadata": {},
   "outputs": [
    {
     "data": {
      "text/plain": [
       "20"
      ]
     },
     "execution_count": 13,
     "metadata": {},
     "output_type": "execute_result"
    }
   ],
   "source": [
    "b"
   ]
  },
  {
   "cell_type": "code",
   "execution_count": 14,
   "metadata": {},
   "outputs": [
    {
     "name": "stdout",
     "output_type": "stream",
     "text": [
      "Kiran shah\n"
     ]
    }
   ],
   "source": [
    "print(c)"
   ]
  },
  {
   "cell_type": "markdown",
   "metadata": {},
   "source": [
    "# Standard Data Types"
   ]
  },
  {
   "cell_type": "markdown",
   "metadata": {},
   "source": [
    "    1. Numbers\n",
    "    2. String\n",
    "    3. List\n",
    "    4. Tuple\n",
    "    5. Dictionary"
   ]
  },
  {
   "cell_type": "markdown",
   "metadata": {},
   "source": [
    "### Numbers"
   ]
  },
  {
   "cell_type": "markdown",
   "metadata": {},
   "source": [
    "    a = 1\n",
    "    b = 10\n",
    "\n",
    "    You can also delete the reference to a number object by using the del statement. \n",
    "\n",
    "    del a\n",
    "    del a, b"
   ]
  },
  {
   "cell_type": "markdown",
   "metadata": {},
   "source": [
    "## Three different numerical types "
   ]
  },
  {
   "cell_type": "markdown",
   "metadata": {},
   "source": [
    "    1. int (signed integers)\n",
    "    2. float (floating point real values)\n",
    "    3. complex (complex numbers)"
   ]
  },
  {
   "cell_type": "code",
   "execution_count": 15,
   "metadata": {},
   "outputs": [
    {
     "name": "stdout",
     "output_type": "stream",
     "text": [
      "<class 'int'>\n"
     ]
    }
   ],
   "source": [
    "a=10\n",
    "print(type(a))"
   ]
  },
  {
   "cell_type": "code",
   "execution_count": 16,
   "metadata": {},
   "outputs": [
    {
     "name": "stdout",
     "output_type": "stream",
     "text": [
      "<class 'float'>\n"
     ]
    }
   ],
   "source": [
    "a=23.45\n",
    "print(type(a))"
   ]
  },
  {
   "cell_type": "code",
   "execution_count": 17,
   "metadata": {},
   "outputs": [
    {
     "data": {
      "text/plain": [
       "complex"
      ]
     },
     "execution_count": 17,
     "metadata": {},
     "output_type": "execute_result"
    }
   ],
   "source": [
    "a=3+4j\n",
    "type(a)"
   ]
  },
  {
   "cell_type": "code",
   "execution_count": 18,
   "metadata": {},
   "outputs": [
    {
     "name": "stdout",
     "output_type": "stream",
     "text": [
      "Addition is :  (6+13j)\n"
     ]
    }
   ],
   "source": [
    "z1 = 3+8j\n",
    "z2 = 3+5j\n",
    "z3=z1+z2\n",
    "print( \"Addition is : \", z3)"
   ]
  },
  {
   "cell_type": "code",
   "execution_count": 19,
   "metadata": {},
   "outputs": [
    {
     "name": "stdout",
     "output_type": "stream",
     "text": [
      "(2+4j)\n",
      "(4+5j)\n",
      "Addition is :  (6+9j)\n"
     ]
    }
   ],
   "source": [
    "z1 = complex(2,4)\n",
    "print(z1)\n",
    "z2 = complex(4,5)\n",
    "print(z2)\n",
    "z3=z1+z2\n",
    "print( \"Addition is : \", z3)"
   ]
  },
  {
   "cell_type": "markdown",
   "metadata": {},
   "source": [
    "## Strings"
   ]
  },
  {
   "cell_type": "markdown",
   "metadata": {},
   "source": [
    "    Strings identified as a contiguous set of characters represented in the quotation marks. Python allows for either pairs of single or double quotes. \n",
    "\n",
    "    Subsets of strings can be taken using the slice operator ([ ] and [:] ) with indexes starting at 0 in the beginning of the string and working their way from -1 at the end.\n",
    "\n",
    "    The plus (+) sign is the string concatenation operator and the asterisk (*) is the repetition operator. \n",
    "    \n",
    "    It is a immutable object so we can not update or change it.\n"
   ]
  },
  {
   "cell_type": "code",
   "execution_count": 20,
   "metadata": {},
   "outputs": [
    {
     "name": "stdout",
     "output_type": "stream",
     "text": [
      "Hello World!\n"
     ]
    }
   ],
   "source": [
    "str = 'Hello World!'\n",
    "print(str)"
   ]
  },
  {
   "cell_type": "code",
   "execution_count": 21,
   "metadata": {},
   "outputs": [
    {
     "name": "stdout",
     "output_type": "stream",
     "text": [
      "r\n"
     ]
    }
   ],
   "source": [
    "print(str[8])"
   ]
  },
  {
   "cell_type": "code",
   "execution_count": 22,
   "metadata": {},
   "outputs": [
    {
     "name": "stdout",
     "output_type": "stream",
     "text": [
      "World\n"
     ]
    }
   ],
   "source": [
    "print (str[-6:-1])#end index -1(2 to 6)"
   ]
  },
  {
   "cell_type": "code",
   "execution_count": 23,
   "metadata": {},
   "outputs": [
    {
     "name": "stdout",
     "output_type": "stream",
     "text": [
      "World\n"
     ]
    }
   ],
   "source": [
    "print (str[6:-1])"
   ]
  },
  {
   "cell_type": "code",
   "execution_count": 28,
   "metadata": {},
   "outputs": [
    {
     "name": "stdout",
     "output_type": "stream",
     "text": [
      "Hello World!\n"
     ]
    }
   ],
   "source": [
    "print (str[:])"
   ]
  },
  {
   "cell_type": "code",
   "execution_count": 26,
   "metadata": {},
   "outputs": [
    {
     "name": "stdout",
     "output_type": "stream",
     "text": [
      "Hello World!\n",
      "H\n",
      "llo W\n",
      "llo World!\n",
      "Hello World!Hello World!Hello World!Hello World!Hello World!\n",
      "-------------------------------------------------------------------------------\n",
      "Hello World! TEST\n",
      "Hello W\n",
      "lo\n",
      "Hello World!\n",
      "World\n",
      "World\n",
      "Hello World!\n",
      "hELLO hELLO hELLO hELLO hELLO  WORLD  JAY JAY JAY JAY JAY\n"
     ]
    }
   ],
   "source": [
    "str = 'Hello World!'\n",
    "\n",
    "print (str)          # Prints complete string\n",
    "print (str[0])       # Prints first character of the string\n",
    "print (str[2:7])     # Prints characters starting from 3rd to 5th\n",
    "print (str[2:])      # Prints string starting from 3rd character\n",
    "print (str * 5)      # Prints string two times\n",
    "print(\"-\"*79)\n",
    "print (str + \" TEST\") # Prints concatenated string\n",
    "print (str[:-5])       # Prints first character of the string\n",
    "print (str[-9:-7])       # Prints first character of the string\n",
    "print (str)          # Prints complete string\n",
    "print(str[6:11])\n",
    "print(str[-6:-1])\n",
    "print(str[:])\n",
    "print ('hELLO ' * 5+' WORLD '+' JAY'*5)   \n",
    "#str[0]=\"j\"# because of it is immutable\n",
    "\n"
   ]
  },
  {
   "cell_type": "markdown",
   "metadata": {},
   "source": [
    "## Lists"
   ]
  },
  {
   "cell_type": "markdown",
   "metadata": {},
   "source": [
    "\n",
    "    A list contains items separated by commas and enclosed within square brackets ([]).\n",
    "\n",
    "    lists are similar to arrays in C. One difference between them is that all the items belonging to a list can be of different data type.\n",
    "\n",
    "    The values stored in a list can be accessed using the slice operator ([ ] and [:]) with indexes starting at 0 in the beginning of the list and working their way to end -1. \n",
    "\n",
    "    The plus (+) sign is the list concatenation operator, and the asterisk (*) is the repetition operator.\n",
    "    \n",
    "    It is a mutable object so we can change or update or add element in the list."
   ]
  },
  {
   "cell_type": "code",
   "execution_count": 31,
   "metadata": {},
   "outputs": [
    {
     "name": "stdout",
     "output_type": "stream",
     "text": [
      "['abcd', 786, 2.23, 'john', 70.2]\n",
      "[123, 'john']\n",
      "[]\n",
      "['jaysukh patel', 45, 78.67, 'john', 70.2]\n",
      "[123, 'john', 'Manush']\n",
      "['jaysukh patel', 45, 78.67]\n"
     ]
    }
   ],
   "source": [
    "list1 = [ 'abcd', 786 , 2.23, 'john', 70.2 ]\n",
    "list2 = [123, 'john']\n",
    "list3=[]\n",
    "print(list1)\n",
    "print(list2)\n",
    "print(list3)\n",
    "\n",
    "list1[0]='jaysukh patel' \n",
    "list1[1]=45   \n",
    "list1[2]=78.67  \n",
    "list2.append(\"Manush\")\n",
    "list3.append('jaysukh patel')\n",
    "list3.append(45)\n",
    "list3.append(78.67)\n",
    "#list2.append([1,2,3,4])#it appends whole list as an element\n",
    "#list2.extend([1,2,3,4])#it appends individual element of the list\n",
    "\n",
    "\n",
    "print(list1)\n",
    "print(list2)\n",
    "print(list3)\n",
    "\n"
   ]
  },
  {
   "cell_type": "code",
   "execution_count": 34,
   "metadata": {},
   "outputs": [
    {
     "name": "stdout",
     "output_type": "stream",
     "text": [
      "['jaysukh patel', 45, 'Kiran', 'john', 70.2, 'kajal']\n",
      "[123, 'john', 'Manush']\n",
      "jaysukh patel\n",
      "[45, 'Kiran']\n",
      "['Kiran', 'john', 70.2, 'kajal']\n",
      "[123, 'john', 'Manush', 123, 'john', 'Manush']\n",
      "['jaysukh patel', 45, 'Kiran', 'john', 70.2, 'kajal', 123, 'john', 'Manush', 'jaysukh patel', 45, 78.67]\n",
      "70.2\n",
      "45\n",
      "['jaysukh patel', 45, 'Kiran', 'john', 70.2, 'kajal']\n",
      "['jaysukh patel', 45, 'Kiran', 'john', 70.2, 'kajal', 'kajal']\n"
     ]
    }
   ],
   "source": [
    "print(list1)\n",
    "print(list2)\n",
    "\n",
    "print (list1[0])       # Prints first element of the list\n",
    "print (list1[1:3])     # Prints elements starting from 2nd till 4th \n",
    "print (list1[2:])      # Prints elements starting from 3rd element\n",
    "print (list2 * 2)  # Prints list two times\n",
    "print (list1 + list2+list3) # Prints concatenated lists\n",
    "print (list1[-2])       # Prints first element of the list\n",
    "print (list1[-5])       # Prints first element of the list\n",
    "list1[2]='Kiran'\n",
    "print(list1)\n",
    "#list1[9]=\"jay\"\n",
    "list1.append(\"kajal\")\n",
    "print (list1)\n"
   ]
  },
  {
   "cell_type": "markdown",
   "metadata": {},
   "source": [
    "## Tuples"
   ]
  },
  {
   "cell_type": "markdown",
   "metadata": {},
   "source": [
    "    A tuple is another sequence data type that is similar to the list. \n",
    "\n",
    "    A tuple consists of a number of values separated by commas. \n",
    "\n",
    "    Unlike lists, however, tuples are enclosed within parentheses.\n",
    "\n",
    "    The main differences between lists and tuples are: Lists are enclosed in brackets ( [ ] ) and their elements and size can be changed, while tuples are enclosed in parentheses ( ( ) ) and cannot be updated. \n",
    "\n",
    "    Tuples can be thought of as read-only lists.\n",
    "    \n",
    "    It is a immutable object so we can not change or update it."
   ]
  },
  {
   "cell_type": "code",
   "execution_count": 2,
   "metadata": {},
   "outputs": [
    {
     "name": "stdout",
     "output_type": "stream",
     "text": [
      "('abcd', 786, 2.23, 'john', 70.2)\n",
      "(123, 'john')\n",
      "()\n"
     ]
    }
   ],
   "source": [
    "t1 = ( 'abcd', 786 , 2.23, 'john', 70.2 )\n",
    "t2 = (123, 'john')\n",
    "t3=()\n",
    "print(t1)\n",
    "print(t2)\n",
    "print(t3)\n",
    "#t1[0]='jaysukh patel' \n",
    "\n"
   ]
  },
  {
   "cell_type": "code",
   "execution_count": 3,
   "metadata": {},
   "outputs": [
    {
     "name": "stdout",
     "output_type": "stream",
     "text": [
      "('abcd', 786, 2.23, 'john', 70.2)\n",
      "abcd\n",
      "(786, 2.23)\n",
      "(2.23, 'john', 70.2)\n",
      "(123, 'john', 123, 'john')\n",
      "('abcd', 786, 2.23, 'john', 70.2, 123, 'john')\n",
      "john\n",
      "abcd\n",
      "('a', 'b', 'c', 'd', '7', '0', '.', '2')\n"
     ]
    }
   ],
   "source": [
    "print(t1)\n",
    "print (t1[0])       # Prints first element of the list\n",
    "print (t1[1:3])     # Prints elements starting from 2nd till 4th \n",
    "print (t1[2:])      # Prints elements starting from 3rd element\n",
    "print (t2 * 2)  # Prints list two times\n",
    "print (t1 + t2) # Prints concatenated lists\n",
    "print (t1[-2])       # Prints first element of the list\n",
    "print (t1[-5])       # Prints first element of the list\n",
    "#t1[2]='Kiran'\n",
    "a=t1[0]\n",
    "b=t1[4]\n",
    "#lst=list(a,)\n",
    "\n",
    "tu=tuple(a+str(b))\n",
    "print(tu)\n"
   ]
  },
  {
   "cell_type": "code",
   "execution_count": null,
   "metadata": {},
   "outputs": [],
   "source": []
  }
 ],
 "metadata": {
  "kernelspec": {
   "display_name": "Python 3 (ipykernel)",
   "language": "python",
   "name": "python3"
  },
  "language_info": {
   "codemirror_mode": {
    "name": "ipython",
    "version": 3
   },
   "file_extension": ".py",
   "mimetype": "text/x-python",
   "name": "python",
   "nbconvert_exporter": "python",
   "pygments_lexer": "ipython3",
   "version": "3.9.7"
  }
 },
 "nbformat": 4,
 "nbformat_minor": 4
}
