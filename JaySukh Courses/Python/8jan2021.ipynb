{
 "cells": [
  {
   "cell_type": "markdown",
   "metadata": {},
   "source": [
    "# Decision making OR Control Structure "
   ]
  },
  {
   "cell_type": "markdown",
   "metadata": {},
   "source": [
    "    Python programming language assumes any non-zero(positive or negative values) and non-null values as TRUE\n",
    "    if it is either zero or null, then it is assumed as FALSE value."
   ]
  },
  {
   "cell_type": "markdown",
   "metadata": {},
   "source": [
    "### IF statement\n",
    "#### Syntax\n",
    "    if expression:\n",
    "       statement(s)"
   ]
  },
  {
   "cell_type": "markdown",
   "metadata": {},
   "source": [
    "### IF...ELSE statement\n",
    "#### Syntax\n",
    "    if expression:\n",
    "       statement(s)\n",
    "    else:\n",
    "       statement(s)"
   ]
  },
  {
   "cell_type": "markdown",
   "metadata": {},
   "source": [
    "### Ladder if ---else\n",
    "#### Syntax\n",
    "    if expression1:\n",
    "       statement(s)\n",
    "    elif expression2:\n",
    "       statement(s)\n",
    "    elif expression3:\n",
    "       statement(s)\n",
    "    else:\n",
    "       statement(s)"
   ]
  },
  {
   "cell_type": "markdown",
   "metadata": {},
   "source": [
    "### Nested IF----ELSE\n",
    "#### Syntax\n",
    "    if expression1:\n",
    "       statement(s)\n",
    "       if expression2:\n",
    "          statement(s)\n",
    "       elif expression3:\n",
    "          statement(s)\n",
    "       else:\n",
    "          statement(s)\n",
    "    else:\n",
    "       statement(s)"
   ]
  },
  {
   "cell_type": "markdown",
   "metadata": {},
   "source": [
    "## Programs by using decision making structure"
   ]
  },
  {
   "cell_type": "code",
   "execution_count": 8,
   "metadata": {},
   "outputs": [
    {
     "name": "stdout",
     "output_type": "stream",
     "text": [
      "Enter any no12\n",
      "Hello\n",
      "Hi\n"
     ]
    }
   ],
   "source": [
    "#use of only if statement\n",
    "no=int(input(\"Enter any no\"))\n",
    "if no==10:\n",
    "     print(\"It is valid no\")\n",
    "print(\"Hello\")\n",
    "print(\"Hi\")\n"
   ]
  },
  {
   "cell_type": "code",
   "execution_count": 12,
   "metadata": {},
   "outputs": [
    {
     "name": "stdout",
     "output_type": "stream",
     "text": [
      "Enter any no3534547\n",
      "it is odd no\n"
     ]
    }
   ],
   "source": [
    "#to check the given no is odd or even\n",
    "no=int(input(\"Enter any no\"))\n",
    "if no%2==0:\n",
    "        print(\"it is even no\")\n",
    "else:\n",
    "        print(\"it is odd no\")"
   ]
  },
  {
   "cell_type": "code",
   "execution_count": 15,
   "metadata": {},
   "outputs": [
    {
     "name": "stdout",
     "output_type": "stream",
     "text": [
      "Enter any year2020\n",
      "it is a leap year\n"
     ]
    }
   ],
   "source": [
    "#To check the given year is leap or\n",
    "\n",
    "year=int(input(\"Enter any year\"));\n",
    "\n",
    "if((year%4==0 and year%100!=0)or(year%400==0)):\n",
    "    print(\"it is a leap year\");\n",
    "else:\n",
    "    print(\"it is not a leap year\")"
   ]
  },
  {
   "cell_type": "code",
   "execution_count": 18,
   "metadata": {},
   "outputs": [
    {
     "name": "stdout",
     "output_type": "stream",
     "text": [
      "Enter any no0\n",
      "it is zero\n",
      "Hello\n"
     ]
    }
   ],
   "source": [
    "#to check the given no is positive negative or zero\n",
    "no=int(input(\"Enter any no\"))\n",
    "if no>0 :\n",
    "    print(\"It is positive no\")\n",
    "elif no<0:\n",
    "    print(\"it is negative no\")\n",
    "else:\n",
    "    print(\"it is zero\")\n",
    "print(\"Hello\")"
   ]
  },
  {
   "cell_type": "code",
   "execution_count": 9,
   "metadata": {},
   "outputs": [
    {
     "name": "stdout",
     "output_type": "stream",
     "text": [
      "Enter First no45\n",
      "Enter Second no67\n",
      "Enter Third no89\n",
      "The maximum is  89\n",
      "The maximum value is 89\n"
     ]
    }
   ],
   "source": [
    "#to find the maximum no from three nos\n",
    "a=int(input(\"Enter First no\"))\n",
    "b=int(input(\"Enter Second no\"))\n",
    "c=int(input(\"Enter Third no\"))\n",
    "if a==b==c :\n",
    "    print(\"all are same\")\n",
    "    max=a\n",
    "elif a>=b and a>=c:\n",
    "    max=a\n",
    "elif  b>=a and b>=c :\n",
    "    max=b\n",
    "else:\n",
    "    max=c\n",
    "print(\"The maximum is \",max)\n",
    "print(\"The maximum value is {}\".format(max))\n",
    "\n",
    "\n"
   ]
  },
  {
   "cell_type": "code",
   "execution_count": 12,
   "metadata": {},
   "outputs": [
    {
     "name": "stdout",
     "output_type": "stream",
     "text": [
      "Enter maths marks56\n",
      "Enter sci marks78\n",
      "Enter eng marks89\n",
      "Maths =  56 \n",
      "Science =  78 \n",
      "English =  89\n",
      "Total =  223 \n",
      "Percentage = 74.33 \n",
      "B++\n"
     ]
    }
   ],
   "source": [
    "## to find the total and percentage and grade of student\n",
    "maths=int(input(\"Enter maths marks\"))\n",
    "sci=int(input(\"Enter sci marks\"))\n",
    "eng=int(input(\"Enter eng marks\"))\n",
    "total=maths+sci+eng\n",
    "per=total/3.0\n",
    "print(\"Maths = \",maths,\"\\nScience = \",sci,\"\\nEnglish = \",eng)\n",
    "print(\"Total = \",total,\"\\nPercentage = %.2F \" %per)\n",
    "#print(\"Maths = {}\\nScience = {}\\nEnglish = {}\".format(maths,sci,eng))\n",
    "#print(\"Total = {}\\nPercentage = {}\".format(total,per))\n",
    "#print(\"Maths = %d\\nScience = %d\\nEnglish = %d\"%(maths,sci,eng))\n",
    "#print(\"Total = %d\\nPercentage = %.2f\"%(total,per))\n",
    "\n",
    "if maths>=40 and sci>=40 and eng>=40:\n",
    "    if per>=90:\n",
    "        print(\"A++\");\n",
    "    elif per>=80:\n",
    "        print(\"A--\")\n",
    "    elif per>=70:\n",
    "        print(\"B++\")\n",
    "    elif per>=60:\n",
    "        print(\"B--\")\n",
    "    elif per>=50:\n",
    "        print(\"C++\")\n",
    "    else:\n",
    "        print(\"C--\")\n",
    "else:\n",
    "        print(\"F\")"
   ]
  },
  {
   "cell_type": "code",
   "execution_count": 14,
   "metadata": {},
   "outputs": [
    {
     "name": "stdout",
     "output_type": "stream",
     "text": [
      "Enter First Number56\n",
      "Enter Second Number56\n",
      "Enter Third Number23\n",
      "The maximum is  56\n"
     ]
    }
   ],
   "source": [
    "#to find the maximum no from three nos by using nested if else\n",
    "a=int(input(\"Enter First Number\"))\n",
    "b=int(input(\"Enter Second Number\"))\n",
    "c=int(input(\"Enter Third Number\"))\n",
    "if a>=b:\n",
    "    if a>=c:\n",
    "        max=a\n",
    "    else:\n",
    "        max=c\n",
    "else:\n",
    "    if b>=c:\n",
    "        max=b\n",
    "    else:\n",
    "        max=c\n",
    "\n",
    "print(\"The maximum is \",max)\n",
    "\n",
    "\n"
   ]
  },
  {
   "cell_type": "code",
   "execution_count": 19,
   "metadata": {},
   "outputs": [
    {
     "name": "stdout",
     "output_type": "stream",
     "text": [
      "Enter any Alphabet(a to z or A to Z)u\n",
      "it is vowel\n"
     ]
    }
   ],
   "source": [
    "## to check the given character is wovel or not\n",
    "ch=input(\"Enter any Alphabet(a to z or A to Z)\")\n",
    "if ch in['a','e','i','o','u','A','E','I','O','U'] :\n",
    "    print(\"it is vowel\")\n",
    "else:\n",
    "    print(\"it is not a vowel\")"
   ]
  },
  {
   "cell_type": "code",
   "execution_count": 21,
   "metadata": {},
   "outputs": [
    {
     "name": "stdout",
     "output_type": "stream",
     "text": [
      "Enter any characteri\n",
      "it is vowel\n"
     ]
    }
   ],
   "source": [
    "### to check the given character is wovel or not\n",
    "ch=input(\"Enter any character\");\n",
    "if ch=='a' or ch=='e' or ch=='i' or ch=='o' or ch=='u' or ch=='A' or ch=='E' or ch=='I' or ch=='O' or ch=='U' :\n",
    "    print(\"it is vowel\")\n",
    "else:\n",
    "    print(\"it is not a vowel\")"
   ]
  },
  {
   "cell_type": "code",
   "execution_count": 18,
   "metadata": {},
   "outputs": [
    {
     "name": "stdout",
     "output_type": "stream",
     "text": [
      "Enter any characterA\n",
      "it is wovel\n"
     ]
    }
   ],
   "source": [
    "#to check the given character is wovel or not\n",
    "ch=input(\"Enter any character\");\n",
    "if ch in \"aeiouAEIOU\" :\n",
    "    print(\"it is vowel\");\n",
    "else:\n",
    "    print(\"it is not a vowel\");"
   ]
  },
  {
   "cell_type": "code",
   "execution_count": 25,
   "metadata": {},
   "outputs": [
    {
     "name": "stdout",
     "output_type": "stream",
     "text": [
      "Enter First Number56\n",
      "Enter Second Number12\n",
      "1. Addition\n",
      "2. Subtraction\n",
      "3. Multiplication\n",
      "4. Division\n",
      "5. Modulus\n",
      "Enter your choice1000\n",
      "Invalid choice try again\n"
     ]
    }
   ],
   "source": [
    "## Menu driven calculator by using ladder if else\n",
    "\n",
    "a=int(input(\"Enter First Number\"))\n",
    "b=int(input(\"Enter Second Number\"))\n",
    "print(\"1. Addition\")\n",
    "print(\"2. Subtraction\")\n",
    "print(\"3. Multiplication\")\n",
    "print(\"4. Division\")\n",
    "print(\"5. Modulus\")\n",
    "no=int(input(\"Enter your choice\"))\n",
    "\n",
    "if no==1:\n",
    "    c=a+b\n",
    "    print(\"Addition is \",c)\n",
    "elif no==2:\n",
    "    c=a-b\n",
    "    print(\"Subtraction is \",c)\n",
    "elif no==3:\n",
    "    c=a*b;\n",
    "    print(\"Multiplication is \",c)\n",
    "elif no==4:\n",
    "    c=a/b;\n",
    "    print(\"Division is \",c)\n",
    "elif no==5:\n",
    "    c=a%b\n",
    "    print(\"Modulus is \",c)\n",
    "else:\n",
    "    print(\"Invalid choice try again\")\n",
    "\n"
   ]
  },
  {
   "cell_type": "code",
   "execution_count": 30,
   "metadata": {},
   "outputs": [
    {
     "name": "stdout",
     "output_type": "stream",
     "text": [
      "Enter any characterjaysukh\n"
     ]
    },
    {
     "ename": "TypeError",
     "evalue": "ord() expected a character, but string of length 7 found",
     "output_type": "error",
     "traceback": [
      "\u001b[1;31m---------------------------------------------------------------------------\u001b[0m",
      "\u001b[1;31mTypeError\u001b[0m                                 Traceback (most recent call last)",
      "\u001b[1;32m~\\AppData\\Local\\Temp/ipykernel_11624/385081867.py\u001b[0m in \u001b[0;36m<module>\u001b[1;34m\u001b[0m\n\u001b[0;32m      1\u001b[0m \u001b[1;31m#to check the given character is alphabet or not\u001b[0m\u001b[1;33m\u001b[0m\u001b[1;33m\u001b[0m\u001b[0m\n\u001b[0;32m      2\u001b[0m \u001b[0mch\u001b[0m\u001b[1;33m=\u001b[0m\u001b[0minput\u001b[0m\u001b[1;33m(\u001b[0m\u001b[1;34m\"Enter any character\"\u001b[0m\u001b[1;33m)\u001b[0m\u001b[1;33m\u001b[0m\u001b[1;33m\u001b[0m\u001b[0m\n\u001b[1;32m----> 3\u001b[1;33m \u001b[1;32mif\u001b[0m \u001b[1;33m(\u001b[0m\u001b[0mord\u001b[0m\u001b[1;33m(\u001b[0m\u001b[0mch\u001b[0m\u001b[1;33m)\u001b[0m\u001b[1;33m>=\u001b[0m\u001b[1;36m97\u001b[0m \u001b[1;32mand\u001b[0m \u001b[0mord\u001b[0m\u001b[1;33m(\u001b[0m\u001b[0mch\u001b[0m\u001b[1;33m)\u001b[0m\u001b[1;33m<=\u001b[0m\u001b[1;36m122\u001b[0m\u001b[1;33m)\u001b[0m \u001b[1;32mor\u001b[0m \u001b[1;33m(\u001b[0m\u001b[0mord\u001b[0m\u001b[1;33m(\u001b[0m\u001b[0mch\u001b[0m\u001b[1;33m)\u001b[0m\u001b[1;33m>=\u001b[0m\u001b[1;36m65\u001b[0m \u001b[1;32mand\u001b[0m \u001b[0mord\u001b[0m\u001b[1;33m(\u001b[0m\u001b[0mch\u001b[0m\u001b[1;33m)\u001b[0m\u001b[1;33m<=\u001b[0m\u001b[1;36m90\u001b[0m\u001b[1;33m)\u001b[0m\u001b[1;33m:\u001b[0m\u001b[1;33m\u001b[0m\u001b[1;33m\u001b[0m\u001b[0m\n\u001b[0m\u001b[0;32m      4\u001b[0m     \u001b[0mprint\u001b[0m\u001b[1;33m(\u001b[0m\u001b[1;34m\"it is alphabet\"\u001b[0m\u001b[1;33m)\u001b[0m\u001b[1;33m\u001b[0m\u001b[1;33m\u001b[0m\u001b[0m\n\u001b[0;32m      5\u001b[0m \u001b[1;32melse\u001b[0m\u001b[1;33m:\u001b[0m\u001b[1;33m\u001b[0m\u001b[1;33m\u001b[0m\u001b[0m\n",
      "\u001b[1;31mTypeError\u001b[0m: ord() expected a character, but string of length 7 found"
     ]
    }
   ],
   "source": [
    "#to check the given character is alphabet or not\n",
    "ch=input(\"Enter any character\")\n",
    "if (ord(ch)>=97 and ord(ch)<=122) or (ord(ch)>=65 and ord(ch)<=90):\n",
    "    print(\"it is alphabet\")\n",
    "else:\n",
    "    print(\"it is not an alphabet\")"
   ]
  },
  {
   "cell_type": "code",
   "execution_count": 32,
   "metadata": {},
   "outputs": [
    {
     "name": "stdout",
     "output_type": "stream",
     "text": [
      "Enter any characterj$#@%\n",
      "it is alphabet\n"
     ]
    }
   ],
   "source": [
    "#to check the given character is alphabet or not\n",
    "ch=input(\"Enter any character\");\n",
    "if ((ch>='a' and ch<='z') or (ch>='A' and ch<='Z')):\n",
    "    print(\"it is alphabet\");\n",
    "else:\n",
    "    print(\"it is not an alphabet\");"
   ]
  },
  {
   "cell_type": "markdown",
   "metadata": {},
   "source": [
    "## Loops Or Iteratative Structure"
   ]
  },
  {
   "cell_type": "markdown",
   "metadata": {},
   "source": [
    "### while loop\n",
    "#### Syntax\n",
    "    while expression:\n",
    "       statement(s)\n"
   ]
  },
  {
   "cell_type": "markdown",
   "metadata": {},
   "source": [
    "### for loop\n",
    "#### Syntax\n",
    "    for iterating_var in sequence:\n",
    "       statements(s)"
   ]
  },
  {
   "cell_type": "markdown",
   "metadata": {},
   "source": [
    "## Loop Control Statements"
   ]
  },
  {
   "cell_type": "markdown",
   "metadata": {},
   "source": [
    "### break statement\n",
    "    Terminates the loop statement and transfers execution to the statement immediately following the loop.\n"
   ]
  },
  {
   "cell_type": "markdown",
   "metadata": {},
   "source": [
    "### continue statement\n",
    "    Causes the loop to skip the remainder of its body and immediately retest its condition prior to reiterating."
   ]
  },
  {
   "cell_type": "markdown",
   "metadata": {},
   "source": [
    "### pass statement\n",
    "    The pass statement in Python is used when a statement is required syntactically but you do not want any command or code to execute."
   ]
  },
  {
   "cell_type": "markdown",
   "metadata": {},
   "source": [
    "# Examples of loop structures"
   ]
  },
  {
   "cell_type": "code",
   "execution_count": 8,
   "metadata": {},
   "outputs": [
    {
     "name": "stdout",
     "output_type": "stream",
     "text": [
      "Python"
     ]
    }
   ],
   "source": [
    "#for loop for string\n",
    "for letter in 'Python':     \n",
    "    #print ('Current Letter :', letter)\n",
    "    print(letter,end=\"\")\n",
    "  "
   ]
  },
  {
   "cell_type": "code",
   "execution_count": 11,
   "metadata": {},
   "outputs": [
    {
     "name": "stdout",
     "output_type": "stream",
     "text": [
      "banana,apple,mango,"
     ]
    }
   ],
   "source": [
    "#for loop for list\n",
    "fruits = ['banana', 'apple',  'mango']\n",
    "for f in fruits:        \n",
    "    #print ('Current fruit :', f)\n",
    "    print(f,end=\",\")\n",
    "   \n"
   ]
  },
  {
   "cell_type": "code",
   "execution_count": 12,
   "metadata": {},
   "outputs": [
    {
     "name": "stdout",
     "output_type": "stream",
     "text": [
      "banana,apple,mango,"
     ]
    }
   ],
   "source": [
    "#for loop for list\n",
    "\n",
    "for fruit in ['banana', 'apple',  'mango']:        \n",
    "   #print ('Current fruit :', fruit)\n",
    "    print(fruit,end=\",\")"
   ]
  },
  {
   "cell_type": "code",
   "execution_count": 13,
   "metadata": {},
   "outputs": [
    {
     "name": "stdout",
     "output_type": "stream",
     "text": [
      "banana,apple,mango,"
     ]
    }
   ],
   "source": [
    "#for loop for tuple\n",
    "fruits = ('banana', 'apple',  'mango')\n",
    "for f in fruits:        \n",
    "   #print ('Current fruit :', fruit)\n",
    "    print(f,end=\",\")\n",
    "   \n"
   ]
  },
  {
   "cell_type": "code",
   "execution_count": 14,
   "metadata": {},
   "outputs": [
    {
     "name": "stdout",
     "output_type": "stream",
     "text": [
      "apple,banana,mango,"
     ]
    }
   ],
   "source": [
    "#for loop for set\n",
    "fruits = {'banana', 'apple',  'mango'}\n",
    "for f in fruits:        \n",
    "   #print ('Current fruit :', fruit)\n",
    "    print(f,end=\",\")"
   ]
  },
  {
   "cell_type": "code",
   "execution_count": 33,
   "metadata": {},
   "outputs": [
    {
     "name": "stdout",
     "output_type": "stream",
     "text": [
      "name,id,address,"
     ]
    }
   ],
   "source": [
    "#for loop for dictionary\n",
    "data = {'name':'jay', 'id':10,  'address':'naranpura'}\n",
    "for k in data:        \n",
    "   #print ('Current fruit :', fruit)\n",
    "    print(k,end=\",\")"
   ]
  },
  {
   "cell_type": "code",
   "execution_count": 15,
   "metadata": {},
   "outputs": [
    {
     "name": "stdout",
     "output_type": "stream",
     "text": [
      "name,id,address,"
     ]
    }
   ],
   "source": [
    "#for loop for dictionary\n",
    "data = {'name':'jay', 'id':10,  'address':'naranpura'}\n",
    "for k in data.keys():        \n",
    "   #print ('Current fruit :', fruit)\n",
    "    print(k,end=\",\")"
   ]
  },
  {
   "cell_type": "code",
   "execution_count": 16,
   "metadata": {},
   "outputs": [
    {
     "name": "stdout",
     "output_type": "stream",
     "text": [
      "jay,10,naranpura,"
     ]
    }
   ],
   "source": [
    "#for loop for dictionary\n",
    "data = {'name':'jay', 'id':10,  'address':'naranpura'}\n",
    "for v in data.values():        \n",
    "   #print ('Current fruit :', fruit)\n",
    "    print(v,end=\",\")"
   ]
  },
  {
   "cell_type": "code",
   "execution_count": 17,
   "metadata": {},
   "outputs": [
    {
     "name": "stdout",
     "output_type": "stream",
     "text": [
      "name : jay\n",
      "id : 10\n",
      "address : naranpura\n"
     ]
    }
   ],
   "source": [
    "#for loop for dictionary\n",
    "data = {'name':'jay', 'id':10,  'address':'naranpura'}\n",
    "for k in data.keys():        \n",
    "   #print ('Current fruit :', fruit)\n",
    "    print(k,\":\",data[k])"
   ]
  },
  {
   "cell_type": "code",
   "execution_count": 24,
   "metadata": {},
   "outputs": [
    {
     "name": "stdout",
     "output_type": "stream",
     "text": [
      "('name', 'jay')\n",
      "('id', 10)\n",
      "('address', 'naranpura')\n"
     ]
    }
   ],
   "source": [
    "#for loop for dictionary\n",
    "data = {'name':'jay', 'id':10,  'address':'naranpura'}\n",
    "for t in data.items():        \n",
    "   #print ('Current fruit :', fruit)\n",
    "    print(t)#key value pair--tuple"
   ]
  },
  {
   "cell_type": "code",
   "execution_count": 27,
   "metadata": {},
   "outputs": [
    {
     "name": "stdout",
     "output_type": "stream",
     "text": [
      "Hello 1\n",
      "Hello 2\n",
      "Hello 3\n",
      "Hello 4\n",
      "Hello 5\n",
      "Hello 6\n",
      "Hello 7\n",
      "Hello 8\n",
      "Hello 9\n",
      "Hello 10\n"
     ]
    }
   ],
   "source": [
    "#for loop using range of values \n",
    "#bydefault it will start from 0\n",
    "#range(start,end,step)\n",
    "#bydefault start=0, step=1\n",
    "for i in range(1,11,1):\n",
    "    print(\"Hello\",i)\n",
    "\n",
    "    "
   ]
  },
  {
   "cell_type": "code",
   "execution_count": 29,
   "metadata": {},
   "outputs": [
    {
     "name": "stdout",
     "output_type": "stream",
     "text": [
      "1\n",
      "2\n",
      "3\n",
      "4\n",
      "5\n"
     ]
    }
   ],
   "source": [
    "#for loop using range of values \n",
    "for i in range(1,6):\n",
    "    print(i)"
   ]
  },
  {
   "cell_type": "code",
   "execution_count": 30,
   "metadata": {},
   "outputs": [
    {
     "name": "stdout",
     "output_type": "stream",
     "text": [
      "1\n",
      "3\n",
      "5\n",
      "7\n",
      "9\n",
      "11\n",
      "13\n",
      "15\n",
      "17\n",
      "19\n"
     ]
    }
   ],
   "source": [
    "#for loop using range of values\n",
    "for i in range(1,21,2):\n",
    "    print(i)"
   ]
  },
  {
   "cell_type": "code",
   "execution_count": 31,
   "metadata": {},
   "outputs": [
    {
     "name": "stdout",
     "output_type": "stream",
     "text": [
      "10\n",
      "15\n",
      "20\n",
      "25\n",
      "30\n",
      "35\n",
      "40\n",
      "45\n",
      "50\n"
     ]
    }
   ],
   "source": [
    "#for loop using range of values bydefult it will start from 0\n",
    "for i in range(10,51,5):\n",
    "    print(i)"
   ]
  },
  {
   "cell_type": "code",
   "execution_count": 32,
   "metadata": {},
   "outputs": [
    {
     "name": "stdout",
     "output_type": "stream",
     "text": [
      "10\n",
      "9\n",
      "8\n",
      "7\n",
      "6\n",
      "5\n",
      "4\n",
      "3\n",
      "2\n",
      "1\n"
     ]
    }
   ],
   "source": [
    "#for loop using range of values bydefult it will start from 0\n",
    "for i in range(10,0,-1):\n",
    "    print(i)"
   ]
  },
  {
   "cell_type": "code",
   "execution_count": 33,
   "metadata": {},
   "outputs": [
    {
     "name": "stdout",
     "output_type": "stream",
     "text": [
      "0\n",
      "1\n",
      "2\n",
      "3\n",
      "4\n",
      "5\n",
      "6\n",
      "7\n",
      "8\n",
      "9\n",
      "10\n"
     ]
    }
   ],
   "source": [
    "for i in range(11):\n",
    "    print(i)"
   ]
  },
  {
   "cell_type": "code",
   "execution_count": 35,
   "metadata": {},
   "outputs": [
    {
     "name": "stdout",
     "output_type": "stream",
     "text": [
      "python"
     ]
    }
   ],
   "source": [
    "str=\"python\"\n",
    "for i in range(0,len(str)):\n",
    "    print(str[i],end=\"\")"
   ]
  },
  {
   "cell_type": "code",
   "execution_count": 47,
   "metadata": {},
   "outputs": [
    {
     "name": "stdout",
     "output_type": "stream",
     "text": [
      "banana,apple,manago,"
     ]
    }
   ],
   "source": [
    "lst=[\"banana\",\"apple\",\"manago\"]\n",
    "for i in range(0,len(lst)):  \n",
    "    print(lst[i],end=\",\")"
   ]
  },
  {
   "cell_type": "code",
   "execution_count": 36,
   "metadata": {},
   "outputs": [
    {
     "name": "stdout",
     "output_type": "stream",
     "text": [
      "10\n",
      "9\n",
      "8\n",
      "7\n",
      "6\n",
      "5\n",
      "4\n",
      "3\n",
      "2\n",
      "1\n"
     ]
    }
   ],
   "source": [
    "for i in range(10,0,-1):\n",
    "    print(i)"
   ]
  },
  {
   "cell_type": "code",
   "execution_count": 38,
   "metadata": {},
   "outputs": [
    {
     "name": "stdout",
     "output_type": "stream",
     "text": [
      "Enter any number5\n",
      "1\n",
      "2\n",
      "3\n",
      "4\n",
      "5\n"
     ]
    }
   ],
   "source": [
    "no=int(input(\"Enter any number\"))\n",
    "for i in range(1,no+1):\n",
    "    print(i)"
   ]
  },
  {
   "cell_type": "code",
   "execution_count": 39,
   "metadata": {},
   "outputs": [
    {
     "name": "stdout",
     "output_type": "stream",
     "text": [
      "1,2,3,4,5,6,7,8,9,10,"
     ]
    }
   ],
   "source": [
    "#while loop\n",
    "i=1#inialization\n",
    "while i<=10:#condition\n",
    "    print(i,end=\",\")\n",
    "    i=i+1#update"
   ]
  },
  {
   "cell_type": "code",
   "execution_count": 41,
   "metadata": {},
   "outputs": [
    {
     "name": "stdout",
     "output_type": "stream",
     "text": [
      "1,2,3,4,5,6,7,8,9,10,"
     ]
    }
   ],
   "source": [
    "for i in range(1,11,1):\n",
    "    print(i,end=\",\")"
   ]
  },
  {
   "cell_type": "code",
   "execution_count": 45,
   "metadata": {},
   "outputs": [
    {
     "name": "stdout",
     "output_type": "stream",
     "text": [
      "Hello\n",
      "Hello\n",
      "Hello\n",
      "Hello\n",
      "5   1   6\n"
     ]
    }
   ],
   "source": [
    "#while loop\n",
    "i=1\n",
    "j=5\n",
    "k=10\n",
    "while i<=5 and j>=2:\n",
    "    print(\"Hello\")\n",
    "    i=i+1\n",
    "    j=j-1\n",
    "    k=i+j\n",
    "    \n",
    "print(i,' ',j,' ',k)"
   ]
  },
  {
   "cell_type": "code",
   "execution_count": 1,
   "metadata": {},
   "outputs": [
    {
     "name": "stdout",
     "output_type": "stream",
     "text": [
      "Enter any no1234\n",
      "The sum of digit is  10\n"
     ]
    }
   ],
   "source": [
    "#to do the sum of digit of a given no\n",
    "sum=0\n",
    "no=int(input(\"Enter any no\"))\n",
    "while(no>0):\n",
    "    rem=no%10\n",
    "    sum=sum+rem\n",
    "    no=no//10    #for qoutiont\n",
    "print(\"The sum of digit is \",sum)"
   ]
  },
  {
   "cell_type": "code",
   "execution_count": 2,
   "metadata": {},
   "outputs": [
    {
     "name": "stdout",
     "output_type": "stream",
     "text": [
      "Enter any no153\n",
      "sum  153\n",
      "It is an armstrong no\n"
     ]
    }
   ],
   "source": [
    "#to check the given no is armstrong or not\n",
    "no=int(input(\"Enter any no\"))\n",
    "temp=no\n",
    "sum=0\n",
    "while temp>0:\n",
    "    rem=temp%10\n",
    "    sum=sum+(rem**3)\n",
    "    temp=temp//10\n",
    "print(\"sum \",sum)\n",
    "if sum==no:\n",
    "    print(\"It is an armstrong no\")\n",
    "else:\n",
    "    print(\"It is not an armstrong no\")\n"
   ]
  },
  {
   "cell_type": "code",
   "execution_count": 3,
   "metadata": {},
   "outputs": [
    {
     "name": "stdout",
     "output_type": "stream",
     "text": [
      "Enter any no153\n",
      "The reverse no  351\n",
      "it is not a pallendrome\n"
     ]
    }
   ],
   "source": [
    "#to find the reverse no and check it is pallendrome or not\n",
    "revno=0\n",
    "no=int(input(\"Enter any no\"))\n",
    "temp=no\n",
    "while temp>0:\n",
    "    rem=temp%10\n",
    "    revno=(revno*10)+rem\n",
    "    temp=temp//10\n",
    "\n",
    "print(\"The reverse no \",revno)\n",
    "if revno==no:\n",
    "    print(\"It is pallendrome\")\n",
    "else:\n",
    "    print(\"it is not a pallendrome\")\n",
    "\n",
    "\n"
   ]
  },
  {
   "cell_type": "code",
   "execution_count": 5,
   "metadata": {},
   "outputs": [
    {
     "name": "stdout",
     "output_type": "stream",
     "text": [
      "Enter any no1\n",
      "it is prime\n"
     ]
    }
   ],
   "source": [
    "#to check the given no is prime or not\n",
    "count=0\n",
    "no=int(input(\"Enter any no\"))\n",
    "for i in range(1,no+1):\n",
    "    if no%i==0:\n",
    "        count=count+1\n",
    "\n",
    "if count<=2:\n",
    "    print(\"it is prime\")\n",
    "else:\n",
    "    print(\"It is not a prime\")"
   ]
  },
  {
   "cell_type": "code",
   "execution_count": 6,
   "metadata": {},
   "outputs": [
    {
     "name": "stdout",
     "output_type": "stream",
     "text": [
      "Enter any no17\n",
      "it is prime\n"
     ]
    }
   ],
   "source": [
    "#to check the given no is prime or not\n",
    "flag=0\n",
    "no=int(input(\"Enter any no\"))\n",
    "for i in range(2,no):\n",
    "    if no%i==0:\n",
    "        flag=1\n",
    "        break\n",
    "if flag==0:\n",
    "    print(\"it is prime\");\n",
    "else:\n",
    "    print(\"It is not a prime\")\n"
   ]
  },
  {
   "cell_type": "code",
   "execution_count": 31,
   "metadata": {},
   "outputs": [
    {
     "name": "stdout",
     "output_type": "stream",
     "text": [
      "Enter any no32\n",
      "It is not prime\n"
     ]
    }
   ],
   "source": [
    "#to check the given no is prime or not\n",
    "no=int(input(\"Enter any no\"))\n",
    "for i in range(2,no):\n",
    "    if no%i==0:\n",
    "        print(\"It is not prime\")\n",
    "        break\n",
    "else:\n",
    "    print(\"It is prime\")\n",
    "\n"
   ]
  },
  {
   "cell_type": "code",
   "execution_count": null,
   "metadata": {},
   "outputs": [],
   "source": []
  }
 ],
 "metadata": {
  "kernelspec": {
   "display_name": "Python 3 (ipykernel)",
   "language": "python",
   "name": "python3"
  },
  "language_info": {
   "codemirror_mode": {
    "name": "ipython",
    "version": 3
   },
   "file_extension": ".py",
   "mimetype": "text/x-python",
   "name": "python",
   "nbconvert_exporter": "python",
   "pygments_lexer": "ipython3",
   "version": "3.9.7"
  }
 },
 "nbformat": 4,
 "nbformat_minor": 4
}
