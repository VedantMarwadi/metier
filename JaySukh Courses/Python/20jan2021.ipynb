{
 "cells": [
  {
   "cell_type": "markdown",
   "metadata": {},
   "source": [
    "# Python - Modules"
   ]
  },
  {
   "cell_type": "markdown",
   "metadata": {},
   "source": [
    "    A module allows you to logically organize your Python code. \n",
    "    \n",
    "    Grouping related code into a module makes the code easier to understand and use. \n",
    "    \n",
    "    Simply, a module is a file consisting of Python code. A module can define functions, classes and variables. A module can also include runnable code.\n",
    "    "
   ]
  },
  {
   "cell_type": "markdown",
   "metadata": {},
   "source": [
    "# The import Statement"
   ]
  },
  {
   "cell_type": "markdown",
   "metadata": {},
   "source": [
    "    You can use any Python source file as a module by executing an import statement in some other Python source file. The import has the following syntax −\n",
    "    import module1[, module2[,... moduleN]\n",
    "\n",
    "    A module is loaded only once, regardless of the number of times it is imported. This prevents the module execution from happening over and over again if multiple imports occur."
   ]
  },
  {
   "cell_type": "markdown",
   "metadata": {},
   "source": [
    "# The from...import Statement"
   ]
  },
  {
   "cell_type": "markdown",
   "metadata": {},
   "source": [
    "    Python's from statement lets you import specific attributes from a module into the current namespace. The from...import has the following syntax\n",
    "\n",
    "    from modname import name1[, name2[, ... nameN]]"
   ]
  },
  {
   "cell_type": "markdown",
   "metadata": {},
   "source": [
    "# The from...import * Statement"
   ]
  },
  {
   "cell_type": "markdown",
   "metadata": {},
   "source": [
    "    It is also possible to import all names from a module into the current namespace by using the following import statement −\n",
    "\n",
    "    from modname import *\n",
    "\n",
    "    This provides an easy way to import all the items from a module into the current namespace; however, this statement should be used sparingly."
   ]
  },
  {
   "cell_type": "code",
   "execution_count": null,
   "metadata": {},
   "outputs": [],
   "source": [
    "'''\n",
    "save this code to mymodule.py\n",
    "def factorial( no ):\n",
    "   \n",
    "   if no==1:\n",
    "      return 1\n",
    "   else:\n",
    "      fact=no*factorial(no-1)\n",
    "   return fact\n",
    "\n",
    "def isprime( no ):\n",
    "   flag=0\n",
    "   for i in range(2,no):\n",
    "      if no%i==0:\n",
    "         flag=1\n",
    "         break\n",
    "   if flag==1:\n",
    "      return False;\n",
    "   else:\n",
    "      return True;\n",
    "   \n",
    "def factorial2( no ):\n",
    "   fact=1\n",
    "   for i in range(1,no+1):\n",
    "      fact=fact*i\n",
    "   return fact\n",
    "\n",
    "def printno(no):\n",
    "    if no==0:\n",
    "        return\n",
    "    else:\n",
    "        print(no,end=\"\")\n",
    "        printno(no-1)\n",
    "   \n",
    "'''"
   ]
  },
  {
   "cell_type": "code",
   "execution_count": 1,
   "metadata": {},
   "outputs": [
    {
     "name": "stdout",
     "output_type": "stream",
     "text": [
      "120\n",
      "True\n",
      "120\n",
      "100999897969594939291908988878685848382818079787776757473727170696867666564636261605958575655545352515049484746454443424140393837363534333231302928272625242322212019181716151413121110987654321"
     ]
    }
   ],
   "source": [
    "#import manohar\n",
    "#from manohar import factorial,factorial2,isprime,printno\n",
    "from devmodule import *\n",
    "f=factorial(5)\n",
    "print(f)\n",
    "\n",
    "flag=isprime(17)\n",
    "print(flag)\n",
    "\n",
    "f=factorial2(5)\n",
    "print(f)\n",
    "\n",
    "printno(100)\n"
   ]
  },
  {
   "cell_type": "code",
   "execution_count": 2,
   "metadata": {},
   "outputs": [
    {
     "name": "stdout",
     "output_type": "stream",
     "text": [
      "True\n",
      "120\n",
      "120\n"
     ]
    }
   ],
   "source": [
    "from manohar import isprime\n",
    "from manohar import factorial\n",
    "from manohar import factorial2\n",
    "\n",
    "\n",
    "#from mymodule import *\n",
    "flag=isprime(17)\n",
    "print(flag)\n",
    "\n",
    "flag=factorial(5)\n",
    "print(flag)\n",
    "\n",
    "flag=factorial2(5)\n",
    "print(flag)\n",
    "\n"
   ]
  },
  {
   "cell_type": "code",
   "execution_count": 5,
   "metadata": {},
   "outputs": [
    {
     "name": "stdout",
     "output_type": "stream",
     "text": [
      "Maximum is  78\n"
     ]
    }
   ],
   "source": [
    "def maxthree(a,b,c):\n",
    "    if a>b and a>c:\n",
    "        return a\n",
    "    elif b>a and b>c:\n",
    "        return b\n",
    "    else:\n",
    "        return c\n",
    "\n",
    "m=maxthree(34,56,78)\n",
    "print(\"Maximum is \",m)"
   ]
  },
  {
   "cell_type": "code",
   "execution_count": 3,
   "metadata": {},
   "outputs": [
    {
     "name": "stdout",
     "output_type": "stream",
     "text": [
      "120\n",
      "True\n",
      "120\n",
      "100999897969594939291908988878685848382818079787776757473727170696867666564636261605958575655545352515049484746454443424140393837363534333231302928272625242322212019181716151413121110987654321"
     ]
    }
   ],
   "source": [
    "import mymodule as m\n",
    "f=m.factorial(5)\n",
    "print(f)\n",
    "\n",
    "flag=m.isprime(17)\n",
    "print(flag)\n",
    "\n",
    "f=m.factorial2(5)\n",
    "print(f)\n",
    "\n",
    "m.printno(100)\n"
   ]
  },
  {
   "cell_type": "markdown",
   "metadata": {},
   "source": [
    "# Python - Files I/O"
   ]
  },
  {
   "cell_type": "markdown",
   "metadata": {},
   "source": [
    "# The open Function"
   ]
  },
  {
   "cell_type": "markdown",
   "metadata": {},
   "source": [
    "    Before you can read or write a file, you have to open it using Python's built-in open() function. This function creates a file object, which would be utilized to call other support methods associated with it.\n",
    "\n",
    "    Syntax\n",
    "    file object = open(file_name [, access_mode])\n",
    "\n",
    "    Here are parameter details −\n",
    "    file_name − The file_name argument is a string value that contains the name of the file that you want to access.\n",
    "    access_mode − The access_mode determines the mode in which the file has to be opened, i.e., read, write, append, etc. A complete list of possible values is given below in the table. This is optional parameter and the default file access mode is read (r)."
   ]
  },
  {
   "cell_type": "markdown",
   "metadata": {},
   "source": [
    "    r\n",
    "    Opens a file for reading only.This is the default mode.\n",
    "    \n",
    "    rb\n",
    "    Opens a file for reading only in binary format.\n",
    "    \n",
    "    r+\n",
    "    Opens a file for both reading and writing.\n",
    "    \n",
    "    rb+\n",
    "    Opens a file for both reading and writing in binary format.\n",
    "    \n",
    "    w\n",
    "    Opens a file for writing only. Overwrites the file if the file exists. If the file does not exist, creates a new file for writing.\n",
    "    \n",
    "    wb\n",
    "    Opens a file for writing only in binary format. Overwrites the file if the file exists. If the file does not exist, creates a new file for writing.\n",
    "    \n",
    "    w+\n",
    "    Opens a file for both writing and reading. Overwrites the existing file if the file exists. If the file does not exist, creates a new file for reading and writing.\n",
    "    \n",
    "    wb+\n",
    "    Opens a file for both writing and reading in binary format. Overwrites the existing file if the file exists. If the file does not exist, creates a new file for reading and writing.\n",
    "    \n",
    "    a\n",
    "    Opens a file for appending. The file pointer is at the end of the file if the file exists. That is, the file is in the append mode. If the file does not exist, it creates a new file for writing.\n",
    "    \n",
    "    ab\n",
    "    Opens a file for appending in binary format. The file pointer is at the end of the file if the file exists. That is, the file is in the append mode. If the file does not exist, it creates a new file for writing.\n",
    "    \n",
    "    a+\n",
    "    Opens a file for both appending and reading. The file pointer is at the end of the file if the file exists. The file opens in the append mode. If the file does not exist, it creates a new file for reading and writing.\n",
    "    \n",
    "    ab+\n",
    "    Opens a file for both appending and reading in binary format. The file pointer is at the end of the file if the file exists. The file opens in the append mode. If the file does not exist, it creates a new file for reading and writing.\n"
   ]
  },
  {
   "cell_type": "markdown",
   "metadata": {},
   "source": [
    "# The file Object Attributes"
   ]
  },
  {
   "cell_type": "markdown",
   "metadata": {},
   "source": [
    "    Once a file is opened and you have one file object, you can get various information related to that file.\n",
    "    \n",
    "    Here is a list of all attributes related to file object −\n",
    "    \n",
    "    file.closed\n",
    "    Returns true if file is closed, false otherwise.\n",
    "\n",
    "    file.mode\n",
    "    Returns access mode with which file was opened.\n",
    "\n",
    "    file.name\n",
    "    Returns name of the file.\n"
   ]
  },
  {
   "cell_type": "code",
   "execution_count": 1,
   "metadata": {},
   "outputs": [
    {
     "name": "stdout",
     "output_type": "stream",
     "text": [
      "Name of the file:  foo.txt\n",
      "Closed or not :  False\n",
      "Opening mode :  wb\n",
      "Closed or not :  True\n"
     ]
    }
   ],
   "source": [
    "# Open a file\n",
    "fo = open(\"foo.txt\", \"wb\")\n",
    "print (\"Name of the file: \", fo.name)\n",
    "print (\"Closed or not : \", fo.closed)\n",
    "print (\"Opening mode : \", fo.mode)\n",
    "fo.close()\n",
    "print (\"Closed or not : \", fo.closed)"
   ]
  },
  {
   "cell_type": "markdown",
   "metadata": {},
   "source": [
    "# The close() Method"
   ]
  },
  {
   "cell_type": "markdown",
   "metadata": {},
   "source": [
    "    The close() method of a file object flushes any unwritten information and closes the file object, after which no more writing can be done.\n",
    "    \n",
    "    Python automatically closes a file when the reference object of a file is reassigned to another file. It is a good practice to use the close() method to close a file."
   ]
  },
  {
   "cell_type": "markdown",
   "metadata": {},
   "source": [
    "# Reading and Writing Files"
   ]
  },
  {
   "cell_type": "markdown",
   "metadata": {},
   "source": [
    "    The file object provides a set of access methods to make our lives easier. \n",
    "\n",
    "    We would see how to use read() and write() methods to read and write files."
   ]
  },
  {
   "cell_type": "markdown",
   "metadata": {},
   "source": [
    "### The write() Method"
   ]
  },
  {
   "cell_type": "markdown",
   "metadata": {},
   "source": [
    "    The write() method writes any string to an open file. \n",
    "    \n",
    "    The write() method does not add a newline character ('\\n') to the end of the string −\n",
    "\n",
    "    Syntax\n",
    "    fileObject.write(string)\n",
    "    \n",
    "    Here, passed parameter is the content to be written into the opened file."
   ]
  },
  {
   "cell_type": "code",
   "execution_count": 2,
   "metadata": {},
   "outputs": [],
   "source": [
    "# Open a file\n",
    "fo = open(\"dev.txt\", \"w\")\n",
    "fo.write( \"Python is a great language.\\nYeah its great!!\\n\");\n",
    "fo.write( \"Python is a great language.\\nYeah its great!!\\n\");\n",
    "fo.write( \"Python is a great language.\\nYeah its great!!\\n\");\n",
    "# Close opend file\n",
    "fo.close()"
   ]
  },
  {
   "cell_type": "markdown",
   "metadata": {},
   "source": [
    "### The read() Method"
   ]
  },
  {
   "cell_type": "markdown",
   "metadata": {},
   "source": [
    "    The read() method reads a string from an open file. \n",
    "    Syntax\n",
    "\n",
    "    fileObject.read([count]);\n",
    "\n",
    "    Here, passed parameter is the number of bytes to be read from the opened file. This method starts reading from the beginning of the file and if count is missing, then it tries to read as much as possible, maybe until the end of file."
   ]
  },
  {
   "cell_type": "code",
   "execution_count": 12,
   "metadata": {},
   "outputs": [
    {
     "name": "stdout",
     "output_type": "stream",
     "text": [
      "Read String is : \n",
      " Python is a great language.\n",
      "Yeah its great!!\n",
      "Python is a great language.\n",
      "Yeah its great!!\n",
      "Python is a great language.\n",
      "Yeah its great!!\n",
      "\n"
     ]
    }
   ],
   "source": [
    "# Open a file\n",
    "fo = open(\"dev.txt\", \"r\")\n",
    "#fo = open(\"E:\\laptop\\python\\hangman.py\", \"r\")\n",
    "#fo = open(\"e:\\laptop\\java\\\\array1.java\", \"r\")\n",
    "#fo = open(\"foo5.txt\", \"r\")\n",
    "str = fo.read()\n",
    "print (\"Read String is : \\n\",str)\n",
    "\n",
    "\n",
    "# Close opend file\n",
    "fo.close()\n"
   ]
  },
  {
   "cell_type": "code",
   "execution_count": 15,
   "metadata": {},
   "outputs": [
    {
     "name": "stdout",
     "output_type": "stream",
     "text": [
      "line no  1 Python is a great language.\n",
      "\n",
      "line no  2 Yeah its great!!\n",
      "\n",
      "line no  3 Python is a great language.\n",
      "\n",
      "line no  4 Yeah its great!!\n",
      "\n",
      "line no  5 Python is a great language.\n",
      "\n",
      "line no  6 Yeah its great!!\n",
      "\n"
     ]
    }
   ],
   "source": [
    "# Open a file\n",
    "fo = open(\"dev.txt\", \"r\")\n",
    "#fo = open(\"E:\\laptop\\python\\hangman.py\", \"r\")\n",
    "i=1\n",
    "for line in fo:\n",
    "    print(\"line no \",i,line)\n",
    "    i=i+1\n",
    "\n",
    "# Close opend file\n",
    "fo.close()"
   ]
  },
  {
   "cell_type": "code",
   "execution_count": 16,
   "metadata": {},
   "outputs": [
    {
     "name": "stdout",
     "output_type": "stream",
     "text": [
      "Enter First Number56\n",
      "Enter Second Number12\n",
      "1. Addition.\n",
      "2. Subtaction.\n",
      "3. Multiplication.\n",
      "4. Division.\n",
      "5. Modulus.\n",
      "6. Square.\n",
      "7. Cube.\n",
      "\n",
      "Enter your choice3\n",
      "Multiplication is  672\n"
     ]
    }
   ],
   "source": [
    "## Menu driven calculator by using ladder if else\n",
    "\n",
    "a=int(input(\"Enter First Number\"))\n",
    "b=int(input(\"Enter Second Number\"))\n",
    "fo=open('menu.txt','r')\n",
    "print(fo.read())\n",
    "no=int(input(\"Enter your choice\"))\n",
    "\n",
    "if no==1:\n",
    "    c=a+b\n",
    "    print(\"Addition is \",c)\n",
    "elif no==2:\n",
    "    c=a-b\n",
    "    print(\"Subtraction is \",c)\n",
    "elif no==3:\n",
    "    c=a*b;\n",
    "    print(\"Multiplication is \",c)\n",
    "elif no==4:\n",
    "    c=a/b;\n",
    "    print(\"Division is \",c)\n",
    "elif no==5:\n",
    "    c=a%b\n",
    "    print(\"Modulus is \",c)\n",
    "elif no==6:\n",
    "    s=int(input(\"Enter any number\"))\n",
    "    s=s*s\n",
    "    print(\"Square is \",s)\n",
    "elif no==7:\n",
    "    q=int(input(\"Enter any number\"))\n",
    "    q=q*q*q\n",
    "    print(\"Cube is \",q)\n",
    "else:\n",
    "    print(\"Invalid choice try again\")\n",
    "\n"
   ]
  },
  {
   "cell_type": "markdown",
   "metadata": {},
   "source": [
    "# File Positions"
   ]
  },
  {
   "cell_type": "markdown",
   "metadata": {},
   "source": [
    "    The tell() method tells you the current position within the file\n",
    "\n",
    "    The seek(offset[, from]) method changes the current file position. The offsetargument indicates the number of bytes to be moved. The from argument specifies the reference position from where the bytes are to be moved.\n",
    "\n",
    "    If from is set to 0, it means use the beginning of the file as the reference position and 1 means use the current position as the reference position and if it is set to 2 then the end of the file would be taken as the reference position."
   ]
  },
  {
   "cell_type": "code",
   "execution_count": 17,
   "metadata": {},
   "outputs": [
    {
     "name": "stdout",
     "output_type": "stream",
     "text": [
      "Current file position :  0\n",
      "Read String is :  b'Python is '\n",
      "Current file position :  10\n",
      "Current file position :  0\n",
      "Again read String is :  b'Python is '\n",
      "Current file position :  10\n",
      "Current file position :  5\n",
      "Again read String is :  b'n is '\n",
      "File size :  141\n",
      "b'nguag'\n",
      "current position :  25\n"
     ]
    }
   ],
   "source": [
    "# Open a file\n",
    "fo = open(\"dev.txt\", \"rb\")\n",
    "# Check current position\n",
    "position = fo.tell()\n",
    "print (\"Current file position : \", position)\n",
    "\n",
    "str = fo.read(10)\n",
    "print (\"Read String is : \", str)\n",
    "\n",
    "# Check current position\n",
    "position = fo.tell();\n",
    "print (\"Current file position : \", position)\n",
    "\n",
    "# Reposition pointer at the beginning once again\n",
    "position = fo.seek(0, 0);\n",
    "print (\"Current file position : \", position)\n",
    "str = fo.read(10);\n",
    "print (\"Again read String is : \", str)\n",
    "# Close opend file\n",
    "\n",
    "# Check current position\n",
    "position = fo.tell();\n",
    "print (\"Current file position : \", position)\n",
    "\n",
    "\n",
    "position= fo.seek(-5, 1);\n",
    "position = fo.tell();\n",
    "print (\"Current file position : \", position)\n",
    "\n",
    "str = fo.read(5);\n",
    "print (\"Again read String is : \", str)\n",
    "# Close opend file\n",
    "\n",
    "position=fo.seek(0, 2);\n",
    "#position = fo.tell();\n",
    "print (\"File size : \", position)\n",
    "\n",
    "fo.seek(20,0)\n",
    "print(fo.read(5))\n",
    "print (\"current position : \", fo.tell())\n",
    "fo.close()\n"
   ]
  },
  {
   "cell_type": "code",
   "execution_count": null,
   "metadata": {},
   "outputs": [],
   "source": [
    "# Renaming and Deleting Files\n",
    "\n",
    "    os.rename(current_file_name, new_file_name)\n",
    "    os.remove(file_name)"
   ]
  },
  {
   "cell_type": "code",
   "execution_count": 19,
   "metadata": {},
   "outputs": [],
   "source": [
    "import os\n",
    "os.rename( \"dev.txt\", \"dev12.txt\" )\n",
    "os.remove(\"dev6.txt\")"
   ]
  },
  {
   "cell_type": "markdown",
   "metadata": {},
   "source": [
    "# Directories in Python\n",
    "\n",
    "   The os module has several methods that help you create, remove, and change directories.\n",
    "\n",
    "    The mkdir() Method\n",
    "    The chdir() Method\n",
    "    The getcwd() Method\n",
    "    The rmdir() Method"
   ]
  },
  {
   "cell_type": "code",
   "execution_count": 21,
   "metadata": {},
   "outputs": [
    {
     "name": "stdout",
     "output_type": "stream",
     "text": [
      "E:\\laptop\\python\\manush\\test\\test2\\test\n",
      "E:\\laptop\\python\\manush\\test\\test2\\test\\test2\n"
     ]
    }
   ],
   "source": [
    "os.mkdir(\"test\")\n",
    "os.chdir(\"test\")\n",
    "print(os.getcwd())\n",
    "os.mkdir(\"test2\")\n",
    "os.chdir(\"test2\")\n",
    "print(os.getcwd())"
   ]
  },
  {
   "cell_type": "code",
   "execution_count": 1,
   "metadata": {},
   "outputs": [
    {
     "name": "stdout",
     "output_type": "stream",
     "text": [
      "E:\\laptop\\python\\manush\\test\\test2\n"
     ]
    }
   ],
   "source": [
    "import os,time\n",
    "os.chdir(\"E:\\\\laptop\\\\python\\\\manush\\\\test\\\\test2\")\n",
    "print(os.getcwd())\n",
    "os.remove(\"file1.txt\")\n",
    "os.chdir(\"E:\\\\laptop\\\\python\\\\manush\\\\test\")\n",
    "os.rmdir(\"test2\")\n",
    "os.chdir(\"E:\\\\laptop\\\\python\\\\manush\")\n",
    "os.rmdir(\"test\")"
   ]
  },
  {
   "cell_type": "code",
   "execution_count": null,
   "metadata": {},
   "outputs": [],
   "source": []
  }
 ],
 "metadata": {
  "kernelspec": {
   "display_name": "Python 3 (ipykernel)",
   "language": "python",
   "name": "python3"
  },
  "language_info": {
   "codemirror_mode": {
    "name": "ipython",
    "version": 3
   },
   "file_extension": ".py",
   "mimetype": "text/x-python",
   "name": "python",
   "nbconvert_exporter": "python",
   "pygments_lexer": "ipython3",
   "version": "3.9.7"
  }
 },
 "nbformat": 4,
 "nbformat_minor": 4
}
