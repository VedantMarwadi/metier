{
 "cells": [
  {
   "cell_type": "markdown",
   "metadata": {},
   "source": [
    "# Dictionary"
   ]
  },
  {
   "cell_type": "markdown",
   "metadata": {},
   "source": [
    "1. Dictionaries are kind of hash table type.    \n",
    "2. It is an associative array or it consist of key-value pairs.     \n",
    "3. A key can be almost any Python type, but are usually numbers or strings.     \n",
    "4. Values can be any Python object.    \n",
    "5. Dictionaries are enclosed by curly braces ({ }) and values can be assigned and accessed using square braces ([]).     \n"
   ]
  },
  {
   "cell_type": "code",
   "execution_count": 1,
   "metadata": {},
   "outputs": [
    {
     "name": "stdout",
     "output_type": "stream",
     "text": [
      "{}\n",
      "{'one': 'This is one', 'jay': 'pass', 'kiran': 'Fail', 1: 67, 'jay2910': 'hardisk', ('Name',): 78, 'nirav': ['hardisk', 'keyboard', 'mouse'], 'sirish': ('hardisk', 'keyboard', 'mouse'), 'ITS': {'trainer': 'Jaysukh patel', 'codeno': 100}}\n"
     ]
    }
   ],
   "source": [
    "dict1 = {}  #empty dictionary\n",
    "print(dict1)\n",
    "dict1['one'] = \"This is one\" # key-str value-str\n",
    "dict1['jay'] = \"pass\"        # key-str value-str\n",
    "dict1['kiran'] = \"Fail\"      # key-str value-str\n",
    "dict1[1] = 67                # key-number value-number\n",
    "dict1['jay2910']='hardisk'   # key-str value-str\n",
    "dict1[('Name',)]=78           # key-tuple value-number\n",
    "dict1['nirav']=['hardisk','keyboard','mouse']   # key-str value-list\n",
    "dict1['sirish']=('hardisk','keyboard','mouse')   # key-str value-tuple\n",
    "dict1['ITS']={'trainer':'Jaysukh patel','codeno':100}   # key-str value-dict\n",
    "\n",
    "print(dict1)\n",
    "\n"
   ]
  },
  {
   "cell_type": "code",
   "execution_count": 2,
   "metadata": {},
   "outputs": [
    {
     "name": "stdout",
     "output_type": "stream",
     "text": [
      "This is one\n",
      "Fail\n",
      "67\n",
      "This is two\n",
      "{'one': 1, 'jay': 'pass', 'kiran': 'Fail', 1: 67, 'jay2910': 'hardisk', ('Name',): 78, 'nirav': ['hardisk', 'keyboard', 'mouse'], 'sirish': ('hardisk', 'keyboard', 'mouse'), 'ITS': {'trainer': 'Jaysukh patel', 'codeno': 100}, 2: 'This is two'}\n"
     ]
    }
   ],
   "source": [
    "print(dict1['one'])       # Prints value for 'one' key\n",
    "print(dict1['kiran'])       # Prints value for 'one' key\n",
    "print(dict1[1])       # Prints value for 'one' key\n",
    "\n",
    "dict1[2]= \"This is two\"\n",
    "print(dict1[2])       # Prints value for 'one' key\n",
    "dict1['one']=1\n",
    "print(dict1)\n",
    "\n"
   ]
  },
  {
   "cell_type": "code",
   "execution_count": 3,
   "metadata": {},
   "outputs": [
    {
     "name": "stdout",
     "output_type": "stream",
     "text": [
      "{'one': 56, 'jay': 'pass', 'kiran': 'Fail', 1: 67, 'jay2910': 'hardisk', ('Name',): 78, 'nirav': ['hardisk', 'keyboard', 'mouse'], 'sirish': ('hardisk', 'keyboard', 'mouse'), 'ITS': {'trainer': 'Jaysukh patel', 'codeno': 100}, 2: 'This is two'}\n"
     ]
    }
   ],
   "source": [
    "dict1['one'] = 56\n",
    "print(dict1)\n",
    "\n",
    "\n"
   ]
  },
  {
   "cell_type": "code",
   "execution_count": 4,
   "metadata": {},
   "outputs": [
    {
     "name": "stdout",
     "output_type": "stream",
     "text": [
      "56\n",
      "This is two\n",
      "{'name': 'john', 'code': 6734, 'dept': 'sales'}\n",
      "dict_keys(['name', 'code', 'dept'])\n",
      "dict_values(['john', 6734, 'sales'])\n",
      "dict_keys(['one', 'jay', 'kiran', 1, 'jay2910', ('Name',), 'nirav', 'sirish', 'ITS', 2])\n",
      "dict_values([56, 'pass', 'Fail', 67, 'hardisk', 78, ['hardisk', 'keyboard', 'mouse'], ('hardisk', 'keyboard', 'mouse'), {'trainer': 'Jaysukh patel', 'codeno': 100}, 'This is two'])\n",
      "{'one': 56, 'jay': 67, 'kiran': 'Fail', 1: 67, 'jay2910': 'hardisk', ('Name',): 78, 'nirav': ['hardisk', 'keyboard', 'mouse'], 'sirish': ('hardisk', 'keyboard', 'mouse'), 'ITS': {'trainer': 'Jaysukh patel', 'codeno': 100}, 2: 'This is two'}\n",
      "{'name': 'john', 'code': 6734, 'dept': 'sales', 'manush': 89}\n"
     ]
    }
   ],
   "source": [
    "dict2 = {'name': 'john','code':6734, 'dept': 'sales'}\n",
    "\n",
    "\n",
    "print (dict1['one'])       # Prints value for 'one' key\n",
    "print (dict1[2])           # Prints value for 2 key\n",
    "print (dict2)          # Prints complete dictionary\n",
    "print (dict2.keys())   # Prints all the keys\n",
    "print (dict2.values()) # Prints all the values\n",
    "print (dict1.keys())   # Prints all the keys\n",
    "print (dict1.values()) # Prints all the values\n",
    "dict1['jay']=67\n",
    "dict2['manush']=89\n",
    "print(dict1)\n",
    "print(dict2)\n"
   ]
  },
  {
   "cell_type": "code",
   "execution_count": 5,
   "metadata": {},
   "outputs": [
    {
     "name": "stdout",
     "output_type": "stream",
     "text": [
      "{'jay': ['hardisk', 'keyboard', 'mouse'], 'kiran': ('hardisk', 'keyboard', 'mouse'), 'lalit': {'rollno': 1, 'sex': 'male'}}\n",
      "['hardisk', 'keyboard', 'mouse']\n",
      "hardisk\n",
      "keyboard\n",
      "mouse\n",
      "['hardisk', 'keyboard']\n",
      "['keyboard', 'mouse']\n",
      "('hardisk', 'keyboard', 'mouse')\n",
      "hardisk\n",
      "keyboard\n",
      "mouse\n",
      "('hardisk', 'keyboard')\n",
      "('keyboard', 'mouse')\n",
      "{'rollno': 1, 'sex': 'male'}\n",
      "1\n",
      "male\n"
     ]
    }
   ],
   "source": [
    "dic3={\"jay\":['hardisk','keyboard','mouse'],\"kiran\":('hardisk','keyboard','mouse'),\"lalit\":{\"rollno\":1,\"sex\":\"male\"}}\n",
    "print(dic3)\n",
    "print(dic3[\"jay\"])\n",
    "print(dic3[\"jay\"][0])\n",
    "print(dic3[\"jay\"][1])\n",
    "print(dic3[\"jay\"][2])\n",
    "print(dic3[\"jay\"][0:2])\n",
    "print(dic3[\"jay\"][1:3])\n",
    "print(dic3[\"kiran\"])\n",
    "print(dic3[\"kiran\"][0])\n",
    "print(dic3[\"kiran\"][1])\n",
    "print(dic3[\"kiran\"][2])\n",
    "print(dic3[\"kiran\"][0:2])\n",
    "print(dic3[\"kiran\"][1:3])\n",
    "print(dic3[\"lalit\"])\n",
    "print(dic3[\"lalit\"][\"rollno\"])\n",
    "print(dic3[\"lalit\"][\"sex\"])\n",
    "\n",
    "\n",
    "#t1=dic3[\"kiran\"]\n",
    "#t1[0]='hiren'"
   ]
  },
  {
   "cell_type": "markdown",
   "metadata": {},
   "source": [
    "# set"
   ]
  },
  {
   "cell_type": "markdown",
   "metadata": {},
   "source": [
    "1. It is just a sequence data structure like list,tuple and string.    \n",
    "2. Unorderd collection    \n",
    "3. No duplicates allowed    \n",
    "4. We can not retrive element by index like list tuple or string    \n",
    "5. It is mutable object so we can add or remove elements from it but we can not change or update any element from set.    \n",
    "6. It can contain only unique values.    \n",
    "\n",
    "#### Note :list and tuple--It can contains duplicate values and it is ordered collection"
   ]
  },
  {
   "cell_type": "code",
   "execution_count": 9,
   "metadata": {},
   "outputs": [
    {
     "name": "stdout",
     "output_type": "stream",
     "text": [
      "{'Pass', 'jaysukh', 23, 56, 'pass', 78.89}\n",
      "{'Pass', 'jaysukh', 23, 56, 'pass', 45, 78.89}\n",
      "{'Pass', 23, 56, 'pass', 45, 78.89}\n",
      "{'Pass', 67, 78.89, 23, 34, 45, 56, 'pass', 'jay'}\n",
      "{'Pass', 67, 78.89, 'y', 23, 34, 'a', 45, 'j', 56, 'pass', 'jay'}\n",
      "{'Pass', 67, 10, 78.89, 'y', 789, 23, 34, 'a', 45, 'j', 56, 'pass', 'jay'}\n",
      "{'Pass', 67, 10, 78.89, 'y', 789, 23, 34, 'a', 45, 'j', 56, 'pass', 'jay'}\n",
      "{'Pass', 67, 10, 78.89, 'y', 789, 23, 34, 'a', 45, 'kiran', 'j', 56, 'pass', 'jay'}\n",
      "{'Pass', 67, 10, 78.89, 'y', 789, 23, 34, 'a', 45, 'kiran', 'j', 56, (34, 67, 'jay'), 'pass', 'jay'}\n",
      "{'Pass', 67, 10, 78.89, 'y', 789, 23, 34, 'a', 45, 'kiran', 'j', 56, (34, 67, 'jay'), 'pass', 'jay'}\n"
     ]
    }
   ],
   "source": [
    "d1={}#empty dictionary\n",
    "d2=dict()#empty dictionary\n",
    "\n",
    "s1=set()#empty set\n",
    "\n",
    "l1=[]#empty list\n",
    "l2=list()#empty list\n",
    "\n",
    "t1=()#empty tuple\n",
    "t2=tuple()#empty tuple\n",
    "\n",
    "s1={\"jaysukh\",56,78.89,\"Pass\",23,23,23,23,23,\"jaysukh\",56,78.89,\"pass\"}\n",
    "print(s1)\n",
    "#print(s1[0])     #you can not perform this operation using index\n",
    "#s1[0]=\"kartik\"   #you can not perform this operation using index\n",
    "#print(s1)\n",
    "s1.add(45)\n",
    "print(s1)\n",
    "s1.remove(\"jaysukh\")\n",
    "print(s1)\n",
    "s1.update([34,67,\"jay\"])\n",
    "print(s1)\n",
    "s1.update(\"jay\")\n",
    "print(s1)\n",
    "s1.update((56,789,10))\n",
    "print(s1)\n",
    "s1.update(\"jay\")\n",
    "print(s1)\n",
    "s1.add(\"kiran\")\n",
    "print(s1)\n",
    "s1.add((34,67,\"jay\"))\n",
    "print(s1)\n",
    "s1.add(\"kiran\")\n",
    "print(s1)\n",
    "\n",
    "\n",
    "\n",
    "\n"
   ]
  },
  {
   "cell_type": "markdown",
   "metadata": {},
   "source": [
    "# Data Type Conversion"
   ]
  },
  {
   "cell_type": "markdown",
   "metadata": {},
   "source": [
    "built-in functions to perform conversion from one data type to another. \n",
    "\n",
    "These functions return a new object representing the converted value."
   ]
  },
  {
   "cell_type": "markdown",
   "metadata": {},
   "source": [
    "\n",
    "### Function & Description\n",
    "\n",
    "int(x)\n",
    "Converts x to an integer.  x is a string.\n",
    "\n",
    "float(x)\n",
    "Converts x to a floating-point number.\n",
    "\n",
    "str(x)\n",
    "Converts object x to a string representation.\n",
    "\n",
    "eval(str)\n",
    "Evaluates a string and returns an object.\n",
    "\n",
    "tuple(s)\n",
    "Converts s to a tuple.\n",
    "\n",
    "list(s)\n",
    "Converts s to a list.\n",
    "\n",
    "set(s)\n",
    "Converts s to a set.\n",
    "\n",
    "dict(d)\n",
    "Creates a dictionary. d must be a sequence of (key,value) tuples.\n",
    "\n",
    "chr(x)\n",
    "Converts an integer to a character.\n",
    "\n",
    "ord(x)\n",
    "Converts a single character to its integer value.\n"
   ]
  },
  {
   "cell_type": "code",
   "execution_count": 1,
   "metadata": {},
   "outputs": [
    {
     "name": "stdout",
     "output_type": "stream",
     "text": [
      "10\n",
      "23.4567\n",
      "113.4567\n",
      "113.4567\n",
      "('j', 'a', 'y', ' ', 'p', 'a', 't', 'e', 'l')\n",
      "['j', 'a', 'y', ' ', 'p', 'a', 't', 'e', 'l']\n",
      "{'y', 'e', 'p', 'j', 't', 'l', 'a', ' '}\n",
      "{'y', 'i', 'r', 'A', 'l', 'n', 't', 'h', 'a', ' ', 'K'}\n",
      "{'name': 'john', 'code': 6734, 'dept': 'sales'}\n",
      "a\n",
      "97\n"
     ]
    }
   ],
   "source": [
    "print(int('10'))\n",
    "print(float('23.4567'))\n",
    "print(eval('23.4567+45+45'))\n",
    "#print(eval(23.4567+45+45))#error\n",
    "print(23.4567+45+45)\n",
    "print(tuple('jay patel'))\n",
    "print(list('jay patel'))\n",
    "print(set('jay patel'))\n",
    "print(set('Aaryan Kalthia'))\n",
    "print(dict({'name': 'john','code':6734, 'dept': 'sales'}))\n",
    "print(chr(97))#ascii value\n",
    "print(ord('a'))\n",
    "#print(int('jaysukh patel'))"
   ]
  },
  {
   "cell_type": "markdown",
   "metadata": {},
   "source": [
    "# Operators In Python \n",
    "\n"
   ]
  },
  {
   "cell_type": "markdown",
   "metadata": {},
   "source": [
    "1. Arithmetic Operators\n",
    "2. Comparison (Relational) Operators\n",
    "3. Assignment Operators\n",
    "4. Logical Operators\n",
    "5. Membership Operators\n",
    "6. Identity Operators"
   ]
  },
  {
   "cell_type": "markdown",
   "metadata": {},
   "source": [
    "## Arithmetic Operators"
   ]
  },
  {
   "cell_type": "markdown",
   "metadata": {},
   "source": [
    "    Assume that\n",
    "    a=27\n",
    "    b=5\n",
    "\n",
    "    Addition c=a+b----------(32)\n",
    "    Subtraction c=a-b-------(22)\n",
    "    Multiplication c=a*b----(135)\n",
    "    Division c=a/b----------(5.4)\n",
    "    Floor division c=a//b---(5)\n",
    "    Modulus c=a%b-----------(2)\n",
    "    Exponent c=a**2---------(729)\n",
    "\n",
    "#### Note :\n",
    "    Floor Division - The division of operands where the result is the quotient in which the digits after the decimal point are removed. But if one of the operands is negative, the result is floored, i.e., rounded away from zero (towards negative infinity)\n",
    "    \n",
    "    9//2 = 4\n",
    "    9.0//2.0 = 4.0\n",
    "    -11//3 = -4\n",
    "    -11.0//3 = -4.0"
   ]
  },
  {
   "cell_type": "markdown",
   "metadata": {},
   "source": [
    "## Comparison Operators or Relational operators"
   ]
  },
  {
   "cell_type": "code",
   "execution_count": 5,
   "metadata": {},
   "outputs": [
    {
     "name": "stdout",
     "output_type": "stream",
     "text": [
      "False\n"
     ]
    }
   ],
   "source": [
    "print(34!=34)"
   ]
  },
  {
   "cell_type": "markdown",
   "metadata": {},
   "source": [
    "The comparison of two varable values will give you either result True or False \n",
    "    \n",
    "    ==   equal to\n",
    "    !=   not equal to\n",
    "    <>   not equal to\n",
    "    >    greater than\n",
    "    <    less than\n",
    "    >=   greater than or equal to\n",
    "    <=   less than or equal to"
   ]
  },
  {
   "cell_type": "markdown",
   "metadata": {},
   "source": [
    "## Assignment Operators"
   ]
  },
  {
   "cell_type": "markdown",
   "metadata": {},
   "source": [
    "    =       Assigns values from right side to left side (c=a+b)\n",
    "    +=      c += a is equivalent to c = c + a\n",
    "    -=      c -= a is equivalent to c = c - a\n",
    "    *=      c *= a is equivalent to c = c * a\n",
    "    /=      c /= a is equivalent to c = c / a\n",
    "    //=     c //= a is equivalent to c = c // a\n",
    "    %=      c %= a is equivalent to c = c % a\n",
    "    **=     c **= a is equivalent to c = c ** a"
   ]
  },
  {
   "cell_type": "markdown",
   "metadata": {},
   "source": [
    "## Logical Operators"
   ]
  },
  {
   "cell_type": "markdown",
   "metadata": {},
   "source": [
    "    and     All the conditions must be True then result is True\n",
    "    or      Any one condition must be True then result is True\n",
    "    not     If the condition is True It will give you False and vice versa"
   ]
  },
  {
   "cell_type": "markdown",
   "metadata": {},
   "source": [
    "## Membership Operators"
   ]
  },
  {
   "cell_type": "markdown",
   "metadata": {},
   "source": [
    "    It is used to check the particular element is present in the sequence data type like string,list,tuple or set\n",
    "    \n",
    "    It will give you result True or False\n",
    "    \n",
    "    in---------To check the element is present\n",
    "    not in-----To check the element is not present"
   ]
  },
  {
   "cell_type": "code",
   "execution_count": 6,
   "metadata": {},
   "outputs": [
    {
     "name": "stdout",
     "output_type": "stream",
     "text": [
      "False\n",
      "True\n",
      "True\n",
      "False\n"
     ]
    }
   ],
   "source": [
    "a = 2\n",
    "list1 = ['1', '2', '3', '4', '5' ]\n",
    "list2 = [1, 2, 3, 4, 5 ]\n",
    "\n",
    "print(a in list1)\n",
    "print(a in list2)\n",
    "print(a not in list1)\n",
    "print(a not in list2)"
   ]
  },
  {
   "cell_type": "code",
   "execution_count": 7,
   "metadata": {},
   "outputs": [
    {
     "data": {
      "text/plain": [
       "True"
      ]
     },
     "execution_count": 7,
     "metadata": {},
     "output_type": "execute_result"
    }
   ],
   "source": [
    "2 in (1,2,34,5)"
   ]
  },
  {
   "cell_type": "code",
   "execution_count": 8,
   "metadata": {},
   "outputs": [
    {
     "data": {
      "text/plain": [
       "False"
      ]
     },
     "execution_count": 8,
     "metadata": {},
     "output_type": "execute_result"
    }
   ],
   "source": [
    "\"pt\" in \"jaysukh patel\""
   ]
  },
  {
   "cell_type": "code",
   "execution_count": 9,
   "metadata": {},
   "outputs": [
    {
     "data": {
      "text/plain": [
       "True"
      ]
     },
     "execution_count": 9,
     "metadata": {},
     "output_type": "execute_result"
    }
   ],
   "source": [
    "[1,2,3] in [1,2,3,4,5,6,[1,2,3]]"
   ]
  },
  {
   "cell_type": "code",
   "execution_count": 10,
   "metadata": {},
   "outputs": [
    {
     "data": {
      "text/plain": [
       "True"
      ]
     },
     "execution_count": 10,
     "metadata": {},
     "output_type": "execute_result"
    }
   ],
   "source": [
    "34 in [1,2,34,5]"
   ]
  },
  {
   "cell_type": "markdown",
   "metadata": {},
   "source": [
    "## Identity Operators"
   ]
  },
  {
   "cell_type": "markdown",
   "metadata": {},
   "source": [
    "    Identity operators compare the address of the memory locations of two objects and it will give you either result True or False. \n",
    "\n",
    "    is       compares two object references or addresses(not values)\n",
    "    is not   compares two object references or addresses(not values)"
   ]
  },
  {
   "cell_type": "code",
   "execution_count": 11,
   "metadata": {},
   "outputs": [
    {
     "name": "stdout",
     "output_type": "stream",
     "text": [
      "2355440937552\n",
      "2355440937552\n",
      "True\n",
      "*******************************************************************************\n",
      "2355440937872\n",
      "2355440937872\n",
      "True\n",
      "True\n",
      "*******************************************************************************\n",
      "2355440937872\n",
      "2355440938192\n",
      "False\n",
      "True\n"
     ]
    }
   ],
   "source": [
    "a = 20\n",
    "b = 20\n",
    "p=10\n",
    "q=20\n",
    "r=p+q-20\n",
    "print(id(p))\n",
    "print(id(r))\n",
    "print(p is r)\n",
    "print('*'*79)\n",
    "print(id(a))\n",
    "print(id(b))\n",
    "print(a is b)\n",
    "print ( id(a) == id(b) )\n",
    "print('*'*79)  \n",
    "\n",
    "b = 30\n",
    "print(id(a))\n",
    "print(id(b))\n",
    "print( a is b )\n",
    "print ( a is not b )"
   ]
  },
  {
   "cell_type": "code",
   "execution_count": null,
   "metadata": {},
   "outputs": [],
   "source": [
    "#programs for arithmetic operators"
   ]
  }
 ],
 "metadata": {
  "kernelspec": {
   "display_name": "Python 3 (ipykernel)",
   "language": "python",
   "name": "python3"
  },
  "language_info": {
   "codemirror_mode": {
    "name": "ipython",
    "version": 3
   },
   "file_extension": ".py",
   "mimetype": "text/x-python",
   "name": "python",
   "nbconvert_exporter": "python",
   "pygments_lexer": "ipython3",
   "version": "3.9.7"
  }
 },
 "nbformat": 4,
 "nbformat_minor": 4
}
