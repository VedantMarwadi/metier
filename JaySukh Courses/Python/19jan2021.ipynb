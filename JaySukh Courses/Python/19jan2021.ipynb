{
 "cells": [
  {
   "cell_type": "code",
   "execution_count": 1,
   "metadata": {},
   "outputs": [
    {
     "name": "stdout",
     "output_type": "stream",
     "text": [
      "before swaping a =  56\n",
      "before swaping b =  89\n",
      "after swaping a =  89\n",
      "after swaping b =  56\n",
      "-------------------------------------------------------------------------------\n",
      " a =  89\n",
      " b =  56\n"
     ]
    }
   ],
   "source": [
    "def passbyvalue(a,b):\n",
    "    a,b=b,a\n",
    "    return a,b\n",
    "\n",
    "def passbyreference(a,b):\n",
    "     return b,a\n",
    "    \n",
    "    \n",
    "a=56\n",
    "b=89\n",
    "print(\"before swaping a = \",a)\n",
    "print(\"before swaping b = \",b)\n",
    "a,b=passbyreference(a,b)\n",
    "print(\"after swaping a = \",a)\n",
    "print(\"after swaping b = \",b)\n",
    "print(\"-\"*79)\n",
    "a=56\n",
    "b=89\n",
    "a,b=passbyvalue(a,b)\n",
    "print(\" a = \",a)\n",
    "print(\" b = \",b)\n"
   ]
  },
  {
   "cell_type": "markdown",
   "metadata": {},
   "source": [
    "# Function Arguments"
   ]
  },
  {
   "cell_type": "markdown",
   "metadata": {},
   "source": [
    "    You can call a function by using the following types of formal arguments −\n",
    "   \n",
    "    1. Required arguments\n",
    "    2. Keyword arguments\n",
    "    3. Default arguments\n",
    "    4. Variable-length arguments"
   ]
  },
  {
   "cell_type": "code",
   "execution_count": 3,
   "metadata": {},
   "outputs": [
    {
     "name": "stdout",
     "output_type": "stream",
     "text": [
      "My string\n",
      "jaysukh\n",
      "10\n",
      "10.56\n",
      "67.89\n",
      "23\n"
     ]
    }
   ],
   "source": [
    "# Function definition is here with required arguments\n",
    "def printanything( str ):\n",
    "    print (str)\n",
    "    \n",
    "# Now you can call printanything function\n",
    "printanything( str = \"My string\")#keyword argument\n",
    "printanything(\"jaysukh\")#positional or required argument\n",
    "printanything(10)#positional or required argument\n",
    "printanything(10.56)#positional or required argument\n",
    "printanything( str = 67.89)#keyword argument or required argument\n",
    "printanything( str = 23)#keyword argument or required argument\n",
    "#printanything()"
   ]
  },
  {
   "cell_type": "code",
   "execution_count": 7,
   "metadata": {},
   "outputs": [
    {
     "name": "stdout",
     "output_type": "stream",
     "text": [
      "Name:  miki\n",
      "Age  50\n",
      "Name:  miki\n",
      "Age  50\n",
      "Name:  miki\n",
      "Age  50\n",
      "Name:  50\n",
      "Age  miki\n"
     ]
    }
   ],
   "source": [
    "# Function definition is here with required arguments\n",
    "def printinfo( name, age ):\n",
    "   print (\"Name: \", name)\n",
    "   print (\"Age \", age)\n",
    "   \n",
    "\n",
    "# Now you can call printinfo function\n",
    "printinfo( age=50, name=\"miki\" )#keyword arguments\n",
    "printinfo( name=\"miki\",age=50  )#keyword arguments\n",
    "printinfo(\"miki\",50)#positional arguments\n",
    "printinfo(50,\"miki\")#positional arguments\n",
    "\n",
    "#printinfo()\n",
    "#printinfo(\"jay\")\n"
   ]
  },
  {
   "cell_type": "code",
   "execution_count": 11,
   "metadata": {},
   "outputs": [
    {
     "name": "stdout",
     "output_type": "stream",
     "text": [
      "Name:  miki\n",
      "Age  50\n",
      "Name:  miki\n",
      "Age  35\n",
      "Name:  miki\n",
      "Age  35\n",
      "Name:  jay\n",
      "Age  35\n",
      "Name:  34\n",
      "Age  35\n",
      "Name:  jay\n",
      "Age  45\n",
      "Name:  \n",
      "Age  35\n",
      "Name:  kiran\n",
      "Age  34\n",
      "Name:  kiran\n",
      "Age  34\n"
     ]
    }
   ],
   "source": [
    "# Function definition is here with default arguments\n",
    "#you must give default argument from right to left\n",
    "#function overloading or method overloading\n",
    "#several ways to call the same function is called function overloading\n",
    "\n",
    "def printinfo( name=\"jay\", age=35 ):#function with default arguments\n",
    "   print (\"Name: \", name)\n",
    "   print (\"Age \", age)\n",
    "   \n",
    "# Function definition is here\n",
    "#you must keep default arguments from right to left otherwise it will give error\n",
    "'''def printinfo2( name, age=67 ): #error-non-default argument follows default argument\n",
    "   print (\"Name: \", name)\n",
    "   print (\"Age \", age)'''\n",
    "\n",
    "\n",
    "# Now you can call printinfo function\n",
    "printinfo( age=50, name=\"miki\" )#keyword arguments\n",
    "printinfo( name=\"miki\" )#keyword arguments age=35\n",
    "printinfo( \"miki\" )#positional arguments age=35\n",
    "printinfo( )#name=jay age=35\n",
    "printinfo( 34 )#positional arguments name=34 age=35\n",
    "printinfo(age=\"45\")#keyword arguments name=\"jay\"\n",
    "printinfo(name=\"\")#keyword arguments age=35\n",
    "printinfo( \"kiran\",34 )#positional arguments\n",
    "\n",
    "printinfo2( \"kiran\",34 )#positional arguments It will give error\n",
    "\n",
    "\n"
   ]
  },
  {
   "cell_type": "code",
   "execution_count": 13,
   "metadata": {},
   "outputs": [
    {
     "name": "stdout",
     "output_type": "stream",
     "text": [
      "Output is: \n",
      "argument first  10\n",
      "()\n",
      "Output is: \n",
      "argument first  70\n",
      "(60, 50)\n",
      "60\n",
      "50\n",
      "Output is: \n",
      "argument first  jay\n",
      "('Kiran', 'Lalit', 'mayur', 45, 78, 23)\n",
      "Kiran\n",
      "Lalit\n",
      "mayur\n",
      "45\n",
      "78\n",
      "23\n",
      "Output is: \n",
      "argument first  12.34\n",
      "(67.45, 4.5, 6.7, 8.9, 54.5, 56, 78, 90)\n",
      "67.45\n",
      "4.5\n",
      "6.7\n",
      "8.9\n",
      "54.5\n",
      "56\n",
      "78\n",
      "90\n",
      "Output is: \n",
      "argument first  jay\n",
      "('kiran', 'lalit')\n",
      "kiran\n",
      "lalit\n",
      "Output is: \n",
      "argument first  jay\n",
      "('kiran', 'lalit', 'nilay', 'bharat', 'nirav')\n",
      "kiran\n",
      "lalit\n",
      "nilay\n",
      "bharat\n",
      "nirav\n"
     ]
    }
   ],
   "source": [
    "# Function definition is here variable no of arguments\n",
    "#It must be the last argument\n",
    "def printinfo(arg1,*a):\n",
    "   print (\"Output is: \")\n",
    "   print (\"argument first \",arg1)\n",
    "   print(a)\n",
    "   for var in a:\n",
    "      print (var)\n",
    "   \n",
    "\n",
    "# Now you can call printinfo function\n",
    "printinfo( 10 )#positional\n",
    "printinfo( 70, 60, 50 )#positional\n",
    "printinfo( \"jay\",\"Kiran\",\"Lalit\",\"mayur\",45,78,23 )\n",
    "\n",
    "printinfo( 12.34,67.45,4.5,6.7,8.9,54.5,56,78,90 )\n",
    "printinfo(\"jay\",\"kiran\",\"lalit\" )\n",
    "printinfo(\"jay\",\"kiran\",\"lalit\",\"nilay\",\"bharat\",\"nirav\" )\n",
    "\n"
   ]
  },
  {
   "cell_type": "code",
   "execution_count": 14,
   "metadata": {},
   "outputs": [
    {
     "name": "stdout",
     "output_type": "stream",
     "text": [
      "50\n",
      "33\n",
      "26\n",
      "20\n",
      "15\n",
      "164\n",
      "142\n",
      "118\n",
      "116\n",
      "129\n"
     ]
    }
   ],
   "source": [
    "#function with default arguments\n",
    "def add(a=10,b=10,c=10,d=10,e=10):\n",
    "    return a+b+c+d+e\n",
    "\n",
    "print(add())\n",
    "print(add(1,2))\n",
    "print(add(1,2,3))\n",
    "print(add(1,2,3,4))\n",
    "print(add(1,2,3,4,5))\n",
    "print(add(a=56,e=78))\n",
    "print(add(b=34,c=78))\n",
    "print(add(e=78))\n",
    "print(add(c=76))\n",
    "print(add(b=89))\n",
    "\n"
   ]
  },
  {
   "cell_type": "code",
   "execution_count": 15,
   "metadata": {},
   "outputs": [
    {
     "name": "stdout",
     "output_type": "stream",
     "text": [
      "0\n",
      "1\n",
      "3\n",
      "6\n",
      "10\n",
      "15\n",
      "165\n",
      "448\n"
     ]
    }
   ],
   "source": [
    "#example of variable length argument\n",
    "def add(*value):\n",
    "    sum=0\n",
    "    for no in value:\n",
    "        sum=sum+no\n",
    "    return sum\n",
    "print(add())\n",
    "print(add(1))\n",
    "print(add(1,2))\n",
    "print(add(1,2,3))\n",
    "print(add(1,2,3,4))\n",
    "print(add(1,2,3,4,5))\n",
    "print(add(1,2,3,4,5,6,77,67))\n",
    "print(add(4,5,6,6,7,7,6,65,43,3,3,23,2,2,2,2,2,2,2,67,34,4,5,56,6,7,77))"
   ]
  },
  {
   "cell_type": "markdown",
   "metadata": {},
   "source": [
    "### The Anonymous Functions or lambda functions"
   ]
  },
  {
   "cell_type": "markdown",
   "metadata": {},
   "source": [
    "    These functions are called anonymous because they are not declared in the standard manner by using the def keyword. \n",
    "    \n",
    "    You can use the lambda keyword to create small anonymous functions.\n",
    "    \n",
    "    lambda's are a one-line version of a function"
   ]
  },
  {
   "cell_type": "markdown",
   "metadata": {},
   "source": [
    "### Syntax"
   ]
  },
  {
   "cell_type": "markdown",
   "metadata": {},
   "source": [
    "    The syntax of lambda functions contains only a single statement, which is as follows −\n",
    "\n",
    "    lambda [arg1 [,arg2,.....argn]]:expression"
   ]
  },
  {
   "cell_type": "code",
   "execution_count": 16,
   "metadata": {},
   "outputs": [
    {
     "name": "stdout",
     "output_type": "stream",
     "text": [
      "Sums of two values  300\n",
      "power  32.0\n",
      "Value of total :  30\n",
      "Value of total :  40\n",
      "Value of power :  32.0\n",
      "Value of power :  9.0\n"
     ]
    }
   ],
   "source": [
    "import math\n",
    "#from math import pow\n",
    "def sumoftwo(arg1,arg2):\n",
    "     return  (arg1+arg2)\n",
    "\n",
    "def power(arg1,arg2):\n",
    "     return  math.pow(arg1,arg2)\n",
    "\n",
    "\n",
    "\n",
    "print(\"Sums of two values \",sumoftwo(100,200))\n",
    "print(\"power \",power(2,5))\n",
    "\n",
    "\n",
    "# Function definition is here\n",
    "sum = lambda arg1, arg2: arg1 + arg2\n",
    "\n",
    "p=lambda a,b:math.pow(a,b)\n",
    "\n",
    "# Now you can call sum as a function\n",
    "print (\"Value of total : \", sum( 10, 20 ))\n",
    "print (\"Value of total : \", sum( 20, 20 ))\n",
    "\n",
    "print (\"Value of power : \", p( 2, 5 ))\n",
    "print (\"Value of power : \", p( 3, 2 ))\n"
   ]
  },
  {
   "cell_type": "markdown",
   "metadata": {},
   "source": [
    "## Scope of Variables"
   ]
  },
  {
   "cell_type": "markdown",
   "metadata": {},
   "source": [
    "    There are two basic scopes of variables in Python −\n",
    "    \n",
    "        1. Global variables\n",
    "        2. Local variables"
   ]
  },
  {
   "cell_type": "code",
   "execution_count": 19,
   "metadata": {},
   "outputs": [
    {
     "name": "stdout",
     "output_type": "stream",
     "text": [
      "Inside the function :  300\n",
      "Outside the function :  0\n",
      "Inside the function :  30\n",
      "Outside the function :  0\n"
     ]
    }
   ],
   "source": [
    "# Function definition is here\n",
    "total=0 #global variable\n",
    "\n",
    "def sum( arg1, arg2 ):#local variable\n",
    "    total = arg1 + arg2 #local total\n",
    "    print (\"Inside the function : \", total)#local to sum--total\n",
    "    return total\n",
    "\n",
    "# Now you can call sum function\n",
    "sum( 100, 200 )\n",
    "print (\"Outside the function : \", total )#global total\n",
    "sum( 10, 20 )\n",
    "print (\"Outside the function : \", total )#global total\n"
   ]
  },
  {
   "cell_type": "code",
   "execution_count": 24,
   "metadata": {},
   "outputs": [
    {
     "name": "stdout",
     "output_type": "stream",
     "text": [
      "Inside the function local total :  30\n",
      "Outside the function global total :  30\n",
      "Inside the function global total : 110\n",
      "Outside the function global total :  30\n"
     ]
    }
   ],
   "source": [
    "total = 0 # This is global variable.\n",
    "# Function definition is here\n",
    "def sum( arg1, arg2 ):\n",
    "   # Add both the parameters and return them.\n",
    "   global total\n",
    "   total = arg1 + arg2 # Here total is local variable.\n",
    "   print (\"Inside the function local total : \", total)\n",
    "   return total\n",
    "\n",
    "def sum2():\n",
    "   # Add both the parameters and return them.\n",
    "   #global total\n",
    "   total = 10 + 100 # Here total is local variable.\n",
    "   print (\"Inside the function global total :\",total)\n",
    "   \n",
    "\n",
    "\n",
    "# Now you can call sum function\n",
    "sum( 10, 20 )\n",
    "print (\"Outside the function global total : \", total )\n",
    "sum2()\n",
    "print (\"Outside the function global total : \", total )\n",
    "\n",
    "\n"
   ]
  },
  {
   "cell_type": "code",
   "execution_count": null,
   "metadata": {},
   "outputs": [],
   "source": []
  }
 ],
 "metadata": {
  "kernelspec": {
   "display_name": "Python 3 (ipykernel)",
   "language": "python",
   "name": "python3"
  },
  "language_info": {
   "codemirror_mode": {
    "name": "ipython",
    "version": 3
   },
   "file_extension": ".py",
   "mimetype": "text/x-python",
   "name": "python",
   "nbconvert_exporter": "python",
   "pygments_lexer": "ipython3",
   "version": "3.9.7"
  }
 },
 "nbformat": 4,
 "nbformat_minor": 4
}
