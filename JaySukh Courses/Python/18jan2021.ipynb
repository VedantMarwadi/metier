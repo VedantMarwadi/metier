{
 "cells": [
  {
   "cell_type": "markdown",
   "metadata": {},
   "source": [
    "## Time Module"
   ]
  },
  {
   "cell_type": "markdown",
   "metadata": {},
   "source": [
    "### sleep(),ctime() function"
   ]
  },
  {
   "cell_type": "code",
   "execution_count": 1,
   "metadata": {},
   "outputs": [
    {
     "name": "stdout",
     "output_type": "stream",
     "text": [
      "Start : Sun Apr 23 09:42:53 2023\n",
      "End : Sun Apr 23 09:43:53 2023\n",
      "difference in time 60.002208948135376\n"
     ]
    }
   ],
   "source": [
    "import time\n",
    "t1=time.time()\n",
    "print (\"Start : %s\" % time.ctime())\n",
    "time.sleep(60)\n",
    "print (\"End : %s\" % time.ctime())\n",
    "t2=time.time()\n",
    "print('difference in time',t2-t1)\n"
   ]
  },
  {
   "cell_type": "markdown",
   "metadata": {},
   "source": [
    "# Python - Functions"
   ]
  },
  {
   "cell_type": "markdown",
   "metadata": {},
   "source": [
    "You can create your own function to perform any task.    \n",
    "It provides the code reusability.    \n",
    "It provides the modularity.    \n",
    "These functions are called user-defined functions.\n"
   ]
  },
  {
   "cell_type": "markdown",
   "metadata": {},
   "source": [
    "# Defining a Function"
   ]
  },
  {
   "cell_type": "markdown",
   "metadata": {},
   "source": [
    "### Syntax"
   ]
  },
  {
   "cell_type": "markdown",
   "metadata": {},
   "source": [
    "    def functionname( parameters ):\n",
    "       \"function_docstring\"\n",
    "       function_code\n",
    "       return [expression]"
   ]
  },
  {
   "cell_type": "markdown",
   "metadata": {},
   "source": [
    "### Calling a Function"
   ]
  },
  {
   "cell_type": "markdown",
   "metadata": {},
   "source": [
    "    Defining a function only gives it a name, specifies the parameters that are to be included in the function and structures the blocks of code.\n",
    "    \n",
    "    Once the basic structure of a function is finalized, you can execute it by calling it from another function or directly from the Python prompt. "
   ]
  },
  {
   "cell_type": "code",
   "execution_count": 2,
   "metadata": {},
   "outputs": [
    {
     "name": "stdout",
     "output_type": "stream",
     "text": [
      "30\n",
      "The sum is  112\n",
      "31.009999999999998\n",
      "JaysukhPatel\n",
      "Enter first number56\n",
      "Enter second number56\n",
      "112\n",
      "Enter first number56\n",
      "Enter second number56\n",
      "5656\n",
      "[1, 2, 3, 4, 5, 6]\n",
      "(1, 2, 3, 4, 5, 6)\n"
     ]
    }
   ],
   "source": [
    "###### make function to add two values\n",
    "\n",
    "# Function definition is here\n",
    "def addtwo(a,b): \n",
    "   \"add two values\"\n",
    "   return  a+b\n",
    "   \n",
    "#sum=lambda a,b:a+b\n",
    "\n",
    "# Now you can call addtwo function\n",
    "sum=addtwo(10,20)\n",
    "print(sum)\n",
    "print(\"The sum is \",addtwo(45,67))\n",
    "sum=addtwo(10.45,20.56)\n",
    "print(sum)\n",
    "sum=addtwo(\"Jaysukh\",\"Patel\")\n",
    "print(sum)\n",
    "p=int(input(\"Enter first number\"))\n",
    "q=int(input(\"Enter second number\"))\n",
    "sum=addtwo(p,q)\n",
    "print(sum)\n",
    "\n",
    "p=input(\"Enter first number\")\n",
    "q=input(\"Enter second number\")\n",
    "sum=addtwo(p,q)\n",
    "print(sum)\n",
    "sum=addtwo([1,2,3],[4,5,6])\n",
    "print(sum)\n",
    "sum=addtwo((1,2,3),(4,5,6))\n",
    "print(sum)\n",
    "\n",
    "\n"
   ]
  },
  {
   "cell_type": "code",
   "execution_count": 3,
   "metadata": {},
   "outputs": [
    {
     "name": "stdout",
     "output_type": "stream",
     "text": [
      "\n",
      "-------------------------------------------------------------------------------\n",
      "\n",
      "*******************************************************************************\n",
      "\n",
      "$$$$$$$$$$$$$$$$$$$$$$$$$$$$$$$$$$$$$$$$$$$$$$$$$$$$$$$$$$$$$$$$$$$$$$$$$$$$$$$\n",
      "\n",
      "@@@@@@@@@@@@@@@@@@@@@@@@@@@@@@@@@@@@@@@@@@@@@@@@@@@@@@@@@@@@@@@@@@@@@@@@@@@@@@@\n",
      "Enter any characcter&\n",
      "\n",
      "&&&&&&&&&&&&&&&&&&&&&&&&&&&&&&&&&&&&&&&&&&&&&&&&&&&&&&&&&&&&&&&&&&&&&&&&&&&&&&&\n",
      "\n",
      "-------------------------------------------------------------------------------\n",
      "\n",
      "0000000000000000000000000000000000000000000000000000000000000000000000000000000\n"
     ]
    }
   ],
   "source": [
    "#to print line\n",
    "def printline():\n",
    "    \"To print line\"\n",
    "    print()\n",
    "    for i in range(1,80):\n",
    "        print(\"-\",end=\"\")\n",
    "    print()\n",
    "\n",
    "'''pr=lambda :print()\n",
    "    for i in range(1,80):\n",
    "        print(\"-\",end=\"\")\n",
    "'''\n",
    "#to print line of specified character\n",
    "def printline2(ch):\n",
    "    \"To print line of characters\"\n",
    "    print()\n",
    "    for i in range(1,80):\n",
    "        print(ch,end=\"\")\n",
    "    print()\n",
    "\n",
    "printline()\n",
    "printline2('*')\n",
    "printline2('$')\n",
    "printline2('@')\n",
    "ch=input(\"Enter any characcter\")\n",
    "printline2(ch)\n",
    "printline()\n",
    "printline2('0')\n",
    "\n",
    "\n"
   ]
  },
  {
   "cell_type": "code",
   "execution_count": 4,
   "metadata": {},
   "outputs": [
    {
     "name": "stdout",
     "output_type": "stream",
     "text": [
      "Enter any no4567\n",
      "The sum of digit is  22\n"
     ]
    }
   ],
   "source": [
    "#function to do the sum of digit of a given number\n",
    "def sumofdigit(no):\n",
    "    sum=0\n",
    "    while(no>0):\n",
    "        rem=no%10\n",
    "        sum=sum+rem\n",
    "        no=no//10    #for quotiont\n",
    "    return sum\n",
    "\n",
    "\n",
    "no=int(input(\"Enter any no\"))\n",
    "sum=sumofdigit(no)\n",
    "print(\"The sum of digit is \",sum)\n",
    "\n"
   ]
  },
  {
   "cell_type": "code",
   "execution_count": 7,
   "metadata": {},
   "outputs": [
    {
     "name": "stdout",
     "output_type": "stream",
     "text": [
      "Enter any no45\n",
      "It is not prime\n"
     ]
    }
   ],
   "source": [
    "#Make a function to check the given no is prime or not\n",
    "def isprime(no):\n",
    "    flag=0\n",
    "    for i in range(2,no):\n",
    "        if no%i==0:\n",
    "            flag=1\n",
    "            break\n",
    "    if flag==0:\n",
    "        return True\n",
    "    else:\n",
    "        return False\n",
    "\n",
    "\n",
    "no=int(input(\"Enter any no\"))\n",
    "r=isprime(no)\n",
    "if(r):\n",
    "    print(\"It is prime\")\n",
    "else:\n",
    "    print(\"It is not prime\")\n",
    "\n",
    "\n"
   ]
  },
  {
   "cell_type": "code",
   "execution_count": 8,
   "metadata": {},
   "outputs": [
    {
     "name": "stdout",
     "output_type": "stream",
     "text": [
      "Enter any no23\n",
      "It is prime\n"
     ]
    }
   ],
   "source": [
    "#Make a function to check the given no is prime or not\n",
    "def isprime(no):\n",
    "    count=0\n",
    "    for i in range(1,no+1):\n",
    "        if no%i==0:\n",
    "            count=count+1\n",
    "            \n",
    "    if count<=2:\n",
    "        return True\n",
    "    else:\n",
    "        return False\n",
    "\n",
    "\n",
    "no=int(input(\"Enter any no\"))\n",
    "r=isprime(no)\n",
    "if(r):\n",
    "    print(\"It is prime\")\n",
    "else:\n",
    "    print(\"It is not prime\")\n",
    "\n"
   ]
  },
  {
   "cell_type": "code",
   "execution_count": 12,
   "metadata": {},
   "outputs": [
    {
     "name": "stdout",
     "output_type": "stream",
     "text": [
      "Enter any number407\n",
      "It is an armstrong\n"
     ]
    }
   ],
   "source": [
    "def isarmstrong(no):\n",
    "    temp=no\n",
    "    sum=0\n",
    "    while(no>0):\n",
    "        rem=no%10\n",
    "        sum=sum+rem**3\n",
    "        no=no//10    #for quotiont\n",
    "    if sum==temp:\n",
    "        return True\n",
    "    else:\n",
    "        return False\n",
    "\n",
    "no=int(input(\"Enter any number\"))\n",
    "r=isarmstrong(no)\n",
    "if r:\n",
    "    print(\"It is an armstrong\")\n",
    "else:\n",
    "    print(\"It is not an armstrong\")\n",
    "    "
   ]
  },
  {
   "cell_type": "code",
   "execution_count": 9,
   "metadata": {},
   "outputs": [
    {
     "name": "stdout",
     "output_type": "stream",
     "text": [
      "Enter no of lines25\n",
      "1 \n",
      "1 2 \n",
      "1 2 3 \n",
      "1 2 3 4 \n",
      "1 2 3 4 5 \n",
      "1 2 3 4 5 6 \n",
      "1 2 3 4 5 6 7 \n",
      "1 2 3 4 5 6 7 8 \n",
      "1 2 3 4 5 6 7 8 9 \n",
      "1 2 3 4 5 6 7 8 9 10 \n",
      "1 2 3 4 5 6 7 8 9 10 11 \n",
      "1 2 3 4 5 6 7 8 9 10 11 12 \n",
      "1 2 3 4 5 6 7 8 9 10 11 12 13 \n",
      "1 2 3 4 5 6 7 8 9 10 11 12 13 14 \n",
      "1 2 3 4 5 6 7 8 9 10 11 12 13 14 15 \n",
      "1 2 3 4 5 6 7 8 9 10 11 12 13 14 15 16 \n",
      "1 2 3 4 5 6 7 8 9 10 11 12 13 14 15 16 17 \n",
      "1 2 3 4 5 6 7 8 9 10 11 12 13 14 15 16 17 18 \n",
      "1 2 3 4 5 6 7 8 9 10 11 12 13 14 15 16 17 18 19 \n",
      "1 2 3 4 5 6 7 8 9 10 11 12 13 14 15 16 17 18 19 20 \n",
      "1 2 3 4 5 6 7 8 9 10 11 12 13 14 15 16 17 18 19 20 21 \n",
      "1 2 3 4 5 6 7 8 9 10 11 12 13 14 15 16 17 18 19 20 21 22 \n",
      "1 2 3 4 5 6 7 8 9 10 11 12 13 14 15 16 17 18 19 20 21 22 23 \n",
      "1 2 3 4 5 6 7 8 9 10 11 12 13 14 15 16 17 18 19 20 21 22 23 24 \n",
      "1 2 3 4 5 6 7 8 9 10 11 12 13 14 15 16 17 18 19 20 21 22 23 24 25 \n"
     ]
    }
   ],
   "source": [
    "def printpattern(no):\n",
    "    for i in range(1,no+1):\n",
    "        for j in range(1,i+1):\n",
    "            print(j,end=\" \")\n",
    "        print()\n",
    "\n",
    "no=int(input(\"Enter no of lines\"))\n",
    "printpattern(no)"
   ]
  },
  {
   "cell_type": "code",
   "execution_count": 11,
   "metadata": {},
   "outputs": [
    {
     "name": "stdout",
     "output_type": "stream",
     "text": [
      "Enter any no10\n",
      "100\n"
     ]
    }
   ],
   "source": [
    "def square(no):\n",
    "    return no*no\n",
    "\n",
    "#sq=lambda no:no*no\n",
    "no=int(input(\"Enter any no\"))\n",
    "r=square(no)\n",
    "print(r)\n",
    "#print(sq(10))"
   ]
  },
  {
   "cell_type": "code",
   "execution_count": 14,
   "metadata": {},
   "outputs": [
    {
     "name": "stdout",
     "output_type": "stream",
     "text": [
      "Enter any no1551\n",
      "It is pallendrome\n"
     ]
    }
   ],
   "source": [
    "def ispallendrome(no):\n",
    "    revno=0\n",
    "    temp=no\n",
    "    while no>0:\n",
    "        rem=no%10\n",
    "        revno=(revno*10)+rem\n",
    "        no=no//10\n",
    "    if revno==temp:\n",
    "        return True\n",
    "    else:\n",
    "        return False\n",
    "    \n",
    "\n",
    "no=int(input(\"Enter any no\"))\n",
    "r=ispallendrome(no)\n",
    "if r:\n",
    "    print(\"It is pallendrome\")\n",
    "else:\n",
    "    print(\"It is not a pallendrome\")\n",
    "    \n"
   ]
  },
  {
   "cell_type": "code",
   "execution_count": null,
   "metadata": {},
   "outputs": [],
   "source": []
  },
  {
   "cell_type": "code",
   "execution_count": null,
   "metadata": {},
   "outputs": [],
   "source": []
  }
 ],
 "metadata": {
  "kernelspec": {
   "display_name": "Python 3 (ipykernel)",
   "language": "python",
   "name": "python3"
  },
  "language_info": {
   "codemirror_mode": {
    "name": "ipython",
    "version": 3
   },
   "file_extension": ".py",
   "mimetype": "text/x-python",
   "name": "python",
   "nbconvert_exporter": "python",
   "pygments_lexer": "ipython3",
   "version": "3.9.7"
  }
 },
 "nbformat": 4,
 "nbformat_minor": 4
}
