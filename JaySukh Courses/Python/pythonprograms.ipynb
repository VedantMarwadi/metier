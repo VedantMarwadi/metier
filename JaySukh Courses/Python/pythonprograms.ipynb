{
 "cells": [
  {
   "cell_type": "code",
   "execution_count": 4,
   "metadata": {},
   "outputs": [
    {
     "name": "stdout",
     "output_type": "stream",
     "text": [
      "Enter Amount10000\n",
      "Enter Rate of Interest18\n",
      "Enter Duration2\n",
      "Amount  10000.0\n",
      "Rate  18.0\n",
      "Duration  2.0\n",
      "Intetest  3600.0\n"
     ]
    }
   ],
   "source": [
    "#To calculate simple interest\n",
    "amount=float(input(\"Enter Amount\"))\n",
    "rate=float(input(\"Enter Rate of Interest\"))\n",
    "duration=float(input(\"Enter Duration\"))\n",
    "interest=amount*rate*duration/100\n",
    "print(\"Amount \",amount)\n",
    "print(\"Rate \",rate)\n",
    "print(\"Duration \",duration)\n",
    "print(\"Intetest \",interest)\n"
   ]
  },
  {
   "cell_type": "code",
   "execution_count": 5,
   "metadata": {},
   "outputs": [
    {
     "name": "stdout",
     "output_type": "stream",
     "text": [
      "Enter Maths marsk56\n",
      "Enter Science marsk78\n",
      "Enter English marsk89\n",
      "Maths  56\n",
      "Science  78\n",
      "English  89\n",
      "Total  223\n",
      "Percentage  74.33333333333333\n"
     ]
    }
   ],
   "source": [
    "#To caluclate total and percentage of the student\n",
    "maths=int(input(\"Enter Maths marsk\"))\n",
    "sci=int(input(\"Enter Science marsk\"))\n",
    "eng=int(input(\"Enter English marsk\"))\n",
    "total=maths+sci+eng\n",
    "per=total/3\n",
    "print(\"Maths \",maths)\n",
    "print(\"Science \",sci)\n",
    "print(\"English \",eng)\n",
    "print(\"Total \",total)\n",
    "print(\"Percentage \",per)\n"
   ]
  },
  {
   "cell_type": "code",
   "execution_count": 6,
   "metadata": {},
   "outputs": [
    {
     "name": "stdout",
     "output_type": "stream",
     "text": [
      "Enter any Amount23889\n",
      "no of 2000 notes are  11\n",
      "no of 1000 notes are  1\n",
      "no of 500 notes are  1\n",
      "no of 100 notes are  3\n",
      "no of 50 notes are  1\n",
      "no of 20 notes are  1\n",
      "no of 10 notes are  1\n",
      "no of 5 notes are  1\n",
      "no of 1 notes are  4\n"
     ]
    }
   ],
   "source": [
    "#to print the no of notes of 2000,1000,500,100,50,20,10,5,1 from given amount\n",
    "#23889\n",
    "amount=int(input(\"Enter any Amount\"))\n",
    "\n",
    "q=amount//2000\n",
    "print(\"no of 2000 notes are \",q)\n",
    "amount=amount%2000\n",
    "#amount=amount-(q*2000)\n",
    "\n",
    "q=amount//1000\n",
    "print(\"no of 1000 notes are \",q)\n",
    "amount=amount%1000\n",
    "\n",
    "q=amount//500\n",
    "print(\"no of 500 notes are \",q)\n",
    "amount=amount%500\n",
    "\n",
    "q=amount//100\n",
    "print(\"no of 100 notes are \",q)\n",
    "amount=amount%100\n",
    "\n",
    "q=amount//50\n",
    "print(\"no of 50 notes are \",q)\n",
    "amount=amount%50\n",
    "\n",
    "q=amount//20\n",
    "print(\"no of 20 notes are \",q)\n",
    "amount=amount%20\n",
    "\n",
    "q=amount//10\n",
    "print(\"no of 10 notes are \",q)\n",
    "amount=amount%10\n",
    "\n",
    "q=amount//5\n",
    "print(\"no of 5 notes are \",q)\n",
    "amount=amount%5\n",
    "\n",
    "print(\"no of 1 notes are \",amount)\n",
    "\n",
    "\n",
    "\n",
    "\n",
    "\n",
    "\n",
    "\n",
    "\n",
    "\n"
   ]
  },
  {
   "cell_type": "code",
   "execution_count": null,
   "metadata": {},
   "outputs": [],
   "source": []
  }
 ],
 "metadata": {
  "kernelspec": {
   "display_name": "Python 3",
   "language": "python",
   "name": "python3"
  },
  "language_info": {
   "codemirror_mode": {
    "name": "ipython",
    "version": 3
   },
   "file_extension": ".py",
   "mimetype": "text/x-python",
   "name": "python",
   "nbconvert_exporter": "python",
   "pygments_lexer": "ipython3",
   "version": "3.8.3"
  }
 },
 "nbformat": 4,
 "nbformat_minor": 4
}
