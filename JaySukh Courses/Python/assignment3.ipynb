{
 "cells": [
  {
   "cell_type": "code",
   "execution_count": null,
   "id": "c1e44855",
   "metadata": {},
   "outputs": [],
   "source": [
    "#1. Write a program to find the sum of odd digit and sum of even digit of the given number \n",
    "#and also count the no of odd digit and no of even digit\n",
    "#for example no=345678\n",
    "#sum of odd digit is=3+5+7=15\n",
    "#sum of even digit is=4+6+8=18\n",
    "#no of odd digit is 3\n",
    "#no of even digit is 3\n",
    "\n"
   ]
  },
  {
   "cell_type": "code",
   "execution_count": null,
   "id": "882039a4",
   "metadata": {},
   "outputs": [],
   "source": [
    "#2. Take start no and end no from user \n",
    "#and print the nos between these two nos(startno and end no) those are divisible 5 or 7\n",
    "#for example startno=1 and endno=100\n",
    "#result will be 5,7,,10,14,15,21,35,70"
   ]
  },
  {
   "cell_type": "code",
   "execution_count": null,
   "id": "bc3e53f4",
   "metadata": {},
   "outputs": [],
   "source": [
    "#3.Write a program to find the factorial of given number by using reverse for loop\n",
    "#for example for i in range(100,0,-1) it will take the value of i from 100 to 1"
   ]
  },
  {
   "cell_type": "code",
   "execution_count": null,
   "id": "2688aedb",
   "metadata": {},
   "outputs": [],
   "source": [
    "#4.Take start no and end no from user \n",
    "#and print the armstrong nos(3 digits only) between these two nos(startno and end no)\n",
    "#for example startno=101 and endno=999\n",
    "#result will be 153,370,371,407"
   ]
  },
  {
   "cell_type": "code",
   "execution_count": null,
   "id": "de91386b",
   "metadata": {},
   "outputs": [],
   "source": [
    "#5.Take the value of n from user and print the nth(n must ne start with 0) term value of \n",
    "#fibbonacii series for example n=7 the result will be(0,1,1,2,3,5,8,13,21)---13 "
   ]
  }
 ],
 "metadata": {
  "kernelspec": {
   "display_name": "Python 3 (ipykernel)",
   "language": "python",
   "name": "python3"
  },
  "language_info": {
   "codemirror_mode": {
    "name": "ipython",
    "version": 3
   },
   "file_extension": ".py",
   "mimetype": "text/x-python",
   "name": "python",
   "nbconvert_exporter": "python",
   "pygments_lexer": "ipython3",
   "version": "3.9.7"
  }
 },
 "nbformat": 4,
 "nbformat_minor": 5
}
