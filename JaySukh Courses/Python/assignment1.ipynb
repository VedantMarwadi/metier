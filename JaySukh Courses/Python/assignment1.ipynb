{
 "cells": [
  {
   "cell_type": "code",
   "execution_count": 4,
   "metadata": {},
   "outputs": [
    {
     "name": "stdout",
     "output_type": "stream",
     "text": [
      "Enter Maths Marks56.78\n",
      "Enter Science Marks78.90\n",
      "Enter English Marks67.89\n",
      "Math =  56.78\n",
      "Science =  78.9\n",
      "English =  67.89\n",
      "Total =  203.57\n",
      "Percentage =  67.85666666666667\n"
     ]
    }
   ],
   "source": [
    "#Write a program to find the total and percentage of the student\n",
    "maths=int(input(\"Enter Maths Marks\"))\n",
    "sci=int(input(\"Enter Science Marks\"))\n",
    "eng=int(input(\"Enter English Marks\"))\n",
    "total=maths+sci+eng\n",
    "per=total/3\n",
    "print(\"Math = \",maths)\n",
    "print(\"Science = \",sci)\n",
    "print(\"English = \",eng)\n",
    "print(\"Total = \",total)\n",
    "print(\"Percentage = \",per)\n"
   ]
  },
  {
   "cell_type": "code",
   "execution_count": 5,
   "metadata": {},
   "outputs": [
    {
     "name": "stdout",
     "output_type": "stream",
     "text": [
      "Enter Amount20000\n",
      "Enter Rate of Interest18\n",
      "Enter Duration3\n",
      "Amount =  20000\n",
      "Rate Of Intetest =  18\n",
      "Duration =  3\n",
      "Interest =  10800.0\n"
     ]
    }
   ],
   "source": [
    "#Write a program to calculate simple interest\n",
    "#interest=p*r*n/100\n",
    "amount=int(input(\"Enter Amount\"))\n",
    "rate=int(input(\"Enter Rate of Interest\"))\n",
    "duration=int(input(\"Enter Duration\"))\n",
    "interest=amount*rate*duration/100\n",
    "print(\"Amount = \",amount)\n",
    "print(\"Rate Of Intetest = \",rate)\n",
    "print(\"Duration = \",duration)\n",
    "print(\"Interest = \",interest)\n"
   ]
  },
  {
   "cell_type": "code",
   "execution_count": 3,
   "metadata": {},
   "outputs": [
    {
     "name": "stdout",
     "output_type": "stream",
     "text": [
      "Enter any Amount28889\n",
      "No of notes of 2000 =  14\n",
      "No of notes of 500 =  1\n",
      "No of notes of 100 =  3\n",
      "No of notes of 50 =  1\n",
      "No of notes of 20 =  1\n",
      "No of notes of 10 =  1\n",
      "remaining amount =  9\n"
     ]
    }
   ],
   "source": [
    "#Write a program print the no of notes of 2000,500,100,50,20,10 from any amount\n",
    "#28889\n",
    "amount=int(input(\"Enter any Amount\"))\n",
    "no=amount//2000\n",
    "print(\"No of notes of 2000 = \",no)\n",
    "#amount=amount-(no*2000)\n",
    "amount=amount%2000\n",
    "\n",
    "no=amount//500\n",
    "print(\"No of notes of 500 = \",no)\n",
    "#amount=amount-(no*500)\n",
    "amount=amount%500\n",
    "\n",
    "no=amount//100\n",
    "print(\"No of notes of 100 = \",no)\n",
    "#amount=amount-(no*100)\n",
    "amount=amount%100\n",
    "\n",
    "no=amount//50\n",
    "print(\"No of notes of 50 = \",no)\n",
    "#amount=amount-(no*50)\n",
    "amount=amount%50\n",
    "\n",
    "no=amount//20\n",
    "print(\"No of notes of 20 = \",no)\n",
    "#amount=amount-(no*20)\n",
    "amount=amount%20\n",
    "\n",
    "no=amount//10\n",
    "print(\"No of notes of 10 = \",no)\n",
    "#amount=amount-(no*10)\n",
    "amount=amount%10\n",
    "\n",
    "\n",
    "print(\"remaining amount = \",amount)\n",
    "\n"
   ]
  },
  {
   "cell_type": "code",
   "execution_count": null,
   "metadata": {},
   "outputs": [],
   "source": [
    "#To find the circumference and area of circle\n",
    "#area=3.14*r*r(use exponent operator)\n",
    "#cir=2*3.14*r\n"
   ]
  },
  {
   "cell_type": "code",
   "execution_count": null,
   "metadata": {},
   "outputs": [],
   "source": [
    "#To find the area and perimeter of ractangel\n",
    "#area=l*b\n",
    "#per=2*(l+b)"
   ]
  },
  {
   "cell_type": "code",
   "execution_count": null,
   "metadata": {},
   "outputs": [],
   "source": [
    "#To convert temp in farenhit to celcius\n",
    "#c=5/9*(f-32)\n"
   ]
  },
  {
   "cell_type": "code",
   "execution_count": null,
   "metadata": {},
   "outputs": [],
   "source": [
    "#To convert temp in celcius to farenhit\n",
    "#f=9/5*c+32"
   ]
  },
  {
   "cell_type": "code",
   "execution_count": null,
   "metadata": {},
   "outputs": [],
   "source": [
    "#To find the area and perimeter of square\n",
    "#area=l*l\n",
    "#per=4*l"
   ]
  }
 ],
 "metadata": {
  "kernelspec": {
   "display_name": "Python 3 (ipykernel)",
   "language": "python",
   "name": "python3"
  },
  "language_info": {
   "codemirror_mode": {
    "name": "ipython",
    "version": 3
   },
   "file_extension": ".py",
   "mimetype": "text/x-python",
   "name": "python",
   "nbconvert_exporter": "python",
   "pygments_lexer": "ipython3",
   "version": "3.9.7"
  }
 },
 "nbformat": 4,
 "nbformat_minor": 4
}
