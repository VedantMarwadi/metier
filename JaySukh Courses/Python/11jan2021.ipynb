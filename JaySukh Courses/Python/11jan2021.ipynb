{
 "cells": [
  {
   "cell_type": "code",
   "execution_count": 1,
   "metadata": {},
   "outputs": [
    {
     "name": "stdout",
     "output_type": "stream",
     "text": [
      "Enter any no5\n",
      "The factorial is  120\n"
     ]
    }
   ],
   "source": [
    "#To find the factorial of a given number\n",
    "fact=1\n",
    "no=int(input(\"Enter any no\"))\n",
    "for i in range(1,no+1):\n",
    "    fact=fact*i\n",
    "print(\"The factorial is \",fact)\n"
   ]
  },
  {
   "cell_type": "code",
   "execution_count": 2,
   "metadata": {},
   "outputs": [
    {
     "name": "stdout",
     "output_type": "stream",
     "text": [
      "Enter any no5\n",
      "The factorial is  120\n"
     ]
    }
   ],
   "source": [
    "#To find the factorial of a given number\n",
    "fact=1\n",
    "no=int(input(\"Enter any no\"))\n",
    "for i in range(no,0,-1):\n",
    "    fact=fact*i\n",
    "print(\"The factorial is \",fact)"
   ]
  },
  {
   "cell_type": "code",
   "execution_count": 4,
   "metadata": {},
   "outputs": [
    {
     "name": "stdout",
     "output_type": "stream",
     "text": [
      "Enter start number1000\n",
      "Enter end number2000\n",
      "\n",
      " [1015, 1050, 1085, 1120, 1155, 1190, 1225, 1260, 1295, 1330, 1365, 1400, 1435, 1470, 1505, 1540, 1575, 1610, 1645, 1680, 1715, 1750, 1785, 1820, 1855, 1890, 1925, 1960, 1995]\n"
     ]
    }
   ],
   "source": [
    "#to print no between any start number and any end number that is divisible \n",
    "#5 and 7 and also store these all numbers into the list\n",
    "lst=[]\n",
    "stno=int(input(\"Enter start number\"))\n",
    "endno=int(input(\"Enter end number\"))\n",
    "for no in range(stno,endno+1):\n",
    "    if no%5==0 and no%7==0:\n",
    "        #print(no,end=\",\");\n",
    "        lst.append(no)\n",
    "print(\"\\n\",lst)\n"
   ]
  },
  {
   "cell_type": "code",
   "execution_count": 5,
   "metadata": {},
   "outputs": [
    {
     "name": "stdout",
     "output_type": "stream",
     "text": [
      "Enter no of terms15\n",
      "[0, 1, 1, 2, 3, 5, 8, 13, 21, 34, 55, 89, 144, 233, 377]\n"
     ]
    }
   ],
   "source": [
    "#to print the fibbonacci series\n",
    "#0 1 1 2 3 5 8 13 21 34\n",
    "i=-1\n",
    "j=1\n",
    "lst=[]\n",
    "no=int(input(\"Enter no of terms\"));\n",
    "for m in range(1,no+1):\n",
    "    k=i+j\n",
    "    #print(k,end=\",\")\n",
    "    lst.append(k)\n",
    "    i=j\n",
    "    j=k\n",
    "print(lst)"
   ]
  },
  {
   "cell_type": "code",
   "execution_count": 6,
   "metadata": {},
   "outputs": [
    {
     "name": "stdout",
     "output_type": "stream",
     "text": [
      "Enter any no1234\n",
      "1234  *  1  =  1234\n",
      "1234  *  2  =  2468\n",
      "1234  *  3  =  3702\n",
      "1234  *  4  =  4936\n",
      "1234  *  5  =  6170\n",
      "1234  *  6  =  7404\n",
      "1234  *  7  =  8638\n",
      "1234  *  8  =  9872\n",
      "1234  *  9  =  11106\n",
      "1234  *  10  =  12340\n"
     ]
    }
   ],
   "source": [
    "#to print the mutiplication table of  a given no\n",
    "no=int(input(\"Enter any no\"));\n",
    "for i in range(1,11):\n",
    "    print(no,\" * \",i,\" = \",no*i)\n",
    "\n",
    "    "
   ]
  },
  {
   "cell_type": "code",
   "execution_count": 7,
   "metadata": {},
   "outputs": [
    {
     "name": "stdout",
     "output_type": "stream",
     "text": [
      "Current Letter : P\n",
      "Current Letter : y\n",
      "Current Letter : t\n",
      "Current variable value : 10\n",
      "Current variable value : 9\n",
      "Current variable value : 8\n",
      "Current variable value : 7\n",
      "Current variable value : 6\n",
      "Good bye!\n"
     ]
    }
   ],
   "source": [
    "#use of break statement to terminate the loop\n",
    "for letter in 'Python':     \n",
    "   if letter == 'h':\n",
    "      break\n",
    "   print ('Current Letter :', letter)\n",
    "  \n",
    "var = 10                    \n",
    "while var > 0:              \n",
    "   print ('Current variable value :', var)\n",
    "   var = var -1\n",
    "   if var == 5:\n",
    "      break\n",
    "\n",
    "print (\"Good bye!\")\n"
   ]
  },
  {
   "cell_type": "code",
   "execution_count": 8,
   "metadata": {},
   "outputs": [
    {
     "name": "stdout",
     "output_type": "stream",
     "text": [
      "Current Letter : P\n",
      "Current Letter : y\n",
      "Current Letter : t\n",
      "Current Letter : o\n",
      "Current Letter : n\n",
      "Current Letter : r\n",
      "Current Letter : e\n",
      "Current Letter : u\n",
      "Current Letter : y\n",
      "Current variable value : 9\n",
      "Current variable value : 8\n",
      "Current variable value : 7\n",
      "Current variable value : 6\n",
      "Current variable value : 4\n",
      "Current variable value : 3\n",
      "Current variable value : 2\n",
      "Current variable value : 1\n",
      "Current variable value : 0\n",
      "Good bye!\n"
     ]
    }
   ],
   "source": [
    "#Use of continue statement to continue the loop for next iteration\n",
    "for letter in 'Pythonhrehuy':     \n",
    "   if letter == 'h':\n",
    "      continue\n",
    "   print ('Current Letter :', letter)\n",
    "\n",
    "var = 10                    \n",
    "while var > 0:              \n",
    "   var = var -1\n",
    "   if var == 5:\n",
    "      continue\n",
    "   print ('Current variable value :', var)\n",
    "print (\"Good bye!\")\n"
   ]
  },
  {
   "cell_type": "code",
   "execution_count": 9,
   "metadata": {},
   "outputs": [
    {
     "name": "stdout",
     "output_type": "stream",
     "text": [
      "*****\n",
      "*****\n",
      "*****\n",
      "*****\n",
      "*****\n"
     ]
    }
   ],
   "source": [
    "for i in range(1,6):\n",
    "   for j in range(1,6):\n",
    "      print('*',end=\"\")\n",
    "   print()"
   ]
  },
  {
   "cell_type": "code",
   "execution_count": 10,
   "metadata": {},
   "outputs": [
    {
     "name": "stdout",
     "output_type": "stream",
     "text": [
      "*\n",
      "**\n",
      "***\n",
      "****\n",
      "*****\n"
     ]
    }
   ],
   "source": [
    "for i in range(1,6):\n",
    "   for j in range(1,i+1):\n",
    "      print('*',end=\"\")\n",
    "   print()"
   ]
  },
  {
   "cell_type": "code",
   "execution_count": 11,
   "metadata": {},
   "outputs": [
    {
     "name": "stdout",
     "output_type": "stream",
     "text": [
      "1\n",
      "12\n",
      "123\n",
      "1234\n",
      "12345\n"
     ]
    }
   ],
   "source": [
    "for i in range(1,6):\n",
    "   for j in range(1,i+1):\n",
    "      print(j,end=\"\")\n",
    "   print()"
   ]
  },
  {
   "cell_type": "code",
   "execution_count": 12,
   "metadata": {},
   "outputs": [
    {
     "name": "stdout",
     "output_type": "stream",
     "text": [
      "1\n",
      "22\n",
      "333\n",
      "4444\n",
      "55555\n"
     ]
    }
   ],
   "source": [
    "for i in range(1,6):\n",
    "   for j in range(1,i+1):\n",
    "      print(i,end=\"\")\n",
    "   print()"
   ]
  },
  {
   "cell_type": "code",
   "execution_count": 13,
   "metadata": {},
   "outputs": [
    {
     "name": "stdout",
     "output_type": "stream",
     "text": [
      "1 \n",
      "2 3 \n",
      "4 5 6 \n",
      "7 8 9 10 \n",
      "11 12 13 14 15 \n"
     ]
    }
   ],
   "source": [
    "k=1\n",
    "for i in range(1,6):\n",
    "   for j in range(1,i+1):\n",
    "        print(k,end=\" \")\n",
    "        k=k+1\n",
    "   print()"
   ]
  },
  {
   "cell_type": "code",
   "execution_count": 14,
   "metadata": {},
   "outputs": [
    {
     "name": "stdout",
     "output_type": "stream",
     "text": [
      "54321\n",
      "5432\n",
      "543\n",
      "54\n",
      "5\n"
     ]
    }
   ],
   "source": [
    "\n",
    "for i in range(1,6):\n",
    "    for j in range(5,i-1,-1):\n",
    "        print(j,end=\"\")\n",
    "    print()\n",
    "\n",
    "    "
   ]
  },
  {
   "cell_type": "code",
   "execution_count": 1,
   "metadata": {},
   "outputs": [
    {
     "name": "stdout",
     "output_type": "stream",
     "text": [
      "54321\n",
      " 5432\n",
      "  543\n",
      "   54\n",
      "    5\n"
     ]
    }
   ],
   "source": [
    "for i in range(1,6,1):\n",
    "    for k in range(1,i,1):\n",
    "        print(' ',end=\"\")\n",
    "    for j in range(5,i-1,-1):\n",
    "        print(j,end='')\n",
    "    print()\n"
   ]
  },
  {
   "cell_type": "code",
   "execution_count": 2,
   "metadata": {},
   "outputs": [
    {
     "name": "stdout",
     "output_type": "stream",
     "text": [
      "12345\n",
      " 1234\n",
      "  123\n",
      "   12\n",
      "    1\n"
     ]
    }
   ],
   "source": [
    "for i in range(5,0,-1):\n",
    "    for k in range(i,5,1):\n",
    "        print(' ',end=\"\")\n",
    "    for j in range(1,i+1,1):\n",
    "        print(j,end=\"\")\n",
    "    print()\n"
   ]
  },
  {
   "cell_type": "code",
   "execution_count": 3,
   "metadata": {},
   "outputs": [
    {
     "name": "stdout",
     "output_type": "stream",
     "text": [
      "12345\n",
      " 2345\n",
      "  345\n",
      "   45\n",
      "    5\n"
     ]
    }
   ],
   "source": [
    "for i in range(1,6,1):\n",
    "    for k in range(1,i,1):\n",
    "        print(' ',end=\"\")\n",
    "    for j in range(i,6,1):\n",
    "        print(j,end=\"\")\n",
    "    print()\n"
   ]
  },
  {
   "cell_type": "code",
   "execution_count": 4,
   "metadata": {},
   "outputs": [
    {
     "name": "stdout",
     "output_type": "stream",
     "text": [
      "54321\n",
      " 4321\n",
      "  321\n",
      "   21\n",
      "    1\n"
     ]
    }
   ],
   "source": [
    "for i in range(5,0,-1):\n",
    "    for k in range(i,5,1):\n",
    "        print(' ',end=\"\")\n",
    "    for j in range(i,0,-1):\n",
    "        print(j,end=\"\")\n",
    "    print()"
   ]
  },
  {
   "cell_type": "code",
   "execution_count": 6,
   "metadata": {},
   "outputs": [
    {
     "name": "stdout",
     "output_type": "stream",
     "text": [
      "Good bye!\n",
      "9\n",
      "Good bye!\n",
      "n\n"
     ]
    }
   ],
   "source": [
    "#use of pass statement for empty loop(empty loop to provide time delay)\n",
    "for i in range(1,10): \n",
    "   pass\n",
    "print (\"Good bye!\")\n",
    "print(i)\n",
    "\n",
    "\n",
    "for letter in 'Python': \n",
    "   pass\n",
    "print (\"Good bye!\")\n",
    "print(letter)"
   ]
  },
  {
   "cell_type": "code",
   "execution_count": 7,
   "metadata": {},
   "outputs": [
    {
     "name": "stdout",
     "output_type": "stream",
     "text": [
      "12345\n",
      " 1234\n",
      "  123\n",
      "   12\n",
      "    1\n"
     ]
    }
   ],
   "source": [
    "k=0\n",
    "for i in range(5,0,-1):\n",
    "    print(\" \" * k, end=\"\")\n",
    "    k=k+1\n",
    "    for j in range(1,i+1):\n",
    "        print(j,end=\"\")\n",
    "    print()\n"
   ]
  },
  {
   "cell_type": "markdown",
   "metadata": {},
   "source": [
    "# Mathematical Functions"
   ]
  },
  {
   "cell_type": "code",
   "execution_count": 2,
   "metadata": {},
   "outputs": [
    {
     "name": "stdout",
     "output_type": "stream",
     "text": [
      "abs(-45) :  45\n",
      "abs(100.12) :  100.12\n",
      "abs(119L) :  119\n",
      "math.ceil(-45.99) :  -45\n",
      "math.ceil(100.12) :  101\n",
      "math.ceil(100.72) :  101\n",
      "math.ceil(119L) :  119\n",
      "math.ceil(math.pi) :  4\n",
      "math.exp(-45.57) :  2.4150062132629406e-20\n",
      "math.exp(100.12) :  3.0308436140742566e+43\n",
      "math.exp(100.72) :  5.522557130248187e+43\n",
      "math.exp(119L) :  4.797813327299302e+51\n",
      "math.exp(math.pi) :  23.140692632779267\n",
      "math.floor(-45.17) :  -46\n",
      "math.floor(100.12) :  100\n",
      "math.floor(100.72) :  100\n",
      "math.floor(119L) :  119\n",
      "math.floor(math.pi) :  3\n",
      "max(80, 100, 1000) :  1000\n",
      "max(-20, 100, 400) :  400\n",
      "max(-80, -20, -10) :  456\n",
      "max(0, 100, -400) :  100\n",
      "max(0, 100, -400) :  zay\n",
      "min(80, 100, 1000) :  34.56\n",
      "min(-20, 100, 400) :  -20\n",
      "min(-80, -20, -10) :  -80\n",
      "min(0, 100, -400) :  -400\n",
      "min(0, 100, -400) :  Amrish\n",
      "math.pow(100, 2) :  10000.0\n",
      "math.pow(100, -2) :  0.0001\n",
      "math.pow(2, 4) :  16.0\n",
      "math.pow(3, 0) :  1.0\n",
      "math.sqrt(100) :  10.0\n",
      "math.sqrt(7) :  2.6457513110645907\n",
      "math.sqrt(math.pi) :  1.7724538509055159\n"
     ]
    }
   ],
   "source": [
    "#Use of matemetical function\n",
    "#import math as m\n",
    "import math\n",
    "# This will import math module\n",
    "print (\"abs(-45) : \", abs(-45))\n",
    "print (\"abs(100.12) : \", abs(+100.12))\n",
    "print (\"abs(119L) : \", abs(119))\n",
    "\n",
    "\n",
    "\n",
    "print (\"math.ceil(-45.99) : \", math.ceil(-45.99))\n",
    "print (\"math.ceil(100.12) : \", math.ceil(100.12))\n",
    "print (\"math.ceil(100.72) : \", math.ceil(100.72))\n",
    "print (\"math.ceil(119L) : \", math.ceil(119))\n",
    "print (\"math.ceil(math.pi) : \", math.ceil(math.pi))\n",
    "\n",
    "\n",
    "\n",
    "print (\"math.exp(-45.57) : \", math.exp(-45.17))\n",
    "print (\"math.exp(100.12) : \", math.exp(100.12))\n",
    "print (\"math.exp(100.72) : \", math.exp(100.72))\n",
    "print (\"math.exp(119L) : \", math.exp(119))\n",
    "print (\"math.exp(math.pi) : \", math.exp(math.pi))\n",
    "\n",
    "\n",
    "\n",
    "print (\"math.floor(-45.17) : \", math.floor(-45.14))\n",
    "print (\"math.floor(100.12) : \", math.floor(100.12))\n",
    "print (\"math.floor(100.72) : \", math.floor(100.72))\n",
    "print (\"math.floor(119L) : \", math.floor(119))\n",
    "print (\"math.floor(math.pi) : \", math.floor(math.pi))\n",
    "\n",
    "print (\"max(80, 100, 1000) : \", max(80, 100, 1000,89,34.56))\n",
    "print (\"max(-20, 100, 400) : \", max(-20, 100, 400,74))\n",
    "print (\"max(-80, -20, -10) : \", max(-80, -20, -10,456))\n",
    "print (\"max(0, 100, -400) : \", max(0, 100, -400,86))\n",
    "print (\"max(0, 100, -400) : \", max(\"zay\",\"Amrish\",\"zarana\"))\n",
    "\n",
    "print (\"min(80, 100, 1000) : \", min(80, 100, 1000,89,34.56))\n",
    "print (\"min(-20, 100, 400) : \", min(-20, 100, 400,74))\n",
    "print (\"min(-80, -20, -10) : \", min(-80, -20, -10,456))\n",
    "print (\"min(0, 100, -400) : \", min(0, 100, -400,86))\n",
    "print (\"min(0, 100, -400) : \", min(\"zay\",\"Amrish\",\"zarana\"))\n",
    "\n",
    "print (\"math.pow(100, 2) : \", math.pow(100, 2))\n",
    "print (\"math.pow(100, -2) : \", math.pow(100, -2))\n",
    "print (\"math.pow(2, 4) : \", math.pow(2, 4))\n",
    "print (\"math.pow(3, 0) : \", math.pow(3, 0))\n",
    "\n",
    "print (\"math.sqrt(100) : \", math.sqrt(100))\n",
    "print (\"math.sqrt(7) : \", math.sqrt(7))\n",
    "print (\"math.sqrt(math.pi) : \", math.sqrt(math.pi))\n"
   ]
  },
  {
   "cell_type": "markdown",
   "metadata": {},
   "source": [
    "# Random Number Functions"
   ]
  },
  {
   "cell_type": "markdown",
   "metadata": {},
   "source": [
    "### Random numbers are used for games, simulations, testing, security, and privacy applications."
   ]
  },
  {
   "cell_type": "markdown",
   "metadata": {},
   "source": [
    "#### choice(seq)\n",
    "    A random item from a list, tuple, or string.\n",
    "\n",
    "#### randrange ([start,] stop [,step])\n",
    "    A randomly selected element from range(start, stop, step)\n",
    "\n",
    "#### random()\n",
    "    A random float r, such that 0 is less than or equal to r and r is less than 1\n",
    "\n",
    "#### seed([x])\n",
    "    Sets the integer starting value used in generating random numbers. Call this function before calling any other random module function. Returns None.\n",
    "\n",
    "#### shuffle(lst)\n",
    "    Randomizes the items of a list in place. Returns None.\n",
    "\n",
    "#### uniform(x, y)\n",
    "    A random float r, such that x is less than or equal to r and r is less than y\n"
   ]
  },
  {
   "cell_type": "code",
   "execution_count": 10,
   "metadata": {},
   "outputs": [
    {
     "name": "stdout",
     "output_type": "stream",
     "text": [
      "choice([1, 2, 3, 5, 9]) :  1\n",
      "choice('A String') :  r\n",
      "randrange(10,15) :  10\n",
      "randrange(10) :  7\n",
      "randrange(10, 20, 5) :  15\n",
      "randrange(10, 20, 3) :  19\n",
      "randrange(10, 20, 4) :  22\n",
      "random() :  0.7887233511355132\n",
      "random() :  0.0938595867742349\n",
      "random() :  28.34747652200631\n",
      "Random number with seed 10 :  0.13436424411240122\n",
      "Random number with seed 10 :  0.13436424411240122\n",
      "Random number with seed 10 :  0.13436424411240122\n",
      "Reshuffled list :  [788, 67, 2345, 45, 56, 20, 677, 3, 5, 89, 543, 567, 3, 12, 16, 34, 10]\n",
      "Reshuffled list :  [2345, 12, 543, 677, 56, 10, 3, 34, 788, 20, 67, 89, 45, 3, 567, 5, 16]\n",
      "Random Float uniform(5, 10) :  9.845203251470497\n",
      "Random Float uniform(7, 14) :  12.080968210125606\n",
      "random integer  9\n",
      "random integer  228\n"
     ]
    }
   ],
   "source": [
    "#use of random number functions\n",
    "import random as r\n",
    "\n",
    "print (\"choice([1, 2, 3, 5, 9]) : \", r.choice([1, 2, 3, 5, 9]))\n",
    "print (\"choice('A String') : \", r.choice('A String'))\n",
    "\n",
    "\n",
    "\n",
    "# default it will start from 0 and it will generate maximum no less then end \n",
    "#value\n",
    "#if step is given then it will skip that number to generate random number\n",
    "\n",
    "print (\"randrange(10,15) : \", r.randrange(10,15))\n",
    "print (\"randrange(10) : \", r.randrange(10))\n",
    "print (\"randrange(10, 20, 5) : \", r.randrange(10, 20,5))\n",
    "print (\"randrange(10, 20, 3) : \", r.randrange(10, 20,3))\n",
    "print (\"randrange(10, 20, 4) : \", r.randrange(10, 30,4))\n",
    "\n",
    "# First random number\n",
    "print (\"random() : \", r.random())#min=0 and max=1\n",
    "\n",
    "# Second random number\n",
    "print (\"random() : \", r.random())\n",
    "print (\"random() : \", r.random()*1000)\n",
    "\n",
    "\n",
    "r.seed(1)\n",
    "print (\"Random number with seed 10 : \", r.random())\n",
    "\n",
    "\n",
    "# It will generate same random number\n",
    "r.seed(1)\n",
    "print (\"Random number with seed 10 : \", r.random())\n",
    "\n",
    "# It will generate same random number\n",
    "r.seed(1)\n",
    "print (\"Random number with seed 10 : \", r.random())\n",
    "\n",
    "'''str=\"Jaysukh Patel\"\n",
    "r.shuffle(str)\n",
    "print(str)'''\n",
    "\n",
    "list = [20, 16, 10, 5,45,67,89,12,34,56,788,543,3,567,3,677,2345]\n",
    "r.shuffle(list)\n",
    "print (\"Reshuffled list : \",  list)\n",
    "\n",
    "r.shuffle(list)\n",
    "print (\"Reshuffled list : \",  list)\n",
    "\n",
    "#to generate floating point random number between the range\n",
    "print (\"Random Float uniform(5, 10) : \",  r.uniform(5, 10))\n",
    "print (\"Random Float uniform(7, 14) : \",  r.uniform(7, 14))\n",
    "\n",
    "\n",
    "print('random integer ',r.randint(1,10))\n",
    "print('random integer ',r.randint(1,1000))\n",
    "\n"
   ]
  },
  {
   "cell_type": "markdown",
   "metadata": {},
   "source": [
    "# Escape Characters"
   ]
  },
  {
   "cell_type": "markdown",
   "metadata": {},
   "source": [
    "escape or non-printable characters that can be represented with backslash notation.    \n",
    "\n",
    "new line character \\n\n",
    "    \n",
    "tab character \\t\n"
   ]
  },
  {
   "cell_type": "markdown",
   "metadata": {},
   "source": [
    "# String Special Operators"
   ]
  },
  {
   "cell_type": "markdown",
   "metadata": {},
   "source": [
    "#### r/R\n",
    "    Raw String - Suppresses actual meaning of Escape characters. The syntax for raw strings is exactly the same as for normal strings with the exception of the raw string operator, the letter \"r,\" which precedes the quotation marks. The \"r\" can be lowercase (r) or uppercase (R) and must be placed immediately preceding the first quote mark.\n",
    "    print r'\\n' prints \\n and print R'\\n'prints \\n\n",
    "\n",
    "#### %\n",
    "    Format - Performs String formatting\n",
    "\n"
   ]
  },
  {
   "cell_type": "markdown",
   "metadata": {},
   "source": [
    "# String Formatting Operator"
   ]
  },
  {
   "cell_type": "code",
   "execution_count": 15,
   "metadata": {},
   "outputs": [
    {
     "name": "stdout",
     "output_type": "stream",
     "text": [
      "Myname is jaysukh patel and weight is 68 kg!\n"
     ]
    }
   ],
   "source": [
    "print(\"Myname is {} and weight is {} kg!\".format('jaysukh patel',68))"
   ]
  },
  {
   "cell_type": "code",
   "execution_count": 23,
   "metadata": {},
   "outputs": [
    {
     "name": "stdout",
     "output_type": "stream",
     "text": [
      "My name is Jaysukh Patel and weight is 68 kg!\n"
     ]
    }
   ],
   "source": [
    "print (\"My name is %s and weight is %d kg!\" % ('Jaysukh Patel',68))"
   ]
  },
  {
   "cell_type": "code",
   "execution_count": null,
   "metadata": {},
   "outputs": [],
   "source": [
    "    %s\n",
    "    string conversion via str() prior to formatting\n",
    "\n",
    "    %i\n",
    "    signed decimal integer\n",
    "\n",
    "    %d\n",
    "    signed decimal integer\n",
    "\n",
    "    %f\n",
    "    floating point real number\n"
   ]
  },
  {
   "cell_type": "code",
   "execution_count": 27,
   "metadata": {},
   "outputs": [
    {
     "name": "stdout",
     "output_type": "stream",
     "text": [
      "\\\n",
      "'\n",
      "\"\n",
      "hello\n",
      "world\n",
      "\t\t\t* hello\n",
      "hello\\nworld\n",
      "hello\\nworld\n",
      "hello\\tworld\n",
      "hello\\tworld\n",
      "He said, \"What's there?\"\n",
      "He said, \"What's there?\"\n",
      "He said, \"What's there?\"\n",
      "He said, \"What's there?\"\n",
      "The value of x is         12.35\n",
      "The value of x is       12.3457\n",
      "        12.35\n",
      "                       12.3457\n",
      "        42\n",
      "42        \n",
      "Price: $             356.09\n",
      "this is a long string that is made up of\n",
      "several lines and non-printable characters such as\n",
      "TAB ( \\t ) and they will show up that way when displayed.\n",
      "NEWLINEs within the string, whether explicitly given like\n",
      "this within the brackets [ \\n ], or just a NEWLINE within\n",
      "the variable assignment will also show up.\n",
      "\n",
      "C:\\nowhere\n",
      "C:\\\\nowhere\n"
     ]
    }
   ],
   "source": [
    "print (\"\\\\\")            #Prints Backslash\n",
    "print (\"\\'\")            #Prints single-quote\n",
    "print(\"\\\"\")             #Pirnts double quote\n",
    "print(\"hello\\nworld\")   #ASCII linefeed ( LF )\n",
    "print(\"\\t\\t\\t* hello\")  #ASCII horizontal tab (TAB). Prints TAB\n",
    "print (r'hello\\nworld')\n",
    "print (R'hello\\nworld')\n",
    "print (r'hello\\tworld')\n",
    "print (R'hello\\tworld')\n",
    "\n",
    "# using triple quotes\n",
    "print('''He said, \"What's there?\"''')\n",
    "\n",
    "# using triple quotes\n",
    "print(\"\"\"He said, \\\"What's there?\\\"\"\"\")\n",
    "\n",
    "# escaping single quotes\n",
    "print('He said, \"What\\'s there?\"')\n",
    "\n",
    "# escaping double quotes\n",
    "print(\"He said, \\\"What's there?\\\"\")\n",
    "\n",
    "\n",
    "\n",
    "x = 12.34567896546757\n",
    "print('The value of x is %13.2f' %x)\n",
    "print('The value of x is %13.4f' %x)\n",
    "print('%13.2f' %x)\n",
    "print('%30.4f' %x)\n",
    "print(\"%10d\"% (42))\n",
    "print(\"%-10d\"% (42))\n",
    "s = \"Price: $ %18.2f\"% (356.08977)\n",
    "print(s)\n",
    "\n",
    "para_str =\"\"\"this is a long string that is made up of\n",
    "several lines and non-printable characters such as\n",
    "TAB ( \\t ) and they will show up that way when displayed.\n",
    "NEWLINEs within the string, whether explicitly given like\n",
    "this within the brackets [ \\n ], or just a NEWLINE within\n",
    "the variable assignment will also show up.\n",
    "\"\"\"\n",
    "print (para_str)\n",
    "\n",
    "print ('C:\\\\nowhere')\n",
    "print (r'C:\\\\nowhere')\n",
    "\n",
    "\n",
    "\n",
    " \n",
    "\n"
   ]
  },
  {
   "cell_type": "code",
   "execution_count": 14,
   "metadata": {},
   "outputs": [
    {
     "name": "stdout",
     "output_type": "stream",
     "text": [
      "Rollno   StudentName        StuAddress      Phonenumber\n",
      "12888    jaysukh patel      naranpura       353544345  \n",
      "123      kiran              isanpur         353545     \n",
      "1256     chirag             Bapunagar       353345     \n",
      "128      dhiren             Satelite        3535445    \n"
     ]
    }
   ],
   "source": [
    "print(\"Rollno   StudentName        StuAddress      Phonenumber\")\n",
    "print(\"%-8d %-18s %-15s %-11s\"%(12888,'jaysukh patel','naranpura','353544345'))\n",
    "print(\"%-8d %-18s %-15s %-11s\"%(123,'kiran','isanpur','353545'))\n",
    "print(\"%-8d %-18s %-15s %-11s\"%(1256,'chirag','Bapunagar','353345'))\n",
    "print(\"%-8d %-18s %-15s %-11s\"%(128,'dhiren','Satelite','3535445'))\n"
   ]
  },
  {
   "cell_type": "code",
   "execution_count": null,
   "metadata": {},
   "outputs": [],
   "source": []
  }
 ],
 "metadata": {
  "kernelspec": {
   "display_name": "Python 3 (ipykernel)",
   "language": "python",
   "name": "python3"
  },
  "language_info": {
   "codemirror_mode": {
    "name": "ipython",
    "version": 3
   },
   "file_extension": ".py",
   "mimetype": "text/x-python",
   "name": "python",
   "nbconvert_exporter": "python",
   "pygments_lexer": "ipython3",
   "version": "3.9.7"
  }
 },
 "nbformat": 4,
 "nbformat_minor": 4
}
